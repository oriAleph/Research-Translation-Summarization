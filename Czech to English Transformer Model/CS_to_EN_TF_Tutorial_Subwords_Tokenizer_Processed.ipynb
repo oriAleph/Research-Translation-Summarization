{
  "cells": [
    {
      "cell_type": "markdown",
      "metadata": {
        "id": "s_qNSzzyaCbD"
      },
      "source": [
        "##### Copyright 2019 The TensorFlow Authors."
      ]
    },
    {
      "cell_type": "code",
      "execution_count": null,
      "metadata": {
        "cellView": "form",
        "id": "jmjh290raIky"
      },
      "outputs": [],
      "source": [
        "#@title Licensed under the Apache License, Version 2.0 (the \"License\");\n",
        "# you may not use this file except in compliance with the License.\n",
        "# You may obtain a copy of the License at\n",
        "#\n",
        "# https://www.apache.org/licenses/LICENSE-2.0\n",
        "#\n",
        "# Unless required by applicable law or agreed to in writing, software\n",
        "# distributed under the License is distributed on an \"AS IS\" BASIS,\n",
        "# WITHOUT WARRANTIES OR CONDITIONS OF ANY KIND, either express or implied.\n",
        "# See the License for the specific language governing permissions and\n",
        "# limitations under the License."
      ]
    },
    {
      "cell_type": "markdown",
      "metadata": {
        "id": "AOpGoE2T-YXS"
      },
      "source": [
        "<table class=\"tfo-notebook-buttons\" align=\"left\">\n",
        "  <td>\n",
        "    <a target=\"_blank\" href=\"https://www.tensorflow.org/text/guide/subwords_tokenizer\"><img src=\"https://www.tensorflow.org/images/tf_logo_32px.png\" />View on TensorFlow.org</a>\n",
        "  </td>\n",
        "  <td>\n",
        "    <a target=\"_blank\" href=\"https://colab.research.google.com/github/tensorflow/text/blob/master/docs/guide/subwords_tokenizer.ipynb\"><img src=\"https://www.tensorflow.org/images/colab_logo_32px.png\" />Run in Google Colab</a>\n",
        "  </td>\n",
        "  <td>\n",
        "    <a target=\"_blank\" href=\"https://github.com/tensorflow/text/blob/master/docs/guide/subwords_tokenizer.ipynb\"><img src=\"https://www.tensorflow.org/images/GitHub-Mark-32px.png\" />View source on GitHub</a>\n",
        "  </td>\n",
        "  <td>\n",
        "    <a href=\"https://storage.googleapis.com/tensorflow_docs/text/docs/guide/subwords_tokenizer.ipynb\"><img src=\"https://www.tensorflow.org/images/download_logo_32px.png\" />Download notebook</a>\n",
        "  </td>\n",
        "</table>"
      ]
    },
    {
      "cell_type": "markdown",
      "metadata": {
        "id": "ES8iTKcdPCLt"
      },
      "source": [
        "# Subword tokenizers\n",
        "\n",
        "This tutorial demonstrates how to generate a subword vocabulary from a dataset, and use it to build a `text.BertTokenizer` from the vocabulary.\n",
        "\n",
        "The main advantage of a subword tokenizer is that it interpolates between word-based and character-based tokenization. Common words get a slot in the vocabulary, but the tokenizer can fall back to word pieces and individual characters for unknown words.\n",
        "\n",
        "Objective: At the end of this tutorial you'll have built a complete end-to-end wordpiece tokenizer and detokenizer from scratch, and saved it as a `saved_model` that you can load and use in this [translation tutorial](https://tensorflow.org/text/tutorials/transformer)."
      ]
    },
    {
      "cell_type": "markdown",
      "metadata": {
        "id": "BHfrtG1YPJdR"
      },
      "source": [
        "## Overview"
      ]
    },
    {
      "cell_type": "markdown",
      "metadata": {
        "id": "iIMuBnQO6ZoV"
      },
      "source": [
        "The `tensorflow_text` package includes TensorFlow implementations of many common tokenizers. This includes three subword-style tokenizers:\n",
        "\n",
        "* `text.BertTokenizer` - The `BertTokenizer` class is a higher level interface. It includes BERT's token splitting algorithm and a `WordPieceTokenizer`. It takes **sentences** as input and returns **token-IDs**.\n",
        "* `text.WordpieceTokenizer` - The `WordPieceTokenizer` class is a lower level interface. It only implements the [WordPiece algorithm](#applying_wordpiece). You must standardize and split the text into words before calling it. It takes **words** as input and returns token-IDs.\n",
        "* `text.SentencepieceTokenizer` - The `SentencepieceTokenizer` requires a more complex setup. Its initializer requires a pre-trained sentencepiece model. See the [google/sentencepiece repository](https://github.com/google/sentencepiece#train-sentencepiece-model) for instructions on how to build one of these models. It can accept **sentences** as input when tokenizing.\n",
        "\n",
        "This tutorial builds a Wordpiece vocabulary in a top down manner, starting from existing words. This process doesn't work for Japanese, Chinese, or Korean since these languages don't have clear multi-character units. To tokenize these languages consider using `text.SentencepieceTokenizer`, `text.UnicodeCharTokenizer` or [this approach](https://tfhub.dev/google/zh_segmentation/1). "
      ]
    },
    {
      "cell_type": "markdown",
      "metadata": {
        "id": "swymtxpl7W7w"
      },
      "source": [
        "## Setup"
      ]
    },
    {
      "cell_type": "code",
      "execution_count": null,
      "metadata": {
        "id": "rJTYbk1E9QOk",
        "colab": {
          "base_uri": "https://localhost:8080/"
        },
        "outputId": "5654009f-573f-4fb9-86b6-41297cf4a07e"
      },
      "outputs": [
        {
          "output_type": "stream",
          "name": "stdout",
          "text": [
            "\u001b[K     |████████████████████████████████| 4.9 MB 4.8 MB/s \n",
            "\u001b[K     |████████████████████████████████| 497.9 MB 33 kB/s \n",
            "\u001b[K     |████████████████████████████████| 1.4 MB 56.1 MB/s \n",
            "\u001b[K     |████████████████████████████████| 462 kB 66.1 MB/s \n",
            "\u001b[K     |████████████████████████████████| 5.8 MB 49.4 MB/s \n",
            "\u001b[?25h"
          ]
        }
      ],
      "source": [
        "!pip install -q -U \"tensorflow-text==2.8.*\""
      ]
    },
    {
      "cell_type": "code",
      "execution_count": null,
      "metadata": {
        "id": "XFG0NDRu5mYQ"
      },
      "outputs": [],
      "source": [
        "!pip install -q tensorflow_datasets"
      ]
    },
    {
      "cell_type": "code",
      "execution_count": null,
      "metadata": {
        "id": "JjJJyJTZYebt"
      },
      "outputs": [],
      "source": [
        "import collections\n",
        "import os\n",
        "import pathlib\n",
        "import re\n",
        "import string\n",
        "import sys\n",
        "import tempfile\n",
        "import time\n",
        "\n",
        "import numpy as np\n",
        "import matplotlib.pyplot as plt\n",
        "\n",
        "import tensorflow_datasets as tfds\n",
        "import tensorflow_text as text\n",
        "import tensorflow as tf"
      ]
    },
    {
      "cell_type": "code",
      "execution_count": null,
      "metadata": {
        "id": "QZi9RstHxO_Z"
      },
      "outputs": [],
      "source": [
        "tf.get_logger().setLevel('ERROR')\n",
        "pwd = pathlib.Path.cwd()"
      ]
    },
    {
      "cell_type": "markdown",
      "metadata": {
        "id": "wzJbGA5N5mXr"
      },
      "source": [
        "## Download the dataset"
      ]
    },
    {
      "cell_type": "markdown",
      "metadata": {
        "id": "kC9TeTd47j8p"
      },
      "source": [
        "Fetch the Portuguese/English translation dataset from [tfds](https://tensorflow.org/datasets):"
      ]
    },
    {
      "cell_type": "code",
      "source": [
        "!unzip dev.zip\n",
        "!unzip training-parallel-nc-v13.zip"
      ],
      "metadata": {
        "colab": {
          "base_uri": "https://localhost:8080/"
        },
        "id": "5r-Tlo177nem",
        "outputId": "ad0b8229-733b-4eeb-b8d7-da0bdba24cda"
      },
      "execution_count": null,
      "outputs": [
        {
          "output_type": "stream",
          "name": "stdout",
          "text": [
            "Archive:  dev.zip\n",
            "   creating: dev/\n",
            "  inflating: __MACOSX/._dev          \n",
            "  inflating: dev/newstest2011-src.en.sgm  \n",
            "  inflating: __MACOSX/dev/._newstest2011-src.en.sgm  \n",
            "  inflating: dev/newstest2018-deen-ref.en.sgm  \n",
            "  inflating: __MACOSX/dev/._newstest2018-deen-ref.en.sgm  \n",
            "  inflating: dev/newstest2018-enzh-ref.zh.sgm  \n",
            "  inflating: __MACOSX/dev/._newstest2018-enzh-ref.zh.sgm  \n",
            "  inflating: dev/news-test2008-ref.de.sgm  \n",
            "  inflating: __MACOSX/dev/._news-test2008-ref.de.sgm  \n",
            "  inflating: dev/newsdev2018-eten-ref.en.sgm  \n",
            "  inflating: __MACOSX/dev/._newsdev2018-eten-ref.en.sgm  \n",
            "  inflating: dev/euelections_dev2019.fr-de.src.fr  \n",
            "  inflating: __MACOSX/dev/._euelections_dev2019.fr-de.src.fr  \n",
            "  inflating: dev/newsdev2019-kken-ref.en.sgm  \n",
            "  inflating: __MACOSX/dev/._newsdev2019-kken-ref.en.sgm  \n",
            "  inflating: dev/newstest2018-ruen-src.ru.sgm  \n",
            "  inflating: __MACOSX/dev/._newstest2018-ruen-src.ru.sgm  \n",
            "  inflating: dev/newstest2012.en     \n",
            "  inflating: __MACOSX/dev/._newstest2012.en  \n",
            "  inflating: dev/newstest2016-deen-src.de.sgm  \n",
            "  inflating: __MACOSX/dev/._newstest2016-deen-src.de.sgm  \n",
            "  inflating: dev/newstest2016-tren-ref.en.sgm  \n",
            "  inflating: __MACOSX/dev/._newstest2016-tren-ref.en.sgm  \n",
            "  inflating: dev/newstest2016-enro-ref.ro.sgm  \n",
            "  inflating: __MACOSX/dev/._newstest2016-enro-ref.ro.sgm  \n",
            "  inflating: dev/newsdev2014.hi      \n",
            "  inflating: __MACOSX/dev/._newsdev2014.hi  \n",
            "  inflating: dev/newstest2012-src.de.sgm  \n",
            "  inflating: __MACOSX/dev/._newstest2012-src.de.sgm  \n",
            "  inflating: dev/newstest2013-ref.es.sgm  \n",
            "  inflating: __MACOSX/dev/._newstest2013-ref.es.sgm  \n",
            "  inflating: dev/newstestB2017-fien-src.fi.sgm  \n",
            "  inflating: __MACOSX/dev/._newstestB2017-fien-src.fi.sgm  \n",
            "  inflating: dev/newstest2009-ref.en.sgm  \n",
            "  inflating: __MACOSX/dev/._newstest2009-ref.en.sgm  \n",
            "  inflating: dev/newstest2018-zhen-src.zh.sgm  \n",
            "  inflating: __MACOSX/dev/._newstest2018-zhen-src.zh.sgm  \n",
            "  inflating: dev/newstest2017-enru-ref.ru.sgm  \n",
            "  inflating: __MACOSX/dev/._newstest2017-enru-ref.ru.sgm  \n",
            "  inflating: dev/newssyscomb2009-src.it.sgm  \n",
            "  inflating: __MACOSX/dev/._newssyscomb2009-src.it.sgm  \n",
            "  inflating: dev/newstest2017-zhen-src.zh.sgm  \n",
            "  inflating: __MACOSX/dev/._newstest2017-zhen-src.zh.sgm  \n",
            "  inflating: dev/newsdev2015-fien-ref.en.sgm  \n",
            "  inflating: __MACOSX/dev/._newsdev2015-fien-ref.en.sgm  \n",
            "  inflating: dev/newstest2018-enru-ref.ru.sgm  \n",
            "  inflating: __MACOSX/dev/._newstest2018-enru-ref.ru.sgm  \n",
            "  inflating: dev/newstest2014-ruen-ref.en.sgm  \n",
            "  inflating: __MACOSX/dev/._newstest2014-ruen-ref.en.sgm  \n",
            "  inflating: dev/newstest2015-fien-src.fi.sgm  \n",
            "  inflating: __MACOSX/dev/._newstest2015-fien-src.fi.sgm  \n",
            "  inflating: dev/newstest2009-src.xx.sgm  \n",
            "  inflating: __MACOSX/dev/._newstest2009-src.xx.sgm  \n",
            "  inflating: dev/newstest2011-ref.cs.sgm  \n",
            "  inflating: __MACOSX/dev/._newstest2011-ref.cs.sgm  \n",
            "  inflating: dev/newstest2009.de     \n",
            "  inflating: __MACOSX/dev/._newstest2009.de  \n",
            "  inflating: dev/euelections_dev2019.de-fr.tgt.fr  \n",
            "  inflating: __MACOSX/dev/._euelections_dev2019.de-fr.tgt.fr  \n",
            "  inflating: dev/newstest2009-src.cs.sgm  \n",
            "  inflating: __MACOSX/dev/._newstest2009-src.cs.sgm  \n",
            "  inflating: dev/newsdiscussdev2015-enfr-ref.fr.sgm  \n",
            "  inflating: __MACOSX/dev/._newsdiscussdev2015-enfr-ref.fr.sgm  \n",
            "  inflating: dev/newstest2017-enzh-ref.zh.sgm  \n",
            "  inflating: __MACOSX/dev/._newstest2017-enzh-ref.zh.sgm  \n",
            "  inflating: dev/newstest2012.es     \n",
            "  inflating: __MACOSX/dev/._newstest2012.es  \n",
            "  inflating: dev/newstest2017-deen-ref.en.sgm  \n",
            "  inflating: __MACOSX/dev/._newstest2017-deen-ref.en.sgm  \n",
            "  inflating: dev/newsdev2016-enro-src.en.sgm  \n",
            "  inflating: __MACOSX/dev/._newsdev2016-enro-src.en.sgm  \n",
            "  inflating: dev/newssyscomb2009-src.de.sgm  \n",
            "  inflating: __MACOSX/dev/._newssyscomb2009-src.de.sgm  \n",
            "  inflating: dev/newstest2017-ruen-src.ru.sgm  \n",
            "  inflating: __MACOSX/dev/._newstest2017-ruen-src.ru.sgm  \n",
            "  inflating: dev/newstest2010-ref.fr.sgm  \n",
            "  inflating: __MACOSX/dev/._newstest2010-ref.fr.sgm  \n",
            "  inflating: dev/newstest2012.fr     \n",
            "  inflating: __MACOSX/dev/._newstest2012.fr  \n",
            "  inflating: dev/newstest2016-enfi-ref.fi.sgm  \n",
            "  inflating: __MACOSX/dev/._newstest2016-enfi-ref.fi.sgm  \n",
            "  inflating: dev/newsdiscusstest2015-fren-ref.en.sgm  \n",
            "  inflating: __MACOSX/dev/._newsdiscusstest2015-fren-ref.en.sgm  \n",
            "  inflating: dev/newstest2014-deen-src.en.sgm  \n",
            "  inflating: __MACOSX/dev/._newstest2014-deen-src.en.sgm  \n",
            "  inflating: dev/newstest2009-ref.fr.sgm  \n",
            "  inflating: __MACOSX/dev/._newstest2009-ref.fr.sgm  \n",
            "  inflating: dev/newssyscomb2009-src.hu.sgm  \n",
            "  inflating: __MACOSX/dev/._newssyscomb2009-src.hu.sgm  \n",
            "  inflating: dev/newstest2016-ende-src.en.sgm  \n",
            "  inflating: __MACOSX/dev/._newstest2016-ende-src.en.sgm  \n",
            "  inflating: dev/newstest2016-entr-ref.tr.sgm  \n",
            "  inflating: __MACOSX/dev/._newstest2016-entr-ref.tr.sgm  \n",
            "  inflating: dev/newstest2010-src.cs.sgm  \n",
            "  inflating: __MACOSX/dev/._newstest2010-src.cs.sgm  \n",
            "  inflating: dev/newstest2018-eten-src.et.sgm  \n",
            "  inflating: __MACOSX/dev/._newstest2018-eten-src.et.sgm  \n",
            "  inflating: dev/newstest2014-ruen-ref.ru.sgm  \n",
            "  inflating: __MACOSX/dev/._newstest2014-ruen-ref.ru.sgm  \n",
            "  inflating: dev/newsdev2019-lten-ref.en.sgm  \n",
            "  inflating: __MACOSX/dev/._newsdev2019-lten-ref.en.sgm  \n",
            "  inflating: dev/newssyscomb2009.cs  \n",
            "  inflating: __MACOSX/dev/._newssyscomb2009.cs  \n",
            "  inflating: dev/newstest2018-enfi-src.en.sgm  \n",
            "  inflating: __MACOSX/dev/._newstest2018-enfi-src.en.sgm  \n",
            "  inflating: dev/news-test2008.de    \n",
            "  inflating: __MACOSX/dev/._news-test2008.de  \n",
            "  inflating: dev/newstest2013.es     \n",
            "  inflating: __MACOSX/dev/._newstest2013.es  \n",
            "  inflating: dev/newstest2018-ende-ref.de.sgm  \n",
            "  inflating: __MACOSX/dev/._newstest2018-ende-ref.de.sgm  \n",
            "  inflating: dev/newssyscomb2009-src.es.sgm  \n",
            "  inflating: __MACOSX/dev/._newssyscomb2009-src.es.sgm  \n",
            "  inflating: dev/newstest2014-csen-ref.en.sgm  \n",
            "  inflating: __MACOSX/dev/._newstest2014-csen-ref.en.sgm  \n",
            "  inflating: dev/newstest2013.fr     \n",
            "  inflating: __MACOSX/dev/._newstest2013.fr  \n",
            "  inflating: dev/newstest2016-roen-ref.en.sgm  \n",
            "  inflating: __MACOSX/dev/._newstest2016-roen-ref.en.sgm  \n",
            "  inflating: dev/newstest2011-src.fr.sgm  \n",
            "  inflating: __MACOSX/dev/._newstest2011-src.fr.sgm  \n",
            "  inflating: dev/newstest2017-ende-ref.de.sgm  \n",
            "  inflating: __MACOSX/dev/._newstest2017-ende-ref.de.sgm  \n",
            "  inflating: dev/newstest2017-enfi-src.en.sgm  \n",
            "  inflating: __MACOSX/dev/._newstest2017-enfi-src.en.sgm  \n",
            "  inflating: dev/newstest2010-ref.en.sgm  \n",
            "  inflating: __MACOSX/dev/._newstest2010-ref.en.sgm  \n",
            "  inflating: dev/newstest2017-enlv-ref.lv.sgm  \n",
            "  inflating: __MACOSX/dev/._newstest2017-enlv-ref.lv.sgm  \n",
            "  inflating: dev/news-test2008-ref.es.sgm  \n",
            "  inflating: __MACOSX/dev/._news-test2008-ref.es.sgm  \n",
            "  inflating: dev/newstest2013.en     \n",
            "  inflating: __MACOSX/dev/._newstest2013.en  \n",
            "  inflating: dev/newstest2014-csen-src.cs.sgm  \n",
            "  inflating: __MACOSX/dev/._newstest2014-csen-src.cs.sgm  \n",
            "  inflating: dev/news-test2008-ref.hu.sgm  \n",
            "  inflating: __MACOSX/dev/._news-test2008-ref.hu.sgm  \n",
            "  inflating: dev/newstest2012-src.es.sgm  \n",
            "  inflating: __MACOSX/dev/._newstest2012-src.es.sgm  \n",
            "  inflating: dev/newsdev2016-roen-src.ro.sgm  \n",
            "  inflating: __MACOSX/dev/._newsdev2016-roen-src.ro.sgm  \n",
            "  inflating: dev/newsdev2014-src.hi.sgm  \n",
            "  inflating: __MACOSX/dev/._newsdev2014-src.hi.sgm  \n",
            "  inflating: dev/newstest2013-ref.de.sgm  \n",
            "  inflating: __MACOSX/dev/._newstest2013-ref.de.sgm  \n",
            "  inflating: dev/newsdev2014-src.en.sgm  \n",
            "  inflating: __MACOSX/dev/._newsdev2014-src.en.sgm  \n",
            "  inflating: dev/newstest2017-lven-src.lv.sgm  \n",
            "  inflating: __MACOSX/dev/._newstest2017-lven-src.lv.sgm  \n",
            "  inflating: dev/newsdev2019-guen-src.gu.sgm  \n",
            "  inflating: __MACOSX/dev/._newsdev2019-guen-src.gu.sgm  \n",
            "  inflating: dev/newsdev2016-tren-ref.en.sgm  \n",
            "  inflating: __MACOSX/dev/._newsdev2016-tren-ref.en.sgm  \n",
            "  inflating: dev/news-test2008.en    \n",
            "  inflating: __MACOSX/dev/._news-test2008.en  \n",
            "  inflating: dev/newsdev2016-enro-ref.ro.sgm  \n",
            "  inflating: __MACOSX/dev/._newsdev2016-enro-ref.ro.sgm  \n",
            "  inflating: dev/newstest2010-src.de.sgm  \n",
            "  inflating: __MACOSX/dev/._newstest2010-src.de.sgm  \n",
            "  inflating: dev/newssyscomb2009-ref.fr.sgm  \n",
            "  inflating: __MACOSX/dev/._newssyscomb2009-ref.fr.sgm  \n",
            "  inflating: dev/newstest2017-ende-src.en.sgm  \n",
            "  inflating: __MACOSX/dev/._newstest2017-ende-src.en.sgm  \n",
            "  inflating: dev/newstest2009-src.hu.sgm  \n",
            "  inflating: __MACOSX/dev/._newstest2009-src.hu.sgm  \n",
            "  inflating: dev/newstest2011-ref.es.sgm  \n",
            "  inflating: __MACOSX/dev/._newstest2011-ref.es.sgm  \n",
            "  inflating: dev/newstest2017-entr-ref.tr.sgm  \n",
            "  inflating: __MACOSX/dev/._newstest2017-entr-ref.tr.sgm  \n",
            "  inflating: dev/newstestB2017-fien-ref.en.sgm  \n",
            "  inflating: __MACOSX/dev/._newstestB2017-fien-ref.en.sgm  \n",
            "  inflating: dev/newstest2015-encs-ref.cs.sgm  \n",
            "  inflating: __MACOSX/dev/._newstest2015-encs-ref.cs.sgm  \n",
            "  inflating: dev/newstest2013-src.en.sgm  \n",
            "  inflating: __MACOSX/dev/._newstest2013-src.en.sgm  \n",
            "  inflating: dev/newstest2014-hien-ref.en.sgm  \n",
            "  inflating: __MACOSX/dev/._newstest2014-hien-ref.en.sgm  \n",
            "  inflating: dev/newstest2009-src.es.sgm  \n",
            "  inflating: __MACOSX/dev/._newstest2009-src.es.sgm  \n",
            "  inflating: dev/newstest2012-ref.ru.sgm  \n",
            "  inflating: __MACOSX/dev/._newstest2012-ref.ru.sgm  \n",
            "  inflating: dev/newstest2014-hien-ref.hi.sgm  \n",
            "  inflating: __MACOSX/dev/._newstest2014-hien-ref.hi.sgm  \n",
            "  inflating: dev/newstest2015-csen-ref.en.sgm  \n",
            "  inflating: __MACOSX/dev/._newstest2015-csen-ref.en.sgm  \n",
            "  inflating: dev/newstest2018-eten-ref.en.sgm  \n",
            "  inflating: __MACOSX/dev/._newstest2018-eten-ref.en.sgm  \n",
            "  inflating: dev/newsdev2017-enzh-ref.zh.sgm  \n",
            "  inflating: __MACOSX/dev/._newsdev2017-enzh-ref.zh.sgm  \n",
            "  inflating: dev/newstest2015-encs-src.en.sgm  \n",
            "  inflating: __MACOSX/dev/._newstest2015-encs-src.en.sgm  \n",
            "  inflating: dev/newstest2016-enro-src.en.sgm  \n",
            "  inflating: __MACOSX/dev/._newstest2016-enro-src.en.sgm  \n",
            "  inflating: dev/newsdev2019-engu-ref.gu.sgm  \n",
            "  inflating: __MACOSX/dev/._newsdev2019-engu-ref.gu.sgm  \n",
            "  inflating: dev/newsdev2019-enlt-ref.lt.sgm  \n",
            "  inflating: __MACOSX/dev/._newsdev2019-enlt-ref.lt.sgm  \n",
            "  inflating: dev/newstest2016-ende-ref.de.sgm  \n",
            "  inflating: __MACOSX/dev/._newstest2016-ende-ref.de.sgm  \n",
            "  inflating: dev/newstest2012-ref.fr.sgm  \n",
            "  inflating: __MACOSX/dev/._newstest2012-ref.fr.sgm  \n",
            "  inflating: dev/newstest2016-enfi-src.en.sgm  \n",
            "  inflating: __MACOSX/dev/._newstest2016-enfi-src.en.sgm  \n",
            "  inflating: dev/newstest2014-deen-ref.de.sgm  \n",
            "  inflating: __MACOSX/dev/._newstest2014-deen-ref.de.sgm  \n",
            "  inflating: dev/newstest2014-fren-src.fr.sgm  \n",
            "  inflating: __MACOSX/dev/._newstest2014-fren-src.fr.sgm  \n",
            "  inflating: dev/newsdiscusstest2015-enfr-src.en.sgm  \n",
            "  inflating: __MACOSX/dev/._newsdiscusstest2015-enfr-src.en.sgm  \n",
            "  inflating: dev/news-test2008.fr    \n",
            "  inflating: __MACOSX/dev/._news-test2008.fr  \n",
            "  inflating: dev/newsdev2017-zhen-src.zh.sgm  \n",
            "  inflating: __MACOSX/dev/._newsdev2017-zhen-src.zh.sgm  \n",
            "  inflating: dev/newstest2018-entr-ref.tr.sgm  \n",
            "  inflating: __MACOSX/dev/._newstest2018-entr-ref.tr.sgm  \n",
            "  inflating: dev/newstest2015-fien-ref.en.sgm  \n",
            "  inflating: __MACOSX/dev/._newstest2015-fien-ref.en.sgm  \n",
            "  inflating: dev/newstest2015-csen-src.cs.sgm  \n",
            "  inflating: __MACOSX/dev/._newstest2015-csen-src.cs.sgm  \n",
            "  inflating: dev/newstest2013.de     \n",
            "  inflating: __MACOSX/dev/._newstest2013.de  \n",
            "  inflating: dev/news-test2008-src.fr.sgm  \n",
            "  inflating: __MACOSX/dev/._news-test2008-src.fr.sgm  \n",
            "  inflating: dev/news-test2008.es    \n",
            "  inflating: __MACOSX/dev/._news-test2008.es  \n",
            "  inflating: dev/newstest2018-ende-src.en.sgm  \n",
            "  inflating: __MACOSX/dev/._newstest2018-ende-src.en.sgm  \n",
            "  inflating: dev/newsdev2015-fien-src.fi.sgm  \n",
            "  inflating: __MACOSX/dev/._newsdev2015-fien-src.fi.sgm  \n",
            "  inflating: dev/newstest2010.cs     \n",
            "  inflating: __MACOSX/dev/._newstest2010.cs  \n",
            "  inflating: dev/newstest2013-ref.cs.sgm  \n",
            "  inflating: __MACOSX/dev/._newstest2013-ref.cs.sgm  \n",
            "  inflating: dev/newsdiscussdev2015-fren-src.fr.sgm  \n",
            "  inflating: __MACOSX/dev/._newsdiscussdev2015-fren-src.fr.sgm  \n",
            "  inflating: dev/newstest2009.es     \n",
            "  inflating: __MACOSX/dev/._newstest2009.es  \n",
            "  inflating: dev/newstest2018-enfi-ref.fi.sgm  \n",
            "  inflating: __MACOSX/dev/._newstest2018-enfi-ref.fi.sgm  \n",
            "  inflating: dev/newstest2015-enru-src.en.sgm  \n",
            "  inflating: __MACOSX/dev/._newstest2015-enru-src.en.sgm  \n",
            "  inflating: dev/newsdev2014.en      \n",
            "  inflating: __MACOSX/dev/._newsdev2014.en  \n",
            "  inflating: dev/news-test2008-ref.cs.sgm  \n",
            "  inflating: __MACOSX/dev/._news-test2008-ref.cs.sgm  \n",
            "  inflating: dev/newstest2009.fr     \n",
            "  inflating: __MACOSX/dev/._newstest2009.fr  \n",
            "  inflating: dev/newsdev2016-roen-ref.en.sgm  \n",
            "  inflating: __MACOSX/dev/._newsdev2016-roen-ref.en.sgm  \n",
            "  inflating: dev/newstest2013-src.fr.sgm  \n",
            "  inflating: __MACOSX/dev/._newstest2013-src.fr.sgm  \n",
            "  inflating: dev/newssyscomb2009-ref.en.sgm  \n",
            "  inflating: __MACOSX/dev/._newssyscomb2009-ref.en.sgm  \n",
            "  inflating: dev/newstest2016-enru-ref.ru.sgm  \n",
            "  inflating: __MACOSX/dev/._newstest2016-enru-ref.ru.sgm  \n",
            "  inflating: dev/newsdev2016-entr-ref.tr.sgm  \n",
            "  inflating: __MACOSX/dev/._newsdev2016-entr-ref.tr.sgm  \n",
            "  inflating: dev/newstest2012-src.cs.sgm  \n",
            "  inflating: __MACOSX/dev/._newstest2012-src.cs.sgm  \n",
            "  inflating: dev/euelections_dev2019.fr-de.tgt.de  \n",
            "  inflating: __MACOSX/dev/._euelections_dev2019.fr-de.tgt.de  \n",
            "  inflating: dev/newstest2017-tren-ref.en.sgm  \n",
            "  inflating: __MACOSX/dev/._newstest2017-tren-ref.en.sgm  \n",
            "  inflating: dev/newstest2017-deen-src.de.sgm  \n",
            "  inflating: __MACOSX/dev/._newstest2017-deen-src.de.sgm  \n",
            "  inflating: dev/newsdev2018-eten-src.et.sgm  \n",
            "  inflating: __MACOSX/dev/._newsdev2018-eten-src.et.sgm  \n",
            "  inflating: dev/newstest2012.de     \n",
            "  inflating: __MACOSX/dev/._newstest2012.de  \n",
            "  inflating: dev/newstest2011.cs     \n",
            "  inflating: __MACOSX/dev/._newstest2011.cs  \n",
            "  inflating: dev/newstest2015-ruen-ref.en.sgm  \n",
            "  inflating: __MACOSX/dev/._newstest2015-ruen-ref.en.sgm  \n",
            "  inflating: dev/news-test2008-src.en.sgm  \n",
            "  inflating: __MACOSX/dev/._news-test2008-src.en.sgm  \n",
            "  inflating: dev/newstest2010-src.es.sgm  \n",
            "  inflating: __MACOSX/dev/._newstest2010-src.es.sgm  \n",
            "  inflating: dev/newstest2016-roen-src.ro.sgm  \n",
            "  inflating: __MACOSX/dev/._newstest2016-roen-src.ro.sgm  \n",
            "  inflating: dev/newstest2014-fren-src.en.sgm  \n",
            "  inflating: __MACOSX/dev/._newstest2014-fren-src.en.sgm  \n",
            "  inflating: dev/newstest2009-src.it.sgm  \n",
            "  inflating: __MACOSX/dev/._newstest2009-src.it.sgm  \n",
            "  inflating: dev/newstest2011-ref.de.sgm  \n",
            "  inflating: __MACOSX/dev/._newstest2011-ref.de.sgm  \n",
            "  inflating: dev/newsdev2017-lven-src.lv.sgm  \n",
            "  inflating: __MACOSX/dev/._newsdev2017-lven-src.lv.sgm  \n",
            "  inflating: dev/newstest2018-deen-src.de.sgm  \n",
            "  inflating: __MACOSX/dev/._newstest2018-deen-src.de.sgm  \n",
            "  inflating: dev/newstest2018-tren-ref.en.sgm  \n",
            "  inflating: __MACOSX/dev/._newstest2018-tren-ref.en.sgm  \n",
            "  inflating: dev/newstest2009-src.de.sgm  \n",
            "  inflating: __MACOSX/dev/._newstest2009-src.de.sgm  \n",
            "  inflating: dev/newstest2016-ruen-src.ru.sgm  \n",
            "  inflating: __MACOSX/dev/._newstest2016-ruen-src.ru.sgm  \n",
            "  inflating: dev/newstest2012-ref.en.sgm  \n",
            "  inflating: __MACOSX/dev/._newstest2012-ref.en.sgm  \n",
            "  inflating: dev/newsdev2017-enlv-ref.lv.sgm  \n",
            "  inflating: __MACOSX/dev/._newsdev2017-enlv-ref.lv.sgm  \n",
            "  inflating: dev/newstest2017-enfi-ref.fi.sgm  \n",
            "  inflating: __MACOSX/dev/._newstest2017-enfi-ref.fi.sgm  \n",
            "  inflating: dev/newstest2013-src.ru.sgm  \n",
            "  inflating: __MACOSX/dev/._newstest2013-src.ru.sgm  \n",
            "  inflating: dev/newssyscomb2009-src.cs.sgm  \n",
            "  inflating: __MACOSX/dev/._newssyscomb2009-src.cs.sgm  \n",
            "  inflating: dev/newstest2009.en     \n",
            "  inflating: __MACOSX/dev/._newstest2009.en  \n",
            "  inflating: dev/newsdev2019-kken-src.kk.sgm  \n",
            "  inflating: __MACOSX/dev/._newsdev2019-kken-src.kk.sgm  \n",
            "  inflating: dev/newstest2016-deen-ref.en.sgm  \n",
            "  inflating: __MACOSX/dev/._newstest2016-deen-ref.en.sgm  \n",
            "  inflating: dev/euelections_dev2019.de-fr.src.de  \n",
            "  inflating: __MACOSX/dev/._euelections_dev2019.de-fr.src.de  \n",
            "  inflating: dev/newstest2011-src.cs.sgm  \n",
            "  inflating: __MACOSX/dev/._newstest2011-src.cs.sgm  \n",
            "  inflating: dev/newstest2013.ru     \n",
            "  inflating: __MACOSX/dev/._newstest2013.ru  \n",
            "  inflating: dev/newstest2014-ruen-src.en.sgm  \n",
            "  inflating: __MACOSX/dev/._newstest2014-ruen-src.en.sgm  \n",
            "  inflating: dev/newstest2018-encs-src.en.sgm  \n",
            "  inflating: __MACOSX/dev/._newstest2018-encs-src.en.sgm  \n",
            "  inflating: dev/newstest2017-csen-ref.en.sgm  \n",
            "  inflating: __MACOSX/dev/._newstest2017-csen-ref.en.sgm  \n",
            "  inflating: dev/newssyscomb2009-ref.it.sgm  \n",
            "  inflating: __MACOSX/dev/._newssyscomb2009-ref.it.sgm  \n",
            "  inflating: dev/newstestB2016-enfi-src.en.sgm  \n",
            "  inflating: __MACOSX/dev/._newstestB2016-enfi-src.en.sgm  \n",
            "  inflating: dev/newstest2018-entr-src.en.sgm  \n",
            "  inflating: __MACOSX/dev/._newstest2018-entr-src.en.sgm  \n",
            "  inflating: dev/newssyscomb2009-ref.de.sgm  \n",
            "  inflating: __MACOSX/dev/._newssyscomb2009-ref.de.sgm  \n",
            "  inflating: dev/.history-bhaddow    \n",
            "  inflating: __MACOSX/dev/._.history-bhaddow  \n",
            "  inflating: dev/newsdev2019-enlt-src.en.sgm  \n",
            "  inflating: __MACOSX/dev/._newsdev2019-enlt-src.en.sgm  \n",
            "  inflating: dev/newstest2010-src.fr.sgm  \n",
            "  inflating: __MACOSX/dev/._newstest2010-src.fr.sgm  \n",
            "  inflating: dev/newstest2011.de     \n",
            "  inflating: __MACOSX/dev/._newstest2011.de  \n",
            "  inflating: dev/newstest2018-fien-ref.en.sgm  \n",
            "  inflating: __MACOSX/dev/._newstest2018-fien-ref.en.sgm  \n",
            "  inflating: dev/newstest2017-encs-ref.cs.sgm  \n",
            "  inflating: __MACOSX/dev/._newstest2017-encs-ref.cs.sgm  \n",
            "  inflating: dev/newstest2009-ref.cs.sgm  \n",
            "  inflating: __MACOSX/dev/._newstest2009-ref.cs.sgm  \n",
            "  inflating: dev/newstest2018-csen-src.cs.sgm  \n",
            "  inflating: __MACOSX/dev/._newstest2018-csen-src.cs.sgm  \n",
            "  inflating: dev/newstest2015-ende-src.en.sgm  \n",
            "  inflating: __MACOSX/dev/._newstest2015-ende-src.en.sgm  \n",
            "  inflating: dev/newstest2012.cs     \n",
            "  inflating: __MACOSX/dev/._newstest2012.cs  \n",
            "  inflating: dev/news-test2008-src.de.sgm  \n",
            "  inflating: __MACOSX/dev/._news-test2008-src.de.sgm  \n",
            "  inflating: dev/newsdev2018-enet-ref.et.sgm  \n",
            "  inflating: __MACOSX/dev/._newsdev2018-enet-ref.et.sgm  \n",
            "  inflating: dev/newstest2017-fien-ref.en.sgm  \n",
            "  inflating: __MACOSX/dev/._newstest2017-fien-ref.en.sgm  \n",
            "  inflating: dev/newstest2017-csen-src.cs.sgm  \n",
            "  inflating: __MACOSX/dev/._newstest2017-csen-src.cs.sgm  \n",
            "  inflating: dev/newstest2018-encs-ref.cs.sgm  \n",
            "  inflating: __MACOSX/dev/._newstest2018-encs-ref.cs.sgm  \n",
            "  inflating: dev/newstest2011-ref.en.sgm  \n",
            "  inflating: __MACOSX/dev/._newstest2011-ref.en.sgm  \n",
            "  inflating: dev/newsdev2019-guen-ref.en.sgm  \n",
            "  inflating: __MACOSX/dev/._newsdev2019-guen-ref.en.sgm  \n",
            "  inflating: dev/newstest2013-src.es.sgm  \n",
            "  inflating: __MACOSX/dev/._newstest2013-src.es.sgm  \n",
            "  inflating: dev/newstest2018-csen-ref.en.sgm  \n",
            "  inflating: __MACOSX/dev/._newstest2018-csen-ref.en.sgm  \n",
            "  inflating: dev/newstest2017-encs-src.en.sgm  \n",
            "  inflating: __MACOSX/dev/._newstest2017-encs-src.en.sgm  \n",
            "  inflating: dev/newstest2009-src.en.sgm  \n",
            "  inflating: __MACOSX/dev/._newstest2009-src.en.sgm  \n",
            "  inflating: dev/newstest2012-ref.de.sgm  \n",
            "  inflating: __MACOSX/dev/._newstest2012-ref.de.sgm  \n",
            "  inflating: dev/newsdev2016-tren-src.tr.sgm  \n",
            "  inflating: __MACOSX/dev/._newsdev2016-tren-src.tr.sgm  \n",
            "  inflating: dev/newstest2017-entr-src.en.sgm  \n",
            "  inflating: __MACOSX/dev/._newstest2017-entr-src.en.sgm  \n",
            "  inflating: dev/newsdiscussdev2015-enfr-src.en.sgm  \n",
            "  inflating: __MACOSX/dev/._newsdiscussdev2015-enfr-src.en.sgm  \n",
            "  inflating: dev/newssyscomb2009.en  \n",
            "  inflating: __MACOSX/dev/._newssyscomb2009.en  \n",
            "  inflating: dev/news-test2008-src.es.sgm  \n",
            "  inflating: __MACOSX/dev/._news-test2008-src.es.sgm  \n",
            "  inflating: dev/newstest2018-ruen-ref.en.sgm  \n",
            "  inflating: __MACOSX/dev/._newstest2018-ruen-ref.en.sgm  \n",
            "  inflating: dev/newstest2010-src.en.sgm  \n",
            "  inflating: __MACOSX/dev/._newstest2010-src.en.sgm  \n",
            "  inflating: dev/newstest2015-deen-src.de.sgm  \n",
            "  inflating: __MACOSX/dev/._newstest2015-deen-src.de.sgm  \n",
            "  inflating: dev/newsdiscusstest2015-fren-src.fr.sgm  \n",
            "  inflating: __MACOSX/dev/._newsdiscusstest2015-fren-src.fr.sgm  \n",
            "  inflating: dev/newsdev2017-zhen-ref.en.sgm  \n",
            "  inflating: __MACOSX/dev/._newsdev2017-zhen-ref.en.sgm  \n",
            "  inflating: dev/newstest2013-src.de.sgm  \n",
            "  inflating: __MACOSX/dev/._newstest2013-src.de.sgm  \n",
            "  inflating: dev/newsdev2014-ref.hi.sgm  \n",
            "  inflating: __MACOSX/dev/._newsdev2014-ref.hi.sgm  \n",
            "  inflating: dev/newsdev2014-ref.en.sgm  \n",
            "  inflating: __MACOSX/dev/._newsdev2014-ref.en.sgm  \n",
            "  inflating: dev/newstestB2017-enfi-ref.fi.sgm  \n",
            "  inflating: __MACOSX/dev/._newstestB2017-enfi-ref.fi.sgm  \n",
            "  inflating: dev/newstest2012-ref.es.sgm  \n",
            "  inflating: __MACOSX/dev/._newstest2012-ref.es.sgm  \n",
            "  inflating: dev/newsdev2019-enkk-ref.kk.sgm  \n",
            "  inflating: __MACOSX/dev/._newsdev2019-enkk-ref.kk.sgm  \n",
            "  inflating: dev/newstest2017-enru-src.en.sgm  \n",
            "  inflating: __MACOSX/dev/._newstest2017-enru-src.en.sgm  \n",
            "  inflating: dev/newsdev2017-enzh-src.en.sgm  \n",
            "  inflating: __MACOSX/dev/._newsdev2017-enzh-src.en.sgm  \n",
            "  inflating: dev/news-test2008-src.hu.sgm  \n",
            "  inflating: __MACOSX/dev/._news-test2008-src.hu.sgm  \n",
            "  inflating: dev/newstest2018-tren-src.tr.sgm  \n",
            "  inflating: __MACOSX/dev/._newstest2018-tren-src.tr.sgm  \n",
            "  inflating: dev/newstest2014-csen-ref.cs.sgm  \n",
            "  inflating: __MACOSX/dev/._newstest2014-csen-ref.cs.sgm  \n",
            "  inflating: dev/newstest2014-ruen-src.ru.sgm  \n",
            "  inflating: __MACOSX/dev/._newstest2014-ruen-src.ru.sgm  \n",
            "  inflating: dev/newsdev2017-lven-ref.en.sgm  \n",
            "  inflating: __MACOSX/dev/._newsdev2017-lven-ref.en.sgm  \n",
            "  inflating: dev/newsdev2016-entr-src.en.sgm  \n",
            "  inflating: __MACOSX/dev/._newsdev2016-entr-src.en.sgm  \n",
            "  inflating: dev/newstest2018-enru-src.en.sgm  \n",
            "  inflating: __MACOSX/dev/._newstest2018-enru-src.en.sgm  \n",
            "  inflating: dev/newstest2012.ru     \n",
            "  inflating: __MACOSX/dev/._newstest2012.ru  \n",
            "  inflating: dev/newstest2010-ref.cs.sgm  \n",
            "  inflating: __MACOSX/dev/._newstest2010-ref.cs.sgm  \n",
            "  inflating: dev/newstest2015-enfi-ref.fi.sgm  \n",
            "  inflating: __MACOSX/dev/._newstest2015-enfi-ref.fi.sgm  \n",
            "  inflating: dev/newsdev2015-enfi-src.en.sgm  \n",
            "  inflating: __MACOSX/dev/._newsdev2015-enfi-src.en.sgm  \n",
            "  inflating: dev/newstest2018-enet-src.en.sgm  \n",
            "  inflating: __MACOSX/dev/._newstest2018-enet-src.en.sgm  \n",
            "  inflating: dev/newssyscomb2009-ref.hu.sgm  \n",
            "  inflating: __MACOSX/dev/._newssyscomb2009-ref.hu.sgm  \n",
            "  inflating: dev/newstest2017-tren-src.tr.sgm  \n",
            "  inflating: __MACOSX/dev/._newstest2017-tren-src.tr.sgm  \n",
            "  inflating: dev/newstest2014-deen-ref.en.sgm  \n",
            "  inflating: __MACOSX/dev/._newstest2014-deen-ref.en.sgm  \n",
            "  inflating: dev/newstest2009-src.fr.sgm  \n",
            "  inflating: __MACOSX/dev/._newstest2009-src.fr.sgm  \n",
            "  inflating: dev/newstest2016-fien-src.fi.sgm  \n",
            "  inflating: __MACOSX/dev/._newstest2016-fien-src.fi.sgm  \n",
            "  inflating: dev/newstest2017-ruen-ref.en.sgm  \n",
            "  inflating: __MACOSX/dev/._newstest2017-ruen-ref.en.sgm  \n",
            "  inflating: dev/newstest2014-csen-src.en.sgm  \n",
            "  inflating: __MACOSX/dev/._newstest2014-csen-src.en.sgm  \n",
            "  inflating: dev/newssyscomb2009.fr  \n",
            "  inflating: __MACOSX/dev/._newssyscomb2009.fr  \n",
            "  inflating: dev/newstest2011-ref.fr.sgm  \n",
            "  inflating: __MACOSX/dev/._newstest2011-ref.fr.sgm  \n",
            "  inflating: dev/newssyscomb2009-ref.es.sgm  \n",
            "  inflating: __MACOSX/dev/._newssyscomb2009-ref.es.sgm  \n",
            "  inflating: dev/newsdev2017-enlv-src.en.sgm  \n",
            "  inflating: __MACOSX/dev/._newsdev2017-enlv-src.en.sgm  \n",
            "  inflating: dev/newstest2010.de     \n",
            "  inflating: __MACOSX/dev/._newstest2010.de  \n",
            "  inflating: dev/newssyscomb2009.es  \n",
            "  inflating: __MACOSX/dev/._newssyscomb2009.es  \n",
            "  inflating: dev/newstest2013.cs     \n",
            "  inflating: __MACOSX/dev/._newstest2013.cs  \n",
            "  inflating: dev/newstest2014-deen-src.de.sgm  \n",
            "  inflating: __MACOSX/dev/._newstest2014-deen-src.de.sgm  \n",
            "  inflating: dev/newstest2012-src.fr.sgm  \n",
            "  inflating: __MACOSX/dev/._newstest2012-src.fr.sgm  \n",
            "  inflating: dev/newstest2015-enru-ref.ru.sgm  \n",
            "  inflating: __MACOSX/dev/._newstest2015-enru-ref.ru.sgm  \n",
            "  inflating: dev/newstest2018-fien-src.fi.sgm  \n",
            "  inflating: __MACOSX/dev/._newstest2018-fien-src.fi.sgm  \n",
            "  inflating: dev/newstest2013-src.cs.sgm  \n",
            "  inflating: __MACOSX/dev/._newstest2013-src.cs.sgm  \n",
            "  inflating: dev/news-test2008.cs    \n",
            "  inflating: __MACOSX/dev/._news-test2008.cs  \n",
            "  inflating: dev/news-test2008-ref.fr.sgm  \n",
            "  inflating: __MACOSX/dev/._news-test2008-ref.fr.sgm  \n",
            "  inflating: dev/newssyscomb2009.de  \n",
            "  inflating: __MACOSX/dev/._newssyscomb2009.de  \n",
            "  inflating: dev/newstest2010.es     \n",
            "  inflating: __MACOSX/dev/._newstest2010.es  \n",
            "  inflating: dev/newstestB2016-enfi-ref.fi.sgm  \n",
            "  inflating: __MACOSX/dev/._newstestB2016-enfi-ref.fi.sgm  \n",
            "  inflating: dev/newstest2016-enru-src.en.sgm  \n",
            "  inflating: __MACOSX/dev/._newstest2016-enru-src.en.sgm  \n",
            "  inflating: dev/newstest2014-fren-ref.fr.sgm  \n",
            "  inflating: __MACOSX/dev/._newstest2014-fren-ref.fr.sgm  \n",
            "  inflating: dev/newstest2010.fr     \n",
            "  inflating: __MACOSX/dev/._newstest2010.fr  \n",
            "  inflating: dev/newstest2009-ref.hu.sgm  \n",
            "  inflating: __MACOSX/dev/._newstest2009-ref.hu.sgm  \n",
            "  inflating: dev/newstest2011-src.es.sgm  \n",
            "  inflating: __MACOSX/dev/._newstest2011-src.es.sgm  \n",
            "  inflating: dev/newsdev2019-enkk-src.en.sgm  \n",
            "  inflating: __MACOSX/dev/._newsdev2019-enkk-src.en.sgm  \n",
            "  inflating: dev/newstest2010-ref.de.sgm  \n",
            "  inflating: __MACOSX/dev/._newstest2010-ref.de.sgm  \n",
            "  inflating: dev/newstest2016-tren-src.tr.sgm  \n",
            "  inflating: __MACOSX/dev/._newstest2016-tren-src.tr.sgm  \n",
            "  inflating: dev/newstest2015-deen-ref.en.sgm  \n",
            "  inflating: __MACOSX/dev/._newstest2015-deen-ref.en.sgm  \n",
            "  inflating: dev/newssyscomb2009-src.fr.sgm  \n",
            "  inflating: __MACOSX/dev/._newssyscomb2009-src.fr.sgm  \n",
            "  inflating: dev/newstest2015-ruen-src.ru.sgm  \n",
            "  inflating: __MACOSX/dev/._newstest2015-ruen-src.ru.sgm  \n",
            "  inflating: dev/newstest2010.en     \n",
            "  inflating: __MACOSX/dev/._newstest2010.en  \n",
            "  inflating: dev/newstest2016-ruen-ref.en.sgm  \n",
            "  inflating: __MACOSX/dev/._newstest2016-ruen-ref.en.sgm  \n",
            "  inflating: dev/newstest2017-fien-src.fi.sgm  \n",
            "  inflating: __MACOSX/dev/._newstest2017-fien-src.fi.sgm  \n",
            "  inflating: dev/newstest2018-enet-ref.et.sgm  \n",
            "  inflating: __MACOSX/dev/._newstest2018-enet-ref.et.sgm  \n",
            "  inflating: dev/newstest2013-ref.en.sgm  \n",
            "  inflating: __MACOSX/dev/._newstest2013-ref.en.sgm  \n",
            "  inflating: dev/newstest2014-hien-src.en.sgm  \n",
            "  inflating: __MACOSX/dev/._newstest2014-hien-src.en.sgm  \n",
            "  inflating: dev/newstest2009-ref.es.sgm  \n",
            "  inflating: __MACOSX/dev/._newstest2009-ref.es.sgm  \n",
            "  inflating: dev/newstest2012-src.ru.sgm  \n",
            "  inflating: __MACOSX/dev/._newstest2012-src.ru.sgm  \n",
            "  inflating: dev/newstest2014-hien-src.hi.sgm  \n",
            "  inflating: __MACOSX/dev/._newstest2014-hien-src.hi.sgm  \n",
            "  inflating: dev/newstest2014-fren-ref.en.sgm  \n",
            "  inflating: __MACOSX/dev/._newstest2014-fren-ref.en.sgm  \n",
            "  inflating: dev/newstestB2017-enfi-src.en.sgm  \n",
            "  inflating: __MACOSX/dev/._newstestB2017-enfi-src.en.sgm  \n",
            "  inflating: dev/newstest2009-ref.it.sgm  \n",
            "  inflating: __MACOSX/dev/._newstest2009-ref.it.sgm  \n",
            "  inflating: dev/newstest2011-src.de.sgm  \n",
            "  inflating: __MACOSX/dev/._newstest2011-src.de.sgm  \n",
            "  inflating: dev/newsdiscusstest2015-enfr-ref.fr.sgm  \n",
            "  inflating: __MACOSX/dev/._newsdiscusstest2015-enfr-ref.fr.sgm  \n",
            "  inflating: dev/newstest2010-ref.es.sgm  \n",
            "  inflating: __MACOSX/dev/._newstest2010-ref.es.sgm  \n",
            "  inflating: dev/newstest2017-enzh-src.en.sgm  \n",
            "  inflating: __MACOSX/dev/._newstest2017-enzh-src.en.sgm  \n",
            "  inflating: dev/news-test2008-ref.en.sgm  \n",
            "  inflating: __MACOSX/dev/._news-test2008-ref.en.sgm  \n",
            "  inflating: dev/newsdiscussdev2015-fren-ref.en.sgm  \n",
            "  inflating: __MACOSX/dev/._newsdiscussdev2015-fren-ref.en.sgm  \n",
            "  inflating: dev/newstest2011.en     \n",
            "  inflating: __MACOSX/dev/._newstest2011.en  \n",
            "  inflating: dev/newstest2016-csen-ref.en.sgm  \n",
            "  inflating: __MACOSX/dev/._newstest2016-csen-ref.en.sgm  \n",
            "  inflating: dev/newstest2016-encs-ref.cs.sgm  \n",
            "  inflating: __MACOSX/dev/._newstest2016-encs-ref.cs.sgm  \n",
            "  inflating: dev/newssyscomb2009-ref.cs.sgm  \n",
            "  inflating: __MACOSX/dev/._newssyscomb2009-ref.cs.sgm  \n",
            "  inflating: dev/newstest2012-src.en.sgm  \n",
            "  inflating: __MACOSX/dev/._newstest2012-src.en.sgm  \n",
            "  inflating: dev/newstest2013-ref.ru.sgm  \n",
            "  inflating: __MACOSX/dev/._newstest2013-ref.ru.sgm  \n",
            "  inflating: dev/newstest2009-ref.de.sgm  \n",
            "  inflating: __MACOSX/dev/._newstest2009-ref.de.sgm  \n",
            "  inflating: dev/newstest2017-zhen-ref.en.sgm  \n",
            "  inflating: __MACOSX/dev/._newstest2017-zhen-ref.en.sgm  \n",
            "  inflating: dev/newsdev2019-lten-src.lt.sgm  \n",
            "  inflating: __MACOSX/dev/._newsdev2019-lten-src.lt.sgm  \n",
            "  inflating: dev/newstest2016-csen-src.cs.sgm  \n",
            "  inflating: __MACOSX/dev/._newstest2016-csen-src.cs.sgm  \n",
            "  inflating: dev/newstest2013-ref.fr.sgm  \n",
            "  inflating: __MACOSX/dev/._newstest2013-ref.fr.sgm  \n",
            "  inflating: dev/newstest2016-fien-ref.en.sgm  \n",
            "  inflating: __MACOSX/dev/._newstest2016-fien-ref.en.sgm  \n",
            "  inflating: dev/news-test2008-src.cs.sgm  \n",
            "  inflating: __MACOSX/dev/._news-test2008-src.cs.sgm  \n",
            "  inflating: dev/newstest2018-zhen-ref.en.sgm  \n",
            "  inflating: __MACOSX/dev/._newstest2018-zhen-ref.en.sgm  \n",
            "  inflating: dev/newstest2017-enlv-src.en.sgm  \n",
            "  inflating: __MACOSX/dev/._newstest2017-enlv-src.en.sgm  \n",
            "  inflating: dev/newstest2009.cs     \n",
            "  inflating: __MACOSX/dev/._newstest2009.cs  \n",
            "  inflating: dev/newstest2017-lven-ref.en.sgm  \n",
            "  inflating: __MACOSX/dev/._newstest2017-lven-ref.en.sgm  \n",
            "  inflating: dev/newstest2016-entr-src.en.sgm  \n",
            "  inflating: __MACOSX/dev/._newstest2016-entr-src.en.sgm  \n",
            "  inflating: dev/newstest2015-ende-ref.de.sgm  \n",
            "  inflating: __MACOSX/dev/._newstest2015-ende-ref.de.sgm  \n",
            "  inflating: dev/newstest2018-enzh-src.en.sgm  \n",
            "  inflating: __MACOSX/dev/._newstest2018-enzh-src.en.sgm  \n",
            "  inflating: dev/newstest2012-ref.cs.sgm  \n",
            "  inflating: __MACOSX/dev/._newstest2012-ref.cs.sgm  \n",
            "  inflating: dev/newsdev2019-engu-src.en.sgm  \n",
            "  inflating: __MACOSX/dev/._newsdev2019-engu-src.en.sgm  \n",
            "  inflating: dev/newsdev2015-enfi-ref.fi.sgm  \n",
            "  inflating: __MACOSX/dev/._newsdev2015-enfi-ref.fi.sgm  \n",
            "  inflating: dev/newstest2015-enfi-src.en.sgm  \n",
            "  inflating: __MACOSX/dev/._newstest2015-enfi-src.en.sgm  \n",
            "  inflating: dev/newstest2011.es     \n",
            "  inflating: __MACOSX/dev/._newstest2011.es  \n",
            "  inflating: dev/newsdev2018-enet-src.en.sgm  \n",
            "  inflating: __MACOSX/dev/._newsdev2018-enet-src.en.sgm  \n",
            "  inflating: dev/newstest2016-encs-src.en.sgm  \n",
            "  inflating: __MACOSX/dev/._newstest2016-encs-src.en.sgm  \n",
            "  inflating: dev/newssyscomb2009-src.en.sgm  \n",
            "  inflating: __MACOSX/dev/._newssyscomb2009-src.en.sgm  \n",
            "  inflating: dev/newstest2011.fr     \n",
            "  inflating: __MACOSX/dev/._newstest2011.fr  \n",
            "Archive:  training-parallel-nc-v13.zip\n",
            "   creating: training-parallel-nc-v13/\n",
            "  inflating: __MACOSX/._training-parallel-nc-v13  \n",
            "  inflating: training-parallel-nc-v13/news-commentary-v13.de-en.en  \n",
            "  inflating: __MACOSX/training-parallel-nc-v13/._news-commentary-v13.de-en.en  \n",
            "  inflating: training-parallel-nc-v13/news-commentary-v13.ru-en.ru  \n",
            "  inflating: __MACOSX/training-parallel-nc-v13/._news-commentary-v13.ru-en.ru  \n",
            "  inflating: training-parallel-nc-v13/news-commentary-v13.de-en.de  \n",
            "  inflating: __MACOSX/training-parallel-nc-v13/._news-commentary-v13.de-en.de  \n",
            "  inflating: training-parallel-nc-v13/news-commentary-v13.cs-en.en  \n",
            "  inflating: __MACOSX/training-parallel-nc-v13/._news-commentary-v13.cs-en.en  \n",
            "  inflating: training-parallel-nc-v13/news-commentary-v13.zh-en.zh  \n",
            "  inflating: __MACOSX/training-parallel-nc-v13/._news-commentary-v13.zh-en.zh  \n",
            "  inflating: training-parallel-nc-v13/news-commentary-v13.ru-en.en  \n",
            "  inflating: __MACOSX/training-parallel-nc-v13/._news-commentary-v13.ru-en.en  \n",
            "  inflating: training-parallel-nc-v13/news-commentary-v13.zh-en.en  \n",
            "  inflating: __MACOSX/training-parallel-nc-v13/._news-commentary-v13.zh-en.en  \n",
            "  inflating: training-parallel-nc-v13/news-commentary-v13.cs-en.cs  \n",
            "  inflating: __MACOSX/training-parallel-nc-v13/._news-commentary-v13.cs-en.cs  \n"
          ]
        }
      ]
    },
    {
      "cell_type": "code",
      "source": [
        "config = tfds.translate.wmt.WmtConfig(\n",
        "    version=\"0.0.1\",\n",
        "    language_pair=(\"cs\", \"en\"),\n",
        "    subsets={\n",
        "        tfds.Split.TRAIN: [\"newscommentary_v13\"],\n",
        "        tfds.Split.VALIDATION: [\"newstest2018\"],\n",
        "    },\n",
        ")\n",
        "builder = tfds.builder(\"wmt_translate\", config=config)"
      ],
      "metadata": {
        "colab": {
          "base_uri": "https://localhost:8080/"
        },
        "id": "JJfzGeek0746",
        "outputId": "412f24bc-0ac9-4a27-c243-8160748299bb"
      },
      "execution_count": null,
      "outputs": [
        {
          "output_type": "stream",
          "name": "stderr",
          "text": [
            "WARNING:absl:Using custom data configuration cs-en\n"
          ]
        }
      ]
    },
    {
      "cell_type": "code",
      "source": [
        "print(builder.info.splits)\n",
        "builder.download_and_prepare()\n",
        "datasets = builder.as_dataset(as_supervised=True)\n",
        "print('datasets are {}'.format(datasets))\n",
        "\n",
        "train_examples = datasets['train']\n",
        "val_examples = datasets['validation']"
      ],
      "metadata": {
        "colab": {
          "base_uri": "https://localhost:8080/",
          "height": 238,
          "referenced_widgets": [
            "8b2aa497247e4f2b8f595fe4e66c83a9",
            "05e2ca51214d4bdcbe57b01d8b73a632",
            "9971dfeecd5c43a9bc510e9b88716cc3",
            "da86417d06d64203a36c0c4b9d836a6f",
            "8cabadb8e56a469ea21860855c34df56",
            "0b43a96a0da34f1b967a4777ef6de12e",
            "a46d1f8d56a04b3d81f1bdfa3d3ac6b5",
            "ce614fe298404a6dadb2bf0db688360f",
            "7f2ce2b90c054435a891a1260e91aa8d",
            "9d85efd776b44d86a2d35ba8d3e4acd6",
            "4b7df6fc186243a2adfcc48ad834d3d9",
            "66f41c7e0e2c41e9b86bc7f9f24c7d4f",
            "2ef94aa6701e4eed832c39db28145832",
            "df743e628127407ba81a2eb374c9c8fc",
            "c6979350da384a3788ac403b954255ad",
            "9c9b25b1469045b5aadb904cfb8d2f04",
            "f3a99aed0edf4592a55f03449ceb0c20",
            "ceb129004a1340beb4ceb55c6bc35969",
            "29f66b08ca294a09bd9226d3b4449611",
            "ddcd5f9751f6489285d90bab486b5e5c",
            "0614b3f2e7724487b9b71a4a7712658b",
            "8514202a1a69451498f478d505f8139a",
            "9563c9a2e0e74d86b3128684f70048ff",
            "652eb95da1224fbfb5a31f0ddfc1ba6c",
            "d771f334a0aa441baa7d8efb0a0f93cc",
            "96162b6457a14342ba5e23c7b0bf9007",
            "6e2755ad215f4f5badf7dc174c370022",
            "6269eff7eddd458282094d4b2e2d8ee7",
            "c1777e1720fd49be8876f9eca9abcc68",
            "b4ced9f1c12c4036b66fe25f9e0cf9bf",
            "9686f6319b244e9b84a2682d93528c04",
            "b5c4058b4e6745eb97f5068ca107bbca",
            "285709aac4304a36b8278fc4447cc503",
            "7170ae4ab6cf4283a9458f3c53291160",
            "30777317750b4a0c8f3ca75a4011fb80",
            "595dc1c2a56644cba7bef6a469cb314d",
            "0cb22fa47e8b4532beb6816eebe25583",
            "2fea7e713afe42db975bb1a424e964aa",
            "ce1a8b2f838047c289fe4356585fa1de",
            "d88287aa62a4461c96c60deefe837f94",
            "efe24af92aef44a492ffc8156880ae57",
            "6607c8928a1c41bf9e4629ecb1d23daf",
            "e24d30753f384cf1ad70ac024c6151ad",
            "e470b29b1ac04874a461bea2d756ac0f",
            "e34ca9918ab2430aa96635813095f1da",
            "37822e3bdfd84bf29c7c2105a1b09b64",
            "8268a1a0d83f404f80a3dd0754a2c1fb",
            "7abb027990f04972b7be9b3e9aa09f9c",
            "5372f05f27764ffdb69d4d7cdde9e012",
            "182d19d2831e455e8c33d4ca123332d1",
            "7b91cde3c8da4496b320a04acc7860f9",
            "eb3c6a20ad12469fae7e7b39e1984fc6",
            "2dc31c1cda504248979ef577ddb05547",
            "1afa0663034647bfad3b294fc1b0b811",
            "7bf407c327c64f1f9e49d20afa8858ca",
            "28b8d222555245c59955462cac1d8707",
            "84bbcc39dce24d1c93e415dbadc9b73c",
            "86e79537014e4425acde6c4cad20dd82",
            "8c49ba0a813845abb47bccb4c331907b",
            "8f48569b974a477fb045b6328b02f573",
            "1a046ef63bc447a298a0b98814738e09",
            "c24207ec7b4e4c29a2795dd4827fa0f8",
            "b49b411654d448939cba16d7f3092071",
            "5733909475534fffae52b642559f38f3",
            "a6dc27091fb0445683ad32df0bbd7f99",
            "b8732ef4f0a84d41b9ace3caf6a064bb",
            "e8d9a829fe6447ea95c163f39071bf48",
            "c892d152ca5e4c66994471af6a412ba3",
            "600074c44c0e4cbeb5529e0d15d40318",
            "be71a0d2c4b94a368ebae6bd2817e467",
            "9d81f9090b9543c1b36778ed3deea6be",
            "9addc38905134f698f5634c1c57e4f02",
            "609a14279d654861b9422cb443ed6632",
            "486340bbda204367a845e5cd489f493d",
            "63e0ac6fb5c748c2b9e9c31137b9dec0",
            "6c5a95f4d0454abd9a9c1271ecac5f14",
            "2abf6f221b144c86b0efdb82b7325d8f",
            "d8eeaa95144440fb89b8029657dd904c",
            "f804e5fa7ff74e1a83c7702c99f26721",
            "56f4bb4a89354e6bb7efa04e7a0c6183",
            "6ac2621ee46e47f5b38ffca9a5e7a0c6",
            "f7f98258b5fc43b789501c8b1ac2e978",
            "711264e1812448bbb371eeaca194a536",
            "fc062d39f7dc4d8595153b35ec317b00",
            "093fdb6642ce438db9d2228a94091165",
            "119c271dea5542bf83c0a915ca03cdba",
            "1417b27938a04706ab5a55440f50916b",
            "ccedcc655d1f4c4dabe3c2451291c56b",
            "e7ae13d3334447e69ce11ac85f26812c",
            "ee6a5a2aa6a045f78862552341ca699a",
            "8cc0705da0114953a894b69da71d6376",
            "116eb591769342cf86a96ffa9f664035",
            "ab5e681ffc4b47d5a9066647c723bcc1",
            "4ecf3f439f8248729104ba257fdbf80d",
            "2802a4cab3ac4fbeaa9c1e63198c7cab",
            "188c9228fd5f4777b7273dccecb2717f",
            "b1f0f47a71004a1f99b9abb77d0219d6",
            "bfd3b823bf2042f7b5c0b3e367849cfd",
            "33d9a87086ff4db58fd5846ef6d7f4bb"
          ]
        },
        "id": "7dweo11D0-HF",
        "outputId": "a66e5f33-b978-46ac-e475-a23b3fe508e8"
      },
      "execution_count": null,
      "outputs": [
        {
          "output_type": "stream",
          "name": "stdout",
          "text": [
            "{}\n",
            "\u001b[1mDownloading and preparing dataset Unknown size (download: Unknown size, generated: Unknown size, total: Unknown size) to ~/tensorflow_datasets/wmt_translate/cs-en/0.0.1...\u001b[0m\n"
          ]
        },
        {
          "output_type": "display_data",
          "data": {
            "text/plain": [
              "Dl Completed...: 0 url [00:00, ? url/s]"
            ],
            "application/vnd.jupyter.widget-view+json": {
              "version_major": 2,
              "version_minor": 0,
              "model_id": "8b2aa497247e4f2b8f595fe4e66c83a9"
            }
          },
          "metadata": {}
        },
        {
          "output_type": "display_data",
          "data": {
            "text/plain": [
              "Dl Size...: 0 MiB [00:00, ? MiB/s]"
            ],
            "application/vnd.jupyter.widget-view+json": {
              "version_major": 2,
              "version_minor": 0,
              "model_id": "66f41c7e0e2c41e9b86bc7f9f24c7d4f"
            }
          },
          "metadata": {}
        },
        {
          "output_type": "display_data",
          "data": {
            "text/plain": [
              "Extraction completed...: 0 file [00:00, ? file/s]"
            ],
            "application/vnd.jupyter.widget-view+json": {
              "version_major": 2,
              "version_minor": 0,
              "model_id": "9563c9a2e0e74d86b3128684f70048ff"
            }
          },
          "metadata": {}
        },
        {
          "output_type": "display_data",
          "data": {
            "text/plain": [
              "Extraction completed...: 0 file [00:00, ? file/s]"
            ],
            "application/vnd.jupyter.widget-view+json": {
              "version_major": 2,
              "version_minor": 0,
              "model_id": "7170ae4ab6cf4283a9458f3c53291160"
            }
          },
          "metadata": {}
        },
        {
          "output_type": "display_data",
          "data": {
            "text/plain": [
              "Generating splits...:   0%|          | 0/2 [00:00<?, ? splits/s]"
            ],
            "application/vnd.jupyter.widget-view+json": {
              "version_major": 2,
              "version_minor": 0,
              "model_id": "e34ca9918ab2430aa96635813095f1da"
            }
          },
          "metadata": {}
        },
        {
          "output_type": "display_data",
          "data": {
            "text/plain": [
              "Generating train examples...: 0 examples [00:00, ? examples/s]"
            ],
            "application/vnd.jupyter.widget-view+json": {
              "version_major": 2,
              "version_minor": 0,
              "model_id": "28b8d222555245c59955462cac1d8707"
            }
          },
          "metadata": {}
        },
        {
          "output_type": "display_data",
          "data": {
            "text/plain": [
              "Shuffling ~/tensorflow_datasets/wmt_translate/cs-en/0.0.1.incompleteREF41T/wmt_translate-train.tfrecord*...:  …"
            ],
            "application/vnd.jupyter.widget-view+json": {
              "version_major": 2,
              "version_minor": 0,
              "model_id": "e8d9a829fe6447ea95c163f39071bf48"
            }
          },
          "metadata": {}
        },
        {
          "output_type": "display_data",
          "data": {
            "text/plain": [
              "Generating validation examples...: 0 examples [00:00, ? examples/s]"
            ],
            "application/vnd.jupyter.widget-view+json": {
              "version_major": 2,
              "version_minor": 0,
              "model_id": "d8eeaa95144440fb89b8029657dd904c"
            }
          },
          "metadata": {}
        },
        {
          "output_type": "display_data",
          "data": {
            "text/plain": [
              "Shuffling ~/tensorflow_datasets/wmt_translate/cs-en/0.0.1.incompleteREF41T/wmt_translate-validation.tfrecord*.…"
            ],
            "application/vnd.jupyter.widget-view+json": {
              "version_major": 2,
              "version_minor": 0,
              "model_id": "e7ae13d3334447e69ce11ac85f26812c"
            }
          },
          "metadata": {}
        },
        {
          "output_type": "stream",
          "name": "stdout",
          "text": [
            "\u001b[1mDataset wmt_translate downloaded and prepared to ~/tensorflow_datasets/wmt_translate/cs-en/0.0.1. Subsequent calls will reuse this data.\u001b[0m\n",
            "datasets are {Split('train'): <PrefetchDataset element_spec=(TensorSpec(shape=(), dtype=tf.string, name=None), TensorSpec(shape=(), dtype=tf.string, name=None))>, Split('validation'): <PrefetchDataset element_spec=(TensorSpec(shape=(), dtype=tf.string, name=None), TensorSpec(shape=(), dtype=tf.string, name=None))>}\n"
          ]
        }
      ]
    },
    {
      "cell_type": "code",
      "execution_count": null,
      "metadata": {
        "id": "qDaAOTKHNy8e",
        "colab": {
          "base_uri": "https://localhost:8080/",
          "height": 54
        },
        "outputId": "3e639184-fc7f-44c2-c4b8-2550b9232498"
      },
      "outputs": [
        {
          "output_type": "execute_result",
          "data": {
            "text/plain": [
              "\"\\nexamples, metadata = tfds.load('ted_hrlr_translate/pt_to_en', with_info=True,\\n                               as_supervised=True)\\ntrain_examples, val_examples = examples['train'], examples['validation']  \\n\""
            ],
            "application/vnd.google.colaboratory.intrinsic+json": {
              "type": "string"
            }
          },
          "metadata": {},
          "execution_count": 8
        }
      ],
      "source": [
        "# PT to EN\n",
        "\"\"\"\n",
        "examples, metadata = tfds.load('ted_hrlr_translate/pt_to_en', with_info=True,\n",
        "                               as_supervised=True)\n",
        "train_examples, val_examples = examples['train'], examples['validation']  \n",
        "\"\"\""
      ]
    },
    {
      "cell_type": "markdown",
      "metadata": {
        "id": "5GHc3O2W8Hgg"
      },
      "source": [
        "This dataset produces Portuguese/English sentence pairs:"
      ]
    },
    {
      "cell_type": "code",
      "execution_count": null,
      "metadata": {
        "id": "-_ezZT8w8GqD",
        "colab": {
          "base_uri": "https://localhost:8080/"
        },
        "outputId": "c4dca272-e207-40cb-9e25-14abbbd137b2"
      },
      "outputs": [
        {
          "output_type": "stream",
          "name": "stdout",
          "text": [
            "Czech:  V ekonomikách, které se smršťují, by se mohly uchytit deflační tlaky, kdežto v ekonomikách, které stále ještě rychle rostou, posílí tlaky inflační.\n",
            "English:    Deflationary pressure could take hold in economies that are contracting, while inflationary pressures increase in economies that are still growing fast.\n"
          ]
        }
      ],
      "source": [
        "for cs, en in train_examples.take(1):\n",
        "  print(\"Czech: \", cs.numpy().decode('utf-8'))\n",
        "  print(\"English:   \", en.numpy().decode('utf-8'))"
      ]
    },
    {
      "cell_type": "markdown",
      "metadata": {
        "id": "nNGwm45vKttj"
      },
      "source": [
        "Note a few things about the example sentences above:\n",
        "* They're lower case.\n",
        "* There are spaces around the punctuation.\n",
        "* It's not clear if or what unicode normalization is being used."
      ]
    },
    {
      "cell_type": "code",
      "execution_count": null,
      "metadata": {
        "id": "Pm5Eah5F6B1I"
      },
      "outputs": [],
      "source": [
        "train_en = train_examples.map(lambda cs, en: en)\n",
        "train_cs = train_examples.map(lambda cs, en: cs)"
      ]
    },
    {
      "cell_type": "markdown",
      "metadata": {
        "id": "VCD57yALsF0D"
      },
      "source": [
        "## Generate the vocabulary\n",
        "\n",
        "This section generates a wordpiece vocabulary from a dataset. If you already have a vocabulary file and just want to see how to build a `text.BertTokenizer` or `text.WordpieceTokenizer` tokenizer with it then you can skip ahead to the [Build the tokenizer](#build_the_tokenizer) section."
      ]
    },
    {
      "cell_type": "markdown",
      "metadata": {
        "id": "v4CX7_KlO8lX"
      },
      "source": [
        "Note: The vocabulary generation code used in this tutorial is optimized for **simplicity**. If you need a more scalable solution consider using the Apache Beam implementation available in [tools/wordpiece_vocab/generate_vocab.py](https://github.com/tensorflow/text/blob/master/tensorflow_text/tools/wordpiece_vocab/generate_vocab.py)"
      ]
    },
    {
      "cell_type": "markdown",
      "metadata": {
        "id": "R74W3QabgWmX"
      },
      "source": [
        "The vocabulary generation code is included in the `tensorflow_text` pip package. It is not imported by default , you need to manually import it:"
      ]
    },
    {
      "cell_type": "code",
      "execution_count": null,
      "metadata": {
        "id": "iqX1fYdpnLS2"
      },
      "outputs": [],
      "source": [
        "from tensorflow_text.tools.wordpiece_vocab import bert_vocab_from_dataset as bert_vocab"
      ]
    },
    {
      "cell_type": "markdown",
      "metadata": {
        "id": "HaWSnj8xFgI7"
      },
      "source": [
        "The `bert_vocab.bert_vocab_from_dataset` function will generate the vocabulary. \n",
        "\n",
        "There are many arguments you can set to adjust its behavior. For this tutorial, you'll mostly use the defaults. If you want to learn more about the options, first read about [the algorithm](#algorithm), and then have a look at [the code](https://github.com/tensorflow/text/blob/master/tensorflow_text/tools/wordpiece_vocab/bert_vocab_from_dataset.py).\n"
      ]
    },
    {
      "cell_type": "markdown",
      "metadata": {
        "id": "6gTty2Wh-dHm"
      },
      "source": [
        "This takes about 2 minutes."
      ]
    },
    {
      "cell_type": "code",
      "execution_count": null,
      "metadata": {
        "id": "FwFzYjBy-h8W"
      },
      "outputs": [],
      "source": [
        "bert_tokenizer_params=dict(lower_case=True)\n",
        "reserved_tokens=[\"[PAD]\", \"[UNK]\", \"[START]\", \"[END]\"]\n",
        "\n",
        "bert_vocab_args = dict(\n",
        "    # The target vocabulary size\n",
        "    vocab_size = 8000,\n",
        "    # Reserved tokens that must be included in the vocabulary\n",
        "    reserved_tokens=reserved_tokens,\n",
        "    # Arguments for `text.BertTokenizer`\n",
        "    bert_tokenizer_params=bert_tokenizer_params,\n",
        "    # Arguments for `wordpiece_vocab.wordpiece_tokenizer_learner_lib.learn`\n",
        "    learn_params={},\n",
        ")"
      ]
    },
    {
      "cell_type": "code",
      "execution_count": null,
      "metadata": {
        "id": "PMN6Lli_3sJW",
        "colab": {
          "base_uri": "https://localhost:8080/"
        },
        "outputId": "d117efbf-69c7-4f58-e30d-05713cb85ed2"
      },
      "outputs": [
        {
          "output_type": "stream",
          "name": "stdout",
          "text": [
            "CPU times: user 12min 32s, sys: 8.95 s, total: 12min 41s\n",
            "Wall time: 12min 46s\n"
          ]
        }
      ],
      "source": [
        "%%time\n",
        "cs_vocab = bert_vocab.bert_vocab_from_dataset(\n",
        "    train_cs.batch(1000).prefetch(2),\n",
        "    **bert_vocab_args\n",
        ")"
      ]
    },
    {
      "cell_type": "markdown",
      "metadata": {
        "id": "3Cl4d2O34gkH"
      },
      "source": [
        "Here are some slices of the resulting vocabulary."
      ]
    },
    {
      "cell_type": "code",
      "execution_count": null,
      "metadata": {
        "id": "mfaPmX54FvhW",
        "colab": {
          "base_uri": "https://localhost:8080/"
        },
        "outputId": "8afb5f74-f6ab-4390-8a9d-9ecc9c791e86"
      },
      "outputs": [
        {
          "output_type": "stream",
          "name": "stdout",
          "text": [
            "['[PAD]', '[UNK]', '[START]', '[END]', '!', '\"', '#', '$', '%', '&']\n",
            "['ze', 'je', '##m', 'by', '##ch', 'to', '##ho', 'do', 've', 'pro']\n",
            "['snaze', 'technologie', 'dluhopisu', 'tolik', 'chteji', 'noveho', 'jinde', 'plan', 'vychodni', 'inflaci']\n",
            "['##”', '##„', '##•', '##⁄', '##€', '##−', '##≤', '##▫', '##\\uf0b7', '##�']\n"
          ]
        }
      ],
      "source": [
        "print(cs_vocab[:10])\n",
        "print(cs_vocab[100:110])\n",
        "print(cs_vocab[1000:1010])\n",
        "print(cs_vocab[-10:])"
      ]
    },
    {
      "cell_type": "markdown",
      "metadata": {
        "id": "owkP3wbYVQv0"
      },
      "source": [
        "Write a vocabulary file:"
      ]
    },
    {
      "cell_type": "code",
      "execution_count": null,
      "metadata": {
        "id": "VY6v1ThkKDyZ"
      },
      "outputs": [],
      "source": [
        "def write_vocab_file(filepath, vocab):\n",
        "  with open(filepath, 'w') as f:\n",
        "    for token in vocab:\n",
        "      print(token, file=f)"
      ]
    },
    {
      "cell_type": "code",
      "execution_count": null,
      "metadata": {
        "id": "X_TR5U1xWvAV"
      },
      "outputs": [],
      "source": [
        "write_vocab_file('cs_vocab.txt', cs_vocab)"
      ]
    },
    {
      "cell_type": "markdown",
      "metadata": {
        "id": "0ag3qcx54nii"
      },
      "source": [
        "Use that function to generate a vocabulary from the english data:"
      ]
    },
    {
      "cell_type": "code",
      "execution_count": null,
      "metadata": {
        "id": "R3cMumvHWWtl",
        "colab": {
          "base_uri": "https://localhost:8080/"
        },
        "outputId": "0fe02879-f3bd-445f-9a81-29063b39bc04"
      },
      "outputs": [
        {
          "output_type": "stream",
          "name": "stdout",
          "text": [
            "CPU times: user 3min 25s, sys: 3.21 s, total: 3min 28s\n",
            "Wall time: 3min 36s\n"
          ]
        }
      ],
      "source": [
        "%%time\n",
        "en_vocab = bert_vocab.bert_vocab_from_dataset(\n",
        "    train_en.batch(1000).prefetch(2),\n",
        "    **bert_vocab_args\n",
        ")\n"
      ]
    },
    {
      "cell_type": "code",
      "execution_count": null,
      "metadata": {
        "id": "NxOpzMd8ol5B",
        "colab": {
          "base_uri": "https://localhost:8080/"
        },
        "outputId": "084954d7-5adf-4694-e12a-81b8ebc8f950"
      },
      "outputs": [
        {
          "output_type": "stream",
          "name": "stdout",
          "text": [
            "['[PAD]', '[UNK]', '[START]', '[END]', '!', '\"', '#', '$', '%', '&']\n",
            "['ч', 'ш', 'щ', 'ъ', 'ы', 'ь', 'э', 'ю', 'я', '‐']\n",
            "['15', 'deep', 'easy', 'won', 'attacks', 'management', 'independence', 'weak', 'alternative', 'asian']\n",
            "['##„', '##•', '##\\u2028', '##⁄', '##€', '##−', '##≤', '##\\uf024', '##\\uf0b7', '##�']\n"
          ]
        }
      ],
      "source": [
        "print(en_vocab[:10])\n",
        "print(en_vocab[100:110])\n",
        "print(en_vocab[1000:1010])\n",
        "print(en_vocab[-10:])"
      ]
    },
    {
      "cell_type": "markdown",
      "metadata": {
        "id": "ck3LG_f34wCs"
      },
      "source": [
        "Here are the two vocabulary files:"
      ]
    },
    {
      "cell_type": "code",
      "execution_count": null,
      "metadata": {
        "id": "xfc2jxPznM6H"
      },
      "outputs": [],
      "source": [
        "write_vocab_file('en_vocab.txt', en_vocab)"
      ]
    },
    {
      "cell_type": "code",
      "execution_count": null,
      "metadata": {
        "id": "djehfEL6Zn-I",
        "colab": {
          "base_uri": "https://localhost:8080/"
        },
        "outputId": "c7f0c40b-7208-4ec0-ab82-d952f92e6397"
      },
      "outputs": [
        {
          "output_type": "stream",
          "name": "stdout",
          "text": [
            "cs_vocab.txt  en_vocab.txt\n"
          ]
        }
      ],
      "source": [
        "!ls *.txt"
      ]
    },
    {
      "cell_type": "markdown",
      "metadata": {
        "id": "Vb5ddYLTBJhk"
      },
      "source": [
        "## Build the tokenizer\n",
        "<a id=\"build_the_tokenizer\"></a>"
      ]
    },
    {
      "cell_type": "markdown",
      "metadata": {
        "id": "_qgp5gvR-2tQ"
      },
      "source": [
        "The `text.BertTokenizer` can be initialized by passing the vocabulary file's path as the first argument (see the section on [tf.lookup](#tf.lookup) for other options): "
      ]
    },
    {
      "cell_type": "code",
      "execution_count": null,
      "metadata": {
        "id": "gdMpt9ZEjVGu"
      },
      "outputs": [],
      "source": [
        "cs_tokenizer = text.BertTokenizer('cs_vocab.txt', **bert_tokenizer_params)\n",
        "en_tokenizer = text.BertTokenizer('en_vocab.txt', **bert_tokenizer_params)"
      ]
    },
    {
      "cell_type": "markdown",
      "metadata": {
        "id": "BhPZafCUds86"
      },
      "source": [
        "Now you can use it to encode some text. Take a batch of 3 examples from the english data:"
      ]
    },
    {
      "cell_type": "code",
      "execution_count": null,
      "metadata": {
        "id": "NKF0QJjtUm9T",
        "colab": {
          "base_uri": "https://localhost:8080/"
        },
        "outputId": "417cff5c-5a14-498b-c4cb-75bf0ed22a6a"
      },
      "outputs": [
        {
          "output_type": "stream",
          "name": "stdout",
          "text": [
            "b'Deflationary pressure could take hold in economies that are contracting, while inflationary pressures increase in economies that are still growing fast.'\n",
            "b'In fact, it already has.'\n",
            "b'Economists seek to detect collective irrationality, and economic models that assume individual rationality facilitate that.'\n"
          ]
        }
      ],
      "source": [
        "for cs_examples, en_examples in train_examples.batch(3).take(1):\n",
        "  for ex in en_examples:\n",
        "    print(ex.numpy())"
      ]
    },
    {
      "cell_type": "markdown",
      "metadata": {
        "id": "k9OEIBWopMxW"
      },
      "source": [
        "Run it through the `BertTokenizer.tokenize` method. Initially, this returns a `tf.RaggedTensor` with axes `(batch, word, word-piece)`:"
      ]
    },
    {
      "cell_type": "code",
      "execution_count": null,
      "metadata": {
        "id": "AeTM81lAc8q1",
        "colab": {
          "base_uri": "https://localhost:8080/"
        },
        "outputId": "594b90bf-4515-4931-e1b9-caa84063e7e3"
      },
      "outputs": [
        {
          "output_type": "stream",
          "name": "stdout",
          "text": [
            "[4865, 826, 198, 331, 978, 131, 339, 132, 139, 3297, 164, 15, 228, 3323, 2289, 400, 131, 339, 132, 139, 286, 509, 1570, 17]\n",
            "[131, 360, 15, 135, 367, 146, 17]\n",
            "[815, 1366, 129, 1161, 5797, 1483, 4229, 531, 15, 130, 172, 1536, 132, 2264, 874, 2746, 531, 3642, 132, 17]\n"
          ]
        }
      ],
      "source": [
        "# Tokenize the examples -> (batch, word, word-piece)\n",
        "token_batch = en_tokenizer.tokenize(en_examples)\n",
        "# Merge the word and word-piece axes -> (batch, tokens)\n",
        "token_batch = token_batch.merge_dims(-2,-1)\n",
        "\n",
        "for ex in token_batch.to_list():\n",
        "  print(ex)"
      ]
    },
    {
      "cell_type": "markdown",
      "metadata": {
        "id": "UbdIaW6kX8hu"
      },
      "source": [
        "If you replace the token IDs with their text representations (using `tf.gather`) you can see that in the first example the words `\"searchability\"` and  `\"serendipity\"` have been decomposed into `\"search ##ability\"` and `\"s ##ere ##nd ##ip ##ity\"`:"
      ]
    },
    {
      "cell_type": "code",
      "execution_count": null,
      "metadata": {
        "id": "FA6nKYx5U3Nj",
        "colab": {
          "base_uri": "https://localhost:8080/"
        },
        "outputId": "f043ad05-4bb2-4126-faa0-e6d98d969c90"
      },
      "outputs": [
        {
          "output_type": "execute_result",
          "data": {
            "text/plain": [
              "<tf.Tensor: shape=(3,), dtype=string, numpy=\n",
              "array([b'deflationary pressure could take hold in economies that are contract ##ing , while inflationary pressures increase in economies that are still growing fast .',\n",
              "       b'in fact , it already has .',\n",
              "       b'economists seek to de ##tect collective irrational ##ity , and economic models that assume individual rational ##ity facilitate that .'],\n",
              "      dtype=object)>"
            ]
          },
          "metadata": {},
          "execution_count": 31
        }
      ],
      "source": [
        "# Lookup each token id in the vocabulary.\n",
        "txt_tokens = tf.gather(en_vocab, token_batch)\n",
        "# Join with spaces.\n",
        "tf.strings.reduce_join(txt_tokens, separator=' ', axis=-1)"
      ]
    },
    {
      "cell_type": "markdown",
      "metadata": {
        "id": "wY2XrhyRem2O"
      },
      "source": [
        "To re-assemble words from the extracted tokens, use the `BertTokenizer.detokenize` method:"
      ]
    },
    {
      "cell_type": "code",
      "execution_count": null,
      "metadata": {
        "id": "toBXQSrgemRw",
        "colab": {
          "base_uri": "https://localhost:8080/"
        },
        "outputId": "3391509e-e4b5-43b2-ea17-3f577418fbe6"
      },
      "outputs": [
        {
          "output_type": "execute_result",
          "data": {
            "text/plain": [
              "<tf.Tensor: shape=(3,), dtype=string, numpy=\n",
              "array([b'deflationary pressure could take hold in economies that are contracting , while inflationary pressures increase in economies that are still growing fast .',\n",
              "       b'in fact , it already has .',\n",
              "       b'economists seek to detect collective irrationality , and economic models that assume individual rationality facilitate that .'],\n",
              "      dtype=object)>"
            ]
          },
          "metadata": {},
          "execution_count": 32
        }
      ],
      "source": [
        "words = en_tokenizer.detokenize(token_batch)\n",
        "tf.strings.reduce_join(words, separator=' ', axis=-1)"
      ]
    },
    {
      "cell_type": "markdown",
      "metadata": {
        "id": "WIZWWy_iueQY"
      },
      "source": [
        "> Note: `BertTokenizer.tokenize`/`BertTokenizer.detokenize` does not round\n",
        "trip losslessly. The result of `detokenize` will not, in general, have the\n",
        "same content or offsets as the input to `tokenize`. This is because of the\n",
        "\"basic tokenization\" step, that splits the strings into words before\n",
        "applying the `WordpieceTokenizer`, includes irreversible\n",
        "steps like lower-casing and splitting on punctuation. `WordpieceTokenizer`\n",
        "on the other hand **is** reversible."
      ]
    },
    {
      "cell_type": "markdown",
      "metadata": {
        "id": "_bN30iCexTPY"
      },
      "source": [
        "## Customization and export\n",
        "\n",
        "This tutorial builds the text tokenizer and detokenizer used by the [Transformer](https://tensorflow.org/text/tutorials/transformer) tutorial. This section adds methods and processing steps to simplify that tutorial, and exports the tokenizers using `tf.saved_model` so they can be imported by the other tutorials."
      ]
    },
    {
      "cell_type": "markdown",
      "metadata": {
        "id": "5wpc7oFkwgni"
      },
      "source": [
        "### Custom tokenization"
      ]
    },
    {
      "cell_type": "markdown",
      "metadata": {
        "id": "NaUR9hHj0PUy"
      },
      "source": [
        "The downstream tutorials both expect the tokenized text to include `[START]` and `[END]` tokens.\n",
        "\n",
        "The `reserved_tokens` reserve space at the beginning of the vocabulary, so `[START]` and `[END]` have the same indexes for both languages:"
      ]
    },
    {
      "cell_type": "code",
      "execution_count": null,
      "metadata": {
        "id": "gyyoa5De0WQu"
      },
      "outputs": [],
      "source": [
        "START = tf.argmax(tf.constant(reserved_tokens) == \"[START]\")\n",
        "END = tf.argmax(tf.constant(reserved_tokens) == \"[END]\")\n",
        "\n",
        "def add_start_end(ragged):\n",
        "  count = ragged.bounding_shape()[0]\n",
        "  starts = tf.fill([count,1], START)\n",
        "  ends = tf.fill([count,1], END)\n",
        "  return tf.concat([starts, ragged, ends], axis=1)"
      ]
    },
    {
      "cell_type": "code",
      "execution_count": null,
      "metadata": {
        "id": "MrZjQIwZ6NHu",
        "colab": {
          "base_uri": "https://localhost:8080/"
        },
        "outputId": "18dbe569-68c0-4614-cebd-ded15c1d16e3"
      },
      "outputs": [
        {
          "output_type": "execute_result",
          "data": {
            "text/plain": [
              "<tf.Tensor: shape=(3,), dtype=string, numpy=\n",
              "array([b'[START] deflationary pressure could take hold in economies that are contracting , while inflationary pressures increase in economies that are still growing fast . [END]',\n",
              "       b'[START] in fact , it already has . [END]',\n",
              "       b'[START] economists seek to detect collective irrationality , and economic models that assume individual rationality facilitate that . [END]'],\n",
              "      dtype=object)>"
            ]
          },
          "metadata": {},
          "execution_count": 34
        }
      ],
      "source": [
        "words = en_tokenizer.detokenize(add_start_end(token_batch))\n",
        "tf.strings.reduce_join(words, separator=' ', axis=-1)"
      ]
    },
    {
      "cell_type": "markdown",
      "metadata": {
        "id": "WMmHS5VT_suH"
      },
      "source": [
        "### Custom detokenization\n",
        "\n",
        "Before exporting the tokenizers there are a couple of things you can cleanup for the downstream tutorials:\n",
        "\n",
        "1. They want to generate clean text output, so drop reserved tokens like `[START]`, `[END]` and `[PAD]`.\n",
        "2. They're interested in complete strings, so apply a string join along the `words` axis of the result.  "
      ]
    },
    {
      "cell_type": "code",
      "execution_count": null,
      "metadata": {
        "id": "x9vXUQPX1ZFA"
      },
      "outputs": [],
      "source": [
        "def cleanup_text(reserved_tokens, token_txt):\n",
        "  # Drop the reserved tokens, except for \"[UNK]\".\n",
        "  bad_tokens = [re.escape(tok) for tok in reserved_tokens if tok != \"[UNK]\"]\n",
        "  bad_token_re = \"|\".join(bad_tokens)\n",
        "    \n",
        "  bad_cells = tf.strings.regex_full_match(token_txt, bad_token_re)\n",
        "  result = tf.ragged.boolean_mask(token_txt, ~bad_cells)\n",
        "\n",
        "  # Join them into strings.\n",
        "  result = tf.strings.reduce_join(result, separator=' ', axis=-1)\n",
        "\n",
        "  return result"
      ]
    },
    {
      "cell_type": "code",
      "execution_count": null,
      "metadata": {
        "id": "NMSpZUV7sQYw",
        "colab": {
          "base_uri": "https://localhost:8080/"
        },
        "outputId": "44312853-1c3c-4c23-d8ad-e5b8b0090567"
      },
      "outputs": [
        {
          "output_type": "execute_result",
          "data": {
            "text/plain": [
              "array([b'Deflationary pressure could take hold in economies that are contracting, while inflationary pressures increase in economies that are still growing fast.',\n",
              "       b'In fact, it already has.',\n",
              "       b'Economists seek to detect collective irrationality, and economic models that assume individual rationality facilitate that.'],\n",
              "      dtype=object)"
            ]
          },
          "metadata": {},
          "execution_count": 36
        }
      ],
      "source": [
        "en_examples.numpy()"
      ]
    },
    {
      "cell_type": "code",
      "execution_count": null,
      "metadata": {
        "id": "yB3MJhNvkuBb",
        "colab": {
          "base_uri": "https://localhost:8080/"
        },
        "outputId": "3b55170f-edba-4acf-eb43-9005e147544a"
      },
      "outputs": [
        {
          "output_type": "execute_result",
          "data": {
            "text/plain": [
              "<tf.RaggedTensor [[b'deflationary', b'pressure', b'could', b'take', b'hold', b'in',\n",
              "  b'economies', b'that', b'are', b'contracting', b',', b'while',\n",
              "  b'inflationary', b'pressures', b'increase', b'in', b'economies', b'that',\n",
              "  b'are', b'still', b'growing', b'fast', b'.']                             ,\n",
              " [b'in', b'fact', b',', b'it', b'already', b'has', b'.'],\n",
              " [b'economists', b'seek', b'to', b'detect', b'collective', b'irrationality',\n",
              "  b',', b'and', b'economic', b'models', b'that', b'assume', b'individual',\n",
              "  b'rationality', b'facilitate', b'that', b'.']                             ]>"
            ]
          },
          "metadata": {},
          "execution_count": 37
        }
      ],
      "source": [
        "token_batch = en_tokenizer.tokenize(en_examples).merge_dims(-2,-1)\n",
        "words = en_tokenizer.detokenize(token_batch)\n",
        "words"
      ]
    },
    {
      "cell_type": "code",
      "execution_count": null,
      "metadata": {
        "id": "ED5rMeZE6HT3",
        "colab": {
          "base_uri": "https://localhost:8080/"
        },
        "outputId": "79e63bf2-a223-44d7-c645-380a08207061"
      },
      "outputs": [
        {
          "output_type": "execute_result",
          "data": {
            "text/plain": [
              "array([b'deflationary pressure could take hold in economies that are contracting , while inflationary pressures increase in economies that are still growing fast .',\n",
              "       b'in fact , it already has .',\n",
              "       b'economists seek to detect collective irrationality , and economic models that assume individual rationality facilitate that .'],\n",
              "      dtype=object)"
            ]
          },
          "metadata": {},
          "execution_count": 38
        }
      ],
      "source": [
        "cleanup_text(reserved_tokens, words).numpy()"
      ]
    },
    {
      "cell_type": "markdown",
      "metadata": {
        "id": "HEfEdRi11Re4"
      },
      "source": [
        "### Export"
      ]
    },
    {
      "cell_type": "markdown",
      "metadata": {
        "id": "uFuo1KZjpEPR"
      },
      "source": [
        "The following code block builds a `CustomTokenizer` class to contain the `text.BertTokenizer` instances, the custom logic, and the `@tf.function` wrappers required for export. "
      ]
    },
    {
      "cell_type": "code",
      "execution_count": null,
      "metadata": {
        "id": "f1q1hCpH72Vj"
      },
      "outputs": [],
      "source": [
        "class CustomTokenizer(tf.Module):\n",
        "  def __init__(self, reserved_tokens, vocab_path):\n",
        "    self.tokenizer = text.BertTokenizer(vocab_path, lower_case=True)\n",
        "    self._reserved_tokens = reserved_tokens\n",
        "    self._vocab_path = tf.saved_model.Asset(vocab_path)\n",
        "\n",
        "    vocab = pathlib.Path(vocab_path).read_text().splitlines()\n",
        "    self.vocab = tf.Variable(vocab)\n",
        "\n",
        "    ## Create the signatures for export:   \n",
        "\n",
        "    # Include a tokenize signature for a batch of strings. \n",
        "    self.tokenize.get_concrete_function(\n",
        "        tf.TensorSpec(shape=[None], dtype=tf.string))\n",
        "    \n",
        "    # Include `detokenize` and `lookup` signatures for:\n",
        "    #   * `Tensors` with shapes [tokens] and [batch, tokens]\n",
        "    #   * `RaggedTensors` with shape [batch, tokens]\n",
        "    self.detokenize.get_concrete_function(\n",
        "        tf.TensorSpec(shape=[None, None], dtype=tf.int64))\n",
        "    self.detokenize.get_concrete_function(\n",
        "          tf.RaggedTensorSpec(shape=[None, None], dtype=tf.int64))\n",
        "\n",
        "    self.lookup.get_concrete_function(\n",
        "        tf.TensorSpec(shape=[None, None], dtype=tf.int64))\n",
        "    self.lookup.get_concrete_function(\n",
        "          tf.RaggedTensorSpec(shape=[None, None], dtype=tf.int64))\n",
        "\n",
        "    # These `get_*` methods take no arguments\n",
        "    self.get_vocab_size.get_concrete_function()\n",
        "    self.get_vocab_path.get_concrete_function()\n",
        "    self.get_reserved_tokens.get_concrete_function()\n",
        "    \n",
        "  @tf.function\n",
        "  def tokenize(self, strings):\n",
        "    enc = self.tokenizer.tokenize(strings)\n",
        "    # Merge the `word` and `word-piece` axes.\n",
        "    enc = enc.merge_dims(-2,-1)\n",
        "    enc = add_start_end(enc)\n",
        "    return enc\n",
        "\n",
        "  @tf.function\n",
        "  def detokenize(self, tokenized):\n",
        "    words = self.tokenizer.detokenize(tokenized)\n",
        "    return cleanup_text(self._reserved_tokens, words)\n",
        "\n",
        "  @tf.function\n",
        "  def lookup(self, token_ids):\n",
        "    return tf.gather(self.vocab, token_ids)\n",
        "\n",
        "  @tf.function\n",
        "  def get_vocab_size(self):\n",
        "    return tf.shape(self.vocab)[0]\n",
        "\n",
        "  @tf.function\n",
        "  def get_vocab_path(self):\n",
        "    return self._vocab_path\n",
        "\n",
        "  @tf.function\n",
        "  def get_reserved_tokens(self):\n",
        "    return tf.constant(self._reserved_tokens)"
      ]
    },
    {
      "cell_type": "markdown",
      "metadata": {
        "id": "RHzEnTQM6nBD"
      },
      "source": [
        "Build a `CustomTokenizer` for each language:"
      ]
    },
    {
      "cell_type": "code",
      "execution_count": null,
      "metadata": {
        "id": "cU8yFBCSruz4"
      },
      "outputs": [],
      "source": [
        "tokenizers = tf.Module()\n",
        "tokenizers.cs = CustomTokenizer(reserved_tokens, 'cs_vocab.txt')\n",
        "tokenizers.en = CustomTokenizer(reserved_tokens, 'en_vocab.txt')"
      ]
    },
    {
      "cell_type": "markdown",
      "metadata": {
        "id": "ZYfrmDhy6syT"
      },
      "source": [
        "Export the tokenizers as a `saved_model`:"
      ]
    },
    {
      "cell_type": "code",
      "execution_count": null,
      "metadata": {
        "id": "aieDGooa9ms7"
      },
      "outputs": [],
      "source": [
        "model_name = 'wmt19_translate_cs_en_converter'\n",
        "tf.saved_model.save(tokenizers, model_name)"
      ]
    },
    {
      "cell_type": "markdown",
      "metadata": {
        "id": "XoCMz2Fm61v6"
      },
      "source": [
        "Reload the `saved_model` and test the methods:"
      ]
    },
    {
      "cell_type": "code",
      "execution_count": null,
      "metadata": {
        "id": "9SB_BHwqsHkb",
        "colab": {
          "base_uri": "https://localhost:8080/"
        },
        "outputId": "b4af41b2-b4c8-43c3-a8b8-39ba3663f3e5"
      },
      "outputs": [
        {
          "output_type": "execute_result",
          "data": {
            "text/plain": [
              "7798"
            ]
          },
          "metadata": {},
          "execution_count": 42
        }
      ],
      "source": [
        "reloaded_tokenizers = tf.saved_model.load(model_name)\n",
        "reloaded_tokenizers.en.get_vocab_size().numpy()"
      ]
    },
    {
      "cell_type": "code",
      "execution_count": null,
      "metadata": {
        "id": "W_Ze3WL3816x",
        "colab": {
          "base_uri": "https://localhost:8080/"
        },
        "outputId": "5fab2821-5d7d-4d0e-86d8-81375ea1adab"
      },
      "outputs": [
        {
          "output_type": "execute_result",
          "data": {
            "text/plain": [
              "array([[   2,  207, 2003,  418, 3340,  846, 7320,    4,    3]])"
            ]
          },
          "metadata": {},
          "execution_count": 43
        }
      ],
      "source": [
        "tokens = reloaded_tokenizers.en.tokenize(['Hello TensorFlow!'])\n",
        "tokens.numpy()"
      ]
    },
    {
      "cell_type": "code",
      "execution_count": null,
      "metadata": {
        "id": "v9o93bzcuhyC",
        "colab": {
          "base_uri": "https://localhost:8080/"
        },
        "outputId": "b43002c1-ec8c-4f32-9c8c-457703b96745"
      },
      "outputs": [
        {
          "output_type": "execute_result",
          "data": {
            "text/plain": [
              "<tf.RaggedTensor [[b'[START]', b'years', b'##ite', b'role', b'tariffs', b'wrong', b'##eat',\n",
              "  b'!', b'[END]']]>"
            ]
          },
          "metadata": {},
          "execution_count": 44
        }
      ],
      "source": [
        "text_tokens = reloaded_tokenizers.en.lookup(tokens)\n",
        "text_tokens"
      ]
    },
    {
      "cell_type": "code",
      "execution_count": null,
      "metadata": {
        "id": "Y0205N_8dDT5",
        "colab": {
          "base_uri": "https://localhost:8080/"
        },
        "outputId": "90afc6f4-07c5-42f2-f8f5-e9662f3fd546"
      },
      "outputs": [
        {
          "output_type": "stream",
          "name": "stdout",
          "text": [
            "hello tensorflow !\n"
          ]
        }
      ],
      "source": [
        "round_trip = reloaded_tokenizers.en.detokenize(tokens)\n",
        "\n",
        "print(round_trip.numpy()[0].decode('utf-8'))"
      ]
    },
    {
      "cell_type": "markdown",
      "metadata": {
        "id": "pSKFDQoBjnNp"
      },
      "source": [
        "Archive it for the [translation tutorials](https://tensorflow.org/text/tutorials/transformer):"
      ]
    },
    {
      "cell_type": "code",
      "execution_count": null,
      "metadata": {
        "id": "eY0SoE3Yj2it",
        "colab": {
          "base_uri": "https://localhost:8080/"
        },
        "outputId": "c4b8d521-ecc2-4c28-afde-f3c630d2e9f4"
      },
      "outputs": [
        {
          "output_type": "stream",
          "name": "stdout",
          "text": [
            "  adding: wmt19_translate_cs_en_converter/ (stored 0%)\n",
            "  adding: wmt19_translate_cs_en_converter/variables/ (stored 0%)\n",
            "  adding: wmt19_translate_cs_en_converter/variables/variables.data-00000-of-00001 (deflated 51%)\n",
            "  adding: wmt19_translate_cs_en_converter/variables/variables.index (deflated 33%)\n",
            "  adding: wmt19_translate_cs_en_converter/assets/ (stored 0%)\n",
            "  adding: wmt19_translate_cs_en_converter/assets/cs_vocab.txt (deflated 56%)\n",
            "  adding: wmt19_translate_cs_en_converter/assets/en_vocab.txt (deflated 55%)\n",
            "  adding: wmt19_translate_cs_en_converter/saved_model.pb (deflated 91%)\n"
          ]
        }
      ],
      "source": [
        "!zip -r {model_name}.zip {model_name}"
      ]
    },
    {
      "cell_type": "code",
      "execution_count": null,
      "metadata": {
        "id": "0Synq0RekAXe",
        "colab": {
          "base_uri": "https://localhost:8080/"
        },
        "outputId": "1959b2a9-f6e3-4e87-83b1-e14d0824edec"
      },
      "outputs": [
        {
          "output_type": "stream",
          "name": "stdout",
          "text": [
            "38M\tdev.zip\n",
            "109M\ttraining-parallel-nc-v13.zip\n",
            "176K\twmt19_translate_cs_en_converter.zip\n"
          ]
        }
      ],
      "source": [
        "!du -h *.zip"
      ]
    },
    {
      "cell_type": "markdown",
      "metadata": {
        "id": "AtmGkGBuGHa2"
      },
      "source": [
        "<a id=\"algorithm\"></a>\n",
        "\n",
        "## Optional: The algorithm\n",
        "\n",
        "\n",
        "It's worth noting here that there are two versions of the WordPiece algorithm: Bottom-up and top-down. In both cases goal is the same: \"Given a training corpus and a number of desired\n",
        "tokens D, the optimization problem is to select D wordpieces such that the resulting corpus is minimal in the\n",
        "number of wordpieces when segmented according to the chosen wordpiece model.\"\n",
        "\n",
        "The  original [bottom-up WordPiece algorithm](https://static.googleusercontent.com/media/research.google.com/ja//pubs/archive/37842.pdf), is based on [byte-pair encoding](https://towardsdatascience.com/byte-pair-encoding-the-dark-horse-of-modern-nlp-eb36c7df4f10). Like BPE, It starts with the alphabet, and iteratively combines common bigrams to form word-pieces and words.\n",
        "\n",
        "TensorFlow Text's vocabulary generator follows the top-down implementation from [BERT](https://arxiv.org/pdf/1810.04805.pdf). Starting with words and breaking them down into smaller components until they hit the frequency threshold, or can't be broken down further. The next section describes this in detail. For Japanese, Chinese and Korean this top-down approach doesn't work since there are no explicit word units to start with. For those you need a [different approach](https://tfhub.dev/google/zh_segmentation/1).\n"
      ]
    },
    {
      "cell_type": "markdown",
      "metadata": {
        "id": "FLA2QhffYEo0"
      },
      "source": [
        "### Choosing the vocabulary\n",
        "\n",
        "The top-down WordPiece generation algorithm takes in a set of (word, count) pairs and a threshold `T`, and returns a vocabulary `V`.\n",
        "\n",
        "The algorithm is iterative. It is run for `k` iterations, where typically `k = 4`, but only the first two are really important. The third and fourth (and beyond) are just identical to the second. Note that each step of the binary search runs the algorithm from scratch for `k` iterations.\n",
        "\n",
        "The iterations described below:\n"
      ]
    },
    {
      "cell_type": "markdown",
      "metadata": {
        "id": "ZqfY0p3PYIKr"
      },
      "source": [
        "#### First iteration\n",
        "\n",
        "1.  Iterate over every word and count pair in the input, denoted as `(w, c)`.\n",
        "2.  For each word `w`, generate every substring, denoted as `s`. E.g., for the\n",
        "    word `human`, we generate `{h, hu, hum, huma,\n",
        "    human, ##u, ##um, ##uma, ##uman, ##m, ##ma, ##man, #a, ##an, ##n}`.\n",
        "3.  Maintain a substring-to-count hash map, and increment the count of each `s`\n",
        "    by `c`. E.g., if we have `(human, 113)` and `(humas, 3)` in our input, the\n",
        "    count of `s = huma` will be `113+3=116`.\n",
        "4.  Once we've collected the counts of every substring, iterate over the `(s,\n",
        "    c)` pairs *starting with the longest `s` first*.\n",
        "5.  Keep any `s` that has a `c > T`. E.g., if `T = 100` and we have `(pers,\n",
        "    231); (dogs, 259); (##rint; 76)`, then we would keep `pers` and `dogs`.\n",
        "6.  When an `s` is kept, subtract off its count from all of its prefixes. This\n",
        "    is the reason for sorting all of the `s` by length in step 4. This is a\n",
        "    critical part of the algorithm, because otherwise words would be double\n",
        "    counted. For example, let's say that we've kept `human` and we get to\n",
        "    `(huma, 116)`. We know that `113` of those `116` came from `human`, and `3`\n",
        "    came from `humas`. However, now that `human` is in our vocabulary, we know\n",
        "    we will never segment `human` into `huma ##n`. So once `human` has been\n",
        "    kept, then `huma` only has an *effective* count of `3`.\n",
        "\n",
        "This algorithm will generate a set of word pieces `s` (many of which will be\n",
        "whole words `w`), which we *could* use as our WordPiece vocabulary.\n",
        "\n",
        "However, there is a problem: This algorithm will severely overgenerate word\n",
        "pieces. The reason is that we only subtract off counts of prefix tokens.\n",
        "Therefore, if we keep the word `human`, we will subtract off the count for `h,\n",
        "hu, hu, huma`, but not for `##u, ##um, ##uma, ##uman` and so on. So we might\n",
        "generate both `human` and `##uman` as word pieces, even though `##uman` will\n",
        "never be applied.\n",
        "\n",
        "So why not subtract off the counts for every *substring*, not just every\n",
        "*prefix*? Because then we could end up subtracting off the counts multiple\n",
        "times. Let's say that we're processing `s` of length 5 and we keep both\n",
        "`(##denia, 129)` and `(##eniab, 137)`, where `65` of those counts came from the\n",
        "word `undeniable`. If we subtract off from *every* substring, we would subtract\n",
        "`65` from the substring `##enia` twice, even though we should only subtract\n",
        "once. However, if we only subtract off from prefixes, it will correctly only be\n",
        "subtracted once."
      ]
    },
    {
      "cell_type": "markdown",
      "metadata": {
        "id": "NNCtKR8xT9wX"
      },
      "source": [
        "#### Second (and third ...) iteration\n",
        "\n",
        "To solve the overgeneration issue mentioned above, we perform multiple\n",
        "iterations of the algorithm.\n",
        "\n",
        "Subsequent iterations are identical to the first, with one important\n",
        "distinction: In step 2, instead of considering *every* substring, we apply the\n",
        "WordPiece tokenization algorithm using the vocabulary from the previous\n",
        "iteration, and only consider substrings which *start* on a split point.\n",
        "\n",
        "For example, let's say that we're performing step 2 of the algorithm and\n",
        "encounter the word `undeniable`. In the first iteration, we would consider every\n",
        "substring, e.g., `{u, un, und, ..., undeniable, ##n, ##nd, ..., ##ndeniable,\n",
        "...}`.\n",
        "\n",
        "Now, for the second iteration, we will only consider a subset of these. Let's\n",
        "say that after the first iteration, the relevant word pieces are:\n",
        "\n",
        "`un, ##deni, ##able, ##ndeni, ##iable`\n",
        "\n",
        "The WordPiece algorithm will segment this into `un ##deni ##able` (see the\n",
        "section [Applying WordPiece](#applying-wordpiece) for more information). In this\n",
        "case, we will only consider substrings that *start* at a segmentation point. We\n",
        "will still consider every possible *end* position. So during the second\n",
        "iteration, the set of `s` for `undeniable` is:\n",
        "\n",
        "`{u, un, und, unden, undeni, undenia, undeniab, undeniabl,\n",
        "undeniable, ##d, ##de, ##den, ##deni, ##denia, ##deniab, ##deniabl\n",
        ", ##deniable, ##a, ##ab, ##abl, ##able}`\n",
        "\n",
        "The algorithm is otherwise identical. In this example, in the first iteration,\n",
        "the algorithm produces the spurious tokens `##ndeni` and `##iable`. Now, these\n",
        "tokens are never considered, so they will not be generated by the second\n",
        "iteration. We perform several iterations just to make sure the results converge\n",
        "(although there is no literal convergence guarantee).\n"
      ]
    },
    {
      "cell_type": "markdown",
      "metadata": {
        "id": "AdUkqe84YQA5"
      },
      "source": [
        "### Applying WordPiece\n",
        "\n",
        "<a id=\"applying_wordpiece\"></a>\n",
        "\n",
        "Once a WordPiece vocabulary has been generated, we need to be able to apply it\n",
        "to new data. The algorithm is a simple greedy longest-match-first application.\n",
        "\n",
        "For example, consider segmenting the word `undeniable`.\n",
        "\n",
        "We first lookup `undeniable` in our WordPiece dictionary, and if it's present,\n",
        "we're done. If not, we decrement the end point by one character, and repeat,\n",
        "e.g., `undeniabl`.\n",
        "\n",
        "Eventually, we will either find a subtoken in our vocabulary, or get down to a\n",
        "single character subtoken. (In general, we assume that every character is in our\n",
        "vocabulary, although this might not be the case for rare Unicode characters. If\n",
        "we encounter a rare Unicode character that's not in the vocabulary we simply map\n",
        "the entire word to `<unk>`).\n",
        "\n",
        "In this case, we find `un` in our vocabulary. So that's our first word piece.\n",
        "Then we jump to the end of `un` and repeat the processing, e.g., try to find\n",
        "`##deniable`, then `##deniabl`, etc. This is repeated until we've segmented the\n",
        "entire word."
      ]
    },
    {
      "cell_type": "markdown",
      "metadata": {
        "id": "rjRQKQzpYMl2"
      },
      "source": [
        "### Intuition\n",
        "\n",
        "Intuitively, WordPiece tokenization is trying to satisfy two different\n",
        "objectives:\n",
        "\n",
        "1.  Tokenize the data into the *least* number of pieces as possible. It is\n",
        "    important to keep in mind that the WordPiece algorithm does not \"want\" to\n",
        "    split words. Otherwise, it would just split every word into its characters,\n",
        "    e.g., `human -> {h, ##u, ##m, ##a, #n}`. This is one critical thing that\n",
        "    makes WordPiece different from morphological splitters, which will split\n",
        "    linguistic morphemes even for common words (e.g., `unwanted -> {un, want,\n",
        "    ed}`).\n",
        "\n",
        "2.  When a word does have to be split into pieces, split it into pieces that\n",
        "    have maximal counts in the training data. For example, the reason why the\n",
        "    word `undeniable` would be split into `{un, ##deni, ##able}` rather than\n",
        "    alternatives like `{unde, ##niab, ##le}` is that the counts for `un` and\n",
        "    `##able` in particular will be very high, since these are common prefixes\n",
        "    and suffixes. Even though the count for `##le` must be higher than `##able`,\n",
        "    the low counts of `unde` and `##niab` will make this a less \"desirable\"\n",
        "    tokenization to the algorithm."
      ]
    },
    {
      "cell_type": "markdown",
      "metadata": {
        "id": "KQZ38Uus-Xv1"
      },
      "source": [
        "## Optional: tf.lookup\n",
        "\n",
        "<a id=\"tf.lookup\"></a>"
      ]
    },
    {
      "cell_type": "markdown",
      "metadata": {
        "id": "NreDSRmJNG_h"
      },
      "source": [
        "If you need access to, or more control over the vocabulary it's worth noting that you can build the lookup table yourself and pass that to `BertTokenizer`.\n",
        "\n",
        "When you pass a string, `BertTokenizer` does the following:"
      ]
    },
    {
      "cell_type": "code",
      "execution_count": null,
      "metadata": {
        "id": "thAF1DzQOQXl"
      },
      "outputs": [],
      "source": [
        "pt_lookup = tf.lookup.StaticVocabularyTable(\n",
        "    num_oov_buckets=1,\n",
        "    initializer=tf.lookup.TextFileInitializer(\n",
        "        filename='pt_vocab.txt',\n",
        "        key_dtype=tf.string,\n",
        "        key_index = tf.lookup.TextFileIndex.WHOLE_LINE,\n",
        "        value_dtype = tf.int64,\n",
        "        value_index=tf.lookup.TextFileIndex.LINE_NUMBER)) \n",
        "pt_tokenizer = text.BertTokenizer(pt_lookup)"
      ]
    },
    {
      "cell_type": "markdown",
      "metadata": {
        "id": "ERY4FYN7O66R"
      },
      "source": [
        "Now you have direct access to the lookup table used in the tokenizer."
      ]
    },
    {
      "cell_type": "code",
      "execution_count": null,
      "metadata": {
        "id": "337_DcAMOs6N"
      },
      "outputs": [],
      "source": [
        "pt_lookup.lookup(tf.constant(['é', 'um', 'uma', 'para', 'não']))"
      ]
    },
    {
      "cell_type": "markdown",
      "metadata": {
        "id": "BdZ82x5mPDE9"
      },
      "source": [
        "You don't need to use a vocabulary file, `tf.lookup` has other initializer options. If you have the vocabulary in memory you can use `lookup.KeyValueTensorInitializer`:"
      ]
    },
    {
      "cell_type": "code",
      "execution_count": null,
      "metadata": {
        "id": "mzkrmO9H-b9i"
      },
      "outputs": [],
      "source": [
        "pt_lookup = tf.lookup.StaticVocabularyTable(\n",
        "    num_oov_buckets=1,\n",
        "    initializer=tf.lookup.KeyValueTensorInitializer(\n",
        "        keys=pt_vocab,\n",
        "        values=tf.range(len(pt_vocab), dtype=tf.int64))) \n",
        "pt_tokenizer = text.BertTokenizer(pt_lookup)"
      ]
    }
  ],
  "metadata": {
    "colab": {
      "provenance": []
    },
    "kernelspec": {
      "display_name": "Python 3",
      "name": "python3"
    },
    "widgets": {
      "application/vnd.jupyter.widget-state+json": {
        "8b2aa497247e4f2b8f595fe4e66c83a9": {
          "model_module": "@jupyter-widgets/controls",
          "model_name": "HBoxModel",
          "model_module_version": "1.5.0",
          "state": {
            "_dom_classes": [],
            "_model_module": "@jupyter-widgets/controls",
            "_model_module_version": "1.5.0",
            "_model_name": "HBoxModel",
            "_view_count": null,
            "_view_module": "@jupyter-widgets/controls",
            "_view_module_version": "1.5.0",
            "_view_name": "HBoxView",
            "box_style": "",
            "children": [
              "IPY_MODEL_05e2ca51214d4bdcbe57b01d8b73a632",
              "IPY_MODEL_9971dfeecd5c43a9bc510e9b88716cc3",
              "IPY_MODEL_da86417d06d64203a36c0c4b9d836a6f"
            ],
            "layout": "IPY_MODEL_8cabadb8e56a469ea21860855c34df56"
          }
        },
        "05e2ca51214d4bdcbe57b01d8b73a632": {
          "model_module": "@jupyter-widgets/controls",
          "model_name": "HTMLModel",
          "model_module_version": "1.5.0",
          "state": {
            "_dom_classes": [],
            "_model_module": "@jupyter-widgets/controls",
            "_model_module_version": "1.5.0",
            "_model_name": "HTMLModel",
            "_view_count": null,
            "_view_module": "@jupyter-widgets/controls",
            "_view_module_version": "1.5.0",
            "_view_name": "HTMLView",
            "description": "",
            "description_tooltip": null,
            "layout": "IPY_MODEL_0b43a96a0da34f1b967a4777ef6de12e",
            "placeholder": "​",
            "style": "IPY_MODEL_a46d1f8d56a04b3d81f1bdfa3d3ac6b5",
            "value": "Dl Completed...: 100%"
          }
        },
        "9971dfeecd5c43a9bc510e9b88716cc3": {
          "model_module": "@jupyter-widgets/controls",
          "model_name": "FloatProgressModel",
          "model_module_version": "1.5.0",
          "state": {
            "_dom_classes": [],
            "_model_module": "@jupyter-widgets/controls",
            "_model_module_version": "1.5.0",
            "_model_name": "FloatProgressModel",
            "_view_count": null,
            "_view_module": "@jupyter-widgets/controls",
            "_view_module_version": "1.5.0",
            "_view_name": "ProgressView",
            "bar_style": "success",
            "description": "",
            "description_tooltip": null,
            "layout": "IPY_MODEL_ce614fe298404a6dadb2bf0db688360f",
            "max": 1,
            "min": 0,
            "orientation": "horizontal",
            "style": "IPY_MODEL_7f2ce2b90c054435a891a1260e91aa8d",
            "value": 1
          }
        },
        "da86417d06d64203a36c0c4b9d836a6f": {
          "model_module": "@jupyter-widgets/controls",
          "model_name": "HTMLModel",
          "model_module_version": "1.5.0",
          "state": {
            "_dom_classes": [],
            "_model_module": "@jupyter-widgets/controls",
            "_model_module_version": "1.5.0",
            "_model_name": "HTMLModel",
            "_view_count": null,
            "_view_module": "@jupyter-widgets/controls",
            "_view_module_version": "1.5.0",
            "_view_name": "HTMLView",
            "description": "",
            "description_tooltip": null,
            "layout": "IPY_MODEL_9d85efd776b44d86a2d35ba8d3e4acd6",
            "placeholder": "​",
            "style": "IPY_MODEL_4b7df6fc186243a2adfcc48ad834d3d9",
            "value": " 2/2 [00:12&lt;00:00,  3.47s/ url]"
          }
        },
        "8cabadb8e56a469ea21860855c34df56": {
          "model_module": "@jupyter-widgets/base",
          "model_name": "LayoutModel",
          "model_module_version": "1.2.0",
          "state": {
            "_model_module": "@jupyter-widgets/base",
            "_model_module_version": "1.2.0",
            "_model_name": "LayoutModel",
            "_view_count": null,
            "_view_module": "@jupyter-widgets/base",
            "_view_module_version": "1.2.0",
            "_view_name": "LayoutView",
            "align_content": null,
            "align_items": null,
            "align_self": null,
            "border": null,
            "bottom": null,
            "display": null,
            "flex": null,
            "flex_flow": null,
            "grid_area": null,
            "grid_auto_columns": null,
            "grid_auto_flow": null,
            "grid_auto_rows": null,
            "grid_column": null,
            "grid_gap": null,
            "grid_row": null,
            "grid_template_areas": null,
            "grid_template_columns": null,
            "grid_template_rows": null,
            "height": null,
            "justify_content": null,
            "justify_items": null,
            "left": null,
            "margin": null,
            "max_height": null,
            "max_width": null,
            "min_height": null,
            "min_width": null,
            "object_fit": null,
            "object_position": null,
            "order": null,
            "overflow": null,
            "overflow_x": null,
            "overflow_y": null,
            "padding": null,
            "right": null,
            "top": null,
            "visibility": null,
            "width": null
          }
        },
        "0b43a96a0da34f1b967a4777ef6de12e": {
          "model_module": "@jupyter-widgets/base",
          "model_name": "LayoutModel",
          "model_module_version": "1.2.0",
          "state": {
            "_model_module": "@jupyter-widgets/base",
            "_model_module_version": "1.2.0",
            "_model_name": "LayoutModel",
            "_view_count": null,
            "_view_module": "@jupyter-widgets/base",
            "_view_module_version": "1.2.0",
            "_view_name": "LayoutView",
            "align_content": null,
            "align_items": null,
            "align_self": null,
            "border": null,
            "bottom": null,
            "display": null,
            "flex": null,
            "flex_flow": null,
            "grid_area": null,
            "grid_auto_columns": null,
            "grid_auto_flow": null,
            "grid_auto_rows": null,
            "grid_column": null,
            "grid_gap": null,
            "grid_row": null,
            "grid_template_areas": null,
            "grid_template_columns": null,
            "grid_template_rows": null,
            "height": null,
            "justify_content": null,
            "justify_items": null,
            "left": null,
            "margin": null,
            "max_height": null,
            "max_width": null,
            "min_height": null,
            "min_width": null,
            "object_fit": null,
            "object_position": null,
            "order": null,
            "overflow": null,
            "overflow_x": null,
            "overflow_y": null,
            "padding": null,
            "right": null,
            "top": null,
            "visibility": null,
            "width": null
          }
        },
        "a46d1f8d56a04b3d81f1bdfa3d3ac6b5": {
          "model_module": "@jupyter-widgets/controls",
          "model_name": "DescriptionStyleModel",
          "model_module_version": "1.5.0",
          "state": {
            "_model_module": "@jupyter-widgets/controls",
            "_model_module_version": "1.5.0",
            "_model_name": "DescriptionStyleModel",
            "_view_count": null,
            "_view_module": "@jupyter-widgets/base",
            "_view_module_version": "1.2.0",
            "_view_name": "StyleView",
            "description_width": ""
          }
        },
        "ce614fe298404a6dadb2bf0db688360f": {
          "model_module": "@jupyter-widgets/base",
          "model_name": "LayoutModel",
          "model_module_version": "1.2.0",
          "state": {
            "_model_module": "@jupyter-widgets/base",
            "_model_module_version": "1.2.0",
            "_model_name": "LayoutModel",
            "_view_count": null,
            "_view_module": "@jupyter-widgets/base",
            "_view_module_version": "1.2.0",
            "_view_name": "LayoutView",
            "align_content": null,
            "align_items": null,
            "align_self": null,
            "border": null,
            "bottom": null,
            "display": null,
            "flex": null,
            "flex_flow": null,
            "grid_area": null,
            "grid_auto_columns": null,
            "grid_auto_flow": null,
            "grid_auto_rows": null,
            "grid_column": null,
            "grid_gap": null,
            "grid_row": null,
            "grid_template_areas": null,
            "grid_template_columns": null,
            "grid_template_rows": null,
            "height": null,
            "justify_content": null,
            "justify_items": null,
            "left": null,
            "margin": null,
            "max_height": null,
            "max_width": null,
            "min_height": null,
            "min_width": null,
            "object_fit": null,
            "object_position": null,
            "order": null,
            "overflow": null,
            "overflow_x": null,
            "overflow_y": null,
            "padding": null,
            "right": null,
            "top": null,
            "visibility": null,
            "width": "20px"
          }
        },
        "7f2ce2b90c054435a891a1260e91aa8d": {
          "model_module": "@jupyter-widgets/controls",
          "model_name": "ProgressStyleModel",
          "model_module_version": "1.5.0",
          "state": {
            "_model_module": "@jupyter-widgets/controls",
            "_model_module_version": "1.5.0",
            "_model_name": "ProgressStyleModel",
            "_view_count": null,
            "_view_module": "@jupyter-widgets/base",
            "_view_module_version": "1.2.0",
            "_view_name": "StyleView",
            "bar_color": null,
            "description_width": ""
          }
        },
        "9d85efd776b44d86a2d35ba8d3e4acd6": {
          "model_module": "@jupyter-widgets/base",
          "model_name": "LayoutModel",
          "model_module_version": "1.2.0",
          "state": {
            "_model_module": "@jupyter-widgets/base",
            "_model_module_version": "1.2.0",
            "_model_name": "LayoutModel",
            "_view_count": null,
            "_view_module": "@jupyter-widgets/base",
            "_view_module_version": "1.2.0",
            "_view_name": "LayoutView",
            "align_content": null,
            "align_items": null,
            "align_self": null,
            "border": null,
            "bottom": null,
            "display": null,
            "flex": null,
            "flex_flow": null,
            "grid_area": null,
            "grid_auto_columns": null,
            "grid_auto_flow": null,
            "grid_auto_rows": null,
            "grid_column": null,
            "grid_gap": null,
            "grid_row": null,
            "grid_template_areas": null,
            "grid_template_columns": null,
            "grid_template_rows": null,
            "height": null,
            "justify_content": null,
            "justify_items": null,
            "left": null,
            "margin": null,
            "max_height": null,
            "max_width": null,
            "min_height": null,
            "min_width": null,
            "object_fit": null,
            "object_position": null,
            "order": null,
            "overflow": null,
            "overflow_x": null,
            "overflow_y": null,
            "padding": null,
            "right": null,
            "top": null,
            "visibility": null,
            "width": null
          }
        },
        "4b7df6fc186243a2adfcc48ad834d3d9": {
          "model_module": "@jupyter-widgets/controls",
          "model_name": "DescriptionStyleModel",
          "model_module_version": "1.5.0",
          "state": {
            "_model_module": "@jupyter-widgets/controls",
            "_model_module_version": "1.5.0",
            "_model_name": "DescriptionStyleModel",
            "_view_count": null,
            "_view_module": "@jupyter-widgets/base",
            "_view_module_version": "1.2.0",
            "_view_name": "StyleView",
            "description_width": ""
          }
        },
        "66f41c7e0e2c41e9b86bc7f9f24c7d4f": {
          "model_module": "@jupyter-widgets/controls",
          "model_name": "HBoxModel",
          "model_module_version": "1.5.0",
          "state": {
            "_dom_classes": [],
            "_model_module": "@jupyter-widgets/controls",
            "_model_module_version": "1.5.0",
            "_model_name": "HBoxModel",
            "_view_count": null,
            "_view_module": "@jupyter-widgets/controls",
            "_view_module_version": "1.5.0",
            "_view_name": "HBoxView",
            "box_style": "",
            "children": [
              "IPY_MODEL_2ef94aa6701e4eed832c39db28145832",
              "IPY_MODEL_df743e628127407ba81a2eb374c9c8fc",
              "IPY_MODEL_c6979350da384a3788ac403b954255ad"
            ],
            "layout": "IPY_MODEL_9c9b25b1469045b5aadb904cfb8d2f04"
          }
        },
        "2ef94aa6701e4eed832c39db28145832": {
          "model_module": "@jupyter-widgets/controls",
          "model_name": "HTMLModel",
          "model_module_version": "1.5.0",
          "state": {
            "_dom_classes": [],
            "_model_module": "@jupyter-widgets/controls",
            "_model_module_version": "1.5.0",
            "_model_name": "HTMLModel",
            "_view_count": null,
            "_view_module": "@jupyter-widgets/controls",
            "_view_module_version": "1.5.0",
            "_view_name": "HTMLView",
            "description": "",
            "description_tooltip": null,
            "layout": "IPY_MODEL_f3a99aed0edf4592a55f03449ceb0c20",
            "placeholder": "​",
            "style": "IPY_MODEL_ceb129004a1340beb4ceb55c6bc35969",
            "value": "Dl Size...: 100%"
          }
        },
        "df743e628127407ba81a2eb374c9c8fc": {
          "model_module": "@jupyter-widgets/controls",
          "model_name": "FloatProgressModel",
          "model_module_version": "1.5.0",
          "state": {
            "_dom_classes": [],
            "_model_module": "@jupyter-widgets/controls",
            "_model_module_version": "1.5.0",
            "_model_name": "FloatProgressModel",
            "_view_count": null,
            "_view_module": "@jupyter-widgets/controls",
            "_view_module_version": "1.5.0",
            "_view_name": "ProgressView",
            "bar_style": "success",
            "description": "",
            "description_tooltip": null,
            "layout": "IPY_MODEL_29f66b08ca294a09bd9226d3b4449611",
            "max": 1,
            "min": 0,
            "orientation": "horizontal",
            "style": "IPY_MODEL_ddcd5f9751f6489285d90bab486b5e5c",
            "value": 1
          }
        },
        "c6979350da384a3788ac403b954255ad": {
          "model_module": "@jupyter-widgets/controls",
          "model_name": "HTMLModel",
          "model_module_version": "1.5.0",
          "state": {
            "_dom_classes": [],
            "_model_module": "@jupyter-widgets/controls",
            "_model_module_version": "1.5.0",
            "_model_name": "HTMLModel",
            "_view_count": null,
            "_view_module": "@jupyter-widgets/controls",
            "_view_module_version": "1.5.0",
            "_view_name": "HTMLView",
            "description": "",
            "description_tooltip": null,
            "layout": "IPY_MODEL_0614b3f2e7724487b9b71a4a7712658b",
            "placeholder": "​",
            "style": "IPY_MODEL_8514202a1a69451498f478d505f8139a",
            "value": " 143/143 [00:11&lt;00:00, 20.83 MiB/s]"
          }
        },
        "9c9b25b1469045b5aadb904cfb8d2f04": {
          "model_module": "@jupyter-widgets/base",
          "model_name": "LayoutModel",
          "model_module_version": "1.2.0",
          "state": {
            "_model_module": "@jupyter-widgets/base",
            "_model_module_version": "1.2.0",
            "_model_name": "LayoutModel",
            "_view_count": null,
            "_view_module": "@jupyter-widgets/base",
            "_view_module_version": "1.2.0",
            "_view_name": "LayoutView",
            "align_content": null,
            "align_items": null,
            "align_self": null,
            "border": null,
            "bottom": null,
            "display": null,
            "flex": null,
            "flex_flow": null,
            "grid_area": null,
            "grid_auto_columns": null,
            "grid_auto_flow": null,
            "grid_auto_rows": null,
            "grid_column": null,
            "grid_gap": null,
            "grid_row": null,
            "grid_template_areas": null,
            "grid_template_columns": null,
            "grid_template_rows": null,
            "height": null,
            "justify_content": null,
            "justify_items": null,
            "left": null,
            "margin": null,
            "max_height": null,
            "max_width": null,
            "min_height": null,
            "min_width": null,
            "object_fit": null,
            "object_position": null,
            "order": null,
            "overflow": null,
            "overflow_x": null,
            "overflow_y": null,
            "padding": null,
            "right": null,
            "top": null,
            "visibility": null,
            "width": null
          }
        },
        "f3a99aed0edf4592a55f03449ceb0c20": {
          "model_module": "@jupyter-widgets/base",
          "model_name": "LayoutModel",
          "model_module_version": "1.2.0",
          "state": {
            "_model_module": "@jupyter-widgets/base",
            "_model_module_version": "1.2.0",
            "_model_name": "LayoutModel",
            "_view_count": null,
            "_view_module": "@jupyter-widgets/base",
            "_view_module_version": "1.2.0",
            "_view_name": "LayoutView",
            "align_content": null,
            "align_items": null,
            "align_self": null,
            "border": null,
            "bottom": null,
            "display": null,
            "flex": null,
            "flex_flow": null,
            "grid_area": null,
            "grid_auto_columns": null,
            "grid_auto_flow": null,
            "grid_auto_rows": null,
            "grid_column": null,
            "grid_gap": null,
            "grid_row": null,
            "grid_template_areas": null,
            "grid_template_columns": null,
            "grid_template_rows": null,
            "height": null,
            "justify_content": null,
            "justify_items": null,
            "left": null,
            "margin": null,
            "max_height": null,
            "max_width": null,
            "min_height": null,
            "min_width": null,
            "object_fit": null,
            "object_position": null,
            "order": null,
            "overflow": null,
            "overflow_x": null,
            "overflow_y": null,
            "padding": null,
            "right": null,
            "top": null,
            "visibility": null,
            "width": null
          }
        },
        "ceb129004a1340beb4ceb55c6bc35969": {
          "model_module": "@jupyter-widgets/controls",
          "model_name": "DescriptionStyleModel",
          "model_module_version": "1.5.0",
          "state": {
            "_model_module": "@jupyter-widgets/controls",
            "_model_module_version": "1.5.0",
            "_model_name": "DescriptionStyleModel",
            "_view_count": null,
            "_view_module": "@jupyter-widgets/base",
            "_view_module_version": "1.2.0",
            "_view_name": "StyleView",
            "description_width": ""
          }
        },
        "29f66b08ca294a09bd9226d3b4449611": {
          "model_module": "@jupyter-widgets/base",
          "model_name": "LayoutModel",
          "model_module_version": "1.2.0",
          "state": {
            "_model_module": "@jupyter-widgets/base",
            "_model_module_version": "1.2.0",
            "_model_name": "LayoutModel",
            "_view_count": null,
            "_view_module": "@jupyter-widgets/base",
            "_view_module_version": "1.2.0",
            "_view_name": "LayoutView",
            "align_content": null,
            "align_items": null,
            "align_self": null,
            "border": null,
            "bottom": null,
            "display": null,
            "flex": null,
            "flex_flow": null,
            "grid_area": null,
            "grid_auto_columns": null,
            "grid_auto_flow": null,
            "grid_auto_rows": null,
            "grid_column": null,
            "grid_gap": null,
            "grid_row": null,
            "grid_template_areas": null,
            "grid_template_columns": null,
            "grid_template_rows": null,
            "height": null,
            "justify_content": null,
            "justify_items": null,
            "left": null,
            "margin": null,
            "max_height": null,
            "max_width": null,
            "min_height": null,
            "min_width": null,
            "object_fit": null,
            "object_position": null,
            "order": null,
            "overflow": null,
            "overflow_x": null,
            "overflow_y": null,
            "padding": null,
            "right": null,
            "top": null,
            "visibility": null,
            "width": "20px"
          }
        },
        "ddcd5f9751f6489285d90bab486b5e5c": {
          "model_module": "@jupyter-widgets/controls",
          "model_name": "ProgressStyleModel",
          "model_module_version": "1.5.0",
          "state": {
            "_model_module": "@jupyter-widgets/controls",
            "_model_module_version": "1.5.0",
            "_model_name": "ProgressStyleModel",
            "_view_count": null,
            "_view_module": "@jupyter-widgets/base",
            "_view_module_version": "1.2.0",
            "_view_name": "StyleView",
            "bar_color": null,
            "description_width": ""
          }
        },
        "0614b3f2e7724487b9b71a4a7712658b": {
          "model_module": "@jupyter-widgets/base",
          "model_name": "LayoutModel",
          "model_module_version": "1.2.0",
          "state": {
            "_model_module": "@jupyter-widgets/base",
            "_model_module_version": "1.2.0",
            "_model_name": "LayoutModel",
            "_view_count": null,
            "_view_module": "@jupyter-widgets/base",
            "_view_module_version": "1.2.0",
            "_view_name": "LayoutView",
            "align_content": null,
            "align_items": null,
            "align_self": null,
            "border": null,
            "bottom": null,
            "display": null,
            "flex": null,
            "flex_flow": null,
            "grid_area": null,
            "grid_auto_columns": null,
            "grid_auto_flow": null,
            "grid_auto_rows": null,
            "grid_column": null,
            "grid_gap": null,
            "grid_row": null,
            "grid_template_areas": null,
            "grid_template_columns": null,
            "grid_template_rows": null,
            "height": null,
            "justify_content": null,
            "justify_items": null,
            "left": null,
            "margin": null,
            "max_height": null,
            "max_width": null,
            "min_height": null,
            "min_width": null,
            "object_fit": null,
            "object_position": null,
            "order": null,
            "overflow": null,
            "overflow_x": null,
            "overflow_y": null,
            "padding": null,
            "right": null,
            "top": null,
            "visibility": null,
            "width": null
          }
        },
        "8514202a1a69451498f478d505f8139a": {
          "model_module": "@jupyter-widgets/controls",
          "model_name": "DescriptionStyleModel",
          "model_module_version": "1.5.0",
          "state": {
            "_model_module": "@jupyter-widgets/controls",
            "_model_module_version": "1.5.0",
            "_model_name": "DescriptionStyleModel",
            "_view_count": null,
            "_view_module": "@jupyter-widgets/base",
            "_view_module_version": "1.2.0",
            "_view_name": "StyleView",
            "description_width": ""
          }
        },
        "9563c9a2e0e74d86b3128684f70048ff": {
          "model_module": "@jupyter-widgets/controls",
          "model_name": "HBoxModel",
          "model_module_version": "1.5.0",
          "state": {
            "_dom_classes": [],
            "_model_module": "@jupyter-widgets/controls",
            "_model_module_version": "1.5.0",
            "_model_name": "HBoxModel",
            "_view_count": null,
            "_view_module": "@jupyter-widgets/controls",
            "_view_module_version": "1.5.0",
            "_view_name": "HBoxView",
            "box_style": "",
            "children": [
              "IPY_MODEL_652eb95da1224fbfb5a31f0ddfc1ba6c",
              "IPY_MODEL_d771f334a0aa441baa7d8efb0a0f93cc",
              "IPY_MODEL_96162b6457a14342ba5e23c7b0bf9007"
            ],
            "layout": "IPY_MODEL_6e2755ad215f4f5badf7dc174c370022"
          }
        },
        "652eb95da1224fbfb5a31f0ddfc1ba6c": {
          "model_module": "@jupyter-widgets/controls",
          "model_name": "HTMLModel",
          "model_module_version": "1.5.0",
          "state": {
            "_dom_classes": [],
            "_model_module": "@jupyter-widgets/controls",
            "_model_module_version": "1.5.0",
            "_model_name": "HTMLModel",
            "_view_count": null,
            "_view_module": "@jupyter-widgets/controls",
            "_view_module_version": "1.5.0",
            "_view_name": "HTMLView",
            "description": "",
            "description_tooltip": null,
            "layout": "IPY_MODEL_6269eff7eddd458282094d4b2e2d8ee7",
            "placeholder": "​",
            "style": "IPY_MODEL_c1777e1720fd49be8876f9eca9abcc68",
            "value": "Extraction completed...: 100%"
          }
        },
        "d771f334a0aa441baa7d8efb0a0f93cc": {
          "model_module": "@jupyter-widgets/controls",
          "model_name": "FloatProgressModel",
          "model_module_version": "1.5.0",
          "state": {
            "_dom_classes": [],
            "_model_module": "@jupyter-widgets/controls",
            "_model_module_version": "1.5.0",
            "_model_name": "FloatProgressModel",
            "_view_count": null,
            "_view_module": "@jupyter-widgets/controls",
            "_view_module_version": "1.5.0",
            "_view_name": "ProgressView",
            "bar_style": "success",
            "description": "",
            "description_tooltip": null,
            "layout": "IPY_MODEL_b4ced9f1c12c4036b66fe25f9e0cf9bf",
            "max": 1,
            "min": 0,
            "orientation": "horizontal",
            "style": "IPY_MODEL_9686f6319b244e9b84a2682d93528c04",
            "value": 1
          }
        },
        "96162b6457a14342ba5e23c7b0bf9007": {
          "model_module": "@jupyter-widgets/controls",
          "model_name": "HTMLModel",
          "model_module_version": "1.5.0",
          "state": {
            "_dom_classes": [],
            "_model_module": "@jupyter-widgets/controls",
            "_model_module_version": "1.5.0",
            "_model_name": "HTMLModel",
            "_view_count": null,
            "_view_module": "@jupyter-widgets/controls",
            "_view_module_version": "1.5.0",
            "_view_name": "HTMLView",
            "description": "",
            "description_tooltip": null,
            "layout": "IPY_MODEL_b5c4058b4e6745eb97f5068ca107bbca",
            "placeholder": "​",
            "style": "IPY_MODEL_285709aac4304a36b8278fc4447cc503",
            "value": " 2/2 [00:11&lt;00:00,  5.65s/ file]"
          }
        },
        "6e2755ad215f4f5badf7dc174c370022": {
          "model_module": "@jupyter-widgets/base",
          "model_name": "LayoutModel",
          "model_module_version": "1.2.0",
          "state": {
            "_model_module": "@jupyter-widgets/base",
            "_model_module_version": "1.2.0",
            "_model_name": "LayoutModel",
            "_view_count": null,
            "_view_module": "@jupyter-widgets/base",
            "_view_module_version": "1.2.0",
            "_view_name": "LayoutView",
            "align_content": null,
            "align_items": null,
            "align_self": null,
            "border": null,
            "bottom": null,
            "display": null,
            "flex": null,
            "flex_flow": null,
            "grid_area": null,
            "grid_auto_columns": null,
            "grid_auto_flow": null,
            "grid_auto_rows": null,
            "grid_column": null,
            "grid_gap": null,
            "grid_row": null,
            "grid_template_areas": null,
            "grid_template_columns": null,
            "grid_template_rows": null,
            "height": null,
            "justify_content": null,
            "justify_items": null,
            "left": null,
            "margin": null,
            "max_height": null,
            "max_width": null,
            "min_height": null,
            "min_width": null,
            "object_fit": null,
            "object_position": null,
            "order": null,
            "overflow": null,
            "overflow_x": null,
            "overflow_y": null,
            "padding": null,
            "right": null,
            "top": null,
            "visibility": null,
            "width": null
          }
        },
        "6269eff7eddd458282094d4b2e2d8ee7": {
          "model_module": "@jupyter-widgets/base",
          "model_name": "LayoutModel",
          "model_module_version": "1.2.0",
          "state": {
            "_model_module": "@jupyter-widgets/base",
            "_model_module_version": "1.2.0",
            "_model_name": "LayoutModel",
            "_view_count": null,
            "_view_module": "@jupyter-widgets/base",
            "_view_module_version": "1.2.0",
            "_view_name": "LayoutView",
            "align_content": null,
            "align_items": null,
            "align_self": null,
            "border": null,
            "bottom": null,
            "display": null,
            "flex": null,
            "flex_flow": null,
            "grid_area": null,
            "grid_auto_columns": null,
            "grid_auto_flow": null,
            "grid_auto_rows": null,
            "grid_column": null,
            "grid_gap": null,
            "grid_row": null,
            "grid_template_areas": null,
            "grid_template_columns": null,
            "grid_template_rows": null,
            "height": null,
            "justify_content": null,
            "justify_items": null,
            "left": null,
            "margin": null,
            "max_height": null,
            "max_width": null,
            "min_height": null,
            "min_width": null,
            "object_fit": null,
            "object_position": null,
            "order": null,
            "overflow": null,
            "overflow_x": null,
            "overflow_y": null,
            "padding": null,
            "right": null,
            "top": null,
            "visibility": null,
            "width": null
          }
        },
        "c1777e1720fd49be8876f9eca9abcc68": {
          "model_module": "@jupyter-widgets/controls",
          "model_name": "DescriptionStyleModel",
          "model_module_version": "1.5.0",
          "state": {
            "_model_module": "@jupyter-widgets/controls",
            "_model_module_version": "1.5.0",
            "_model_name": "DescriptionStyleModel",
            "_view_count": null,
            "_view_module": "@jupyter-widgets/base",
            "_view_module_version": "1.2.0",
            "_view_name": "StyleView",
            "description_width": ""
          }
        },
        "b4ced9f1c12c4036b66fe25f9e0cf9bf": {
          "model_module": "@jupyter-widgets/base",
          "model_name": "LayoutModel",
          "model_module_version": "1.2.0",
          "state": {
            "_model_module": "@jupyter-widgets/base",
            "_model_module_version": "1.2.0",
            "_model_name": "LayoutModel",
            "_view_count": null,
            "_view_module": "@jupyter-widgets/base",
            "_view_module_version": "1.2.0",
            "_view_name": "LayoutView",
            "align_content": null,
            "align_items": null,
            "align_self": null,
            "border": null,
            "bottom": null,
            "display": null,
            "flex": null,
            "flex_flow": null,
            "grid_area": null,
            "grid_auto_columns": null,
            "grid_auto_flow": null,
            "grid_auto_rows": null,
            "grid_column": null,
            "grid_gap": null,
            "grid_row": null,
            "grid_template_areas": null,
            "grid_template_columns": null,
            "grid_template_rows": null,
            "height": null,
            "justify_content": null,
            "justify_items": null,
            "left": null,
            "margin": null,
            "max_height": null,
            "max_width": null,
            "min_height": null,
            "min_width": null,
            "object_fit": null,
            "object_position": null,
            "order": null,
            "overflow": null,
            "overflow_x": null,
            "overflow_y": null,
            "padding": null,
            "right": null,
            "top": null,
            "visibility": null,
            "width": "20px"
          }
        },
        "9686f6319b244e9b84a2682d93528c04": {
          "model_module": "@jupyter-widgets/controls",
          "model_name": "ProgressStyleModel",
          "model_module_version": "1.5.0",
          "state": {
            "_model_module": "@jupyter-widgets/controls",
            "_model_module_version": "1.5.0",
            "_model_name": "ProgressStyleModel",
            "_view_count": null,
            "_view_module": "@jupyter-widgets/base",
            "_view_module_version": "1.2.0",
            "_view_name": "StyleView",
            "bar_color": null,
            "description_width": ""
          }
        },
        "b5c4058b4e6745eb97f5068ca107bbca": {
          "model_module": "@jupyter-widgets/base",
          "model_name": "LayoutModel",
          "model_module_version": "1.2.0",
          "state": {
            "_model_module": "@jupyter-widgets/base",
            "_model_module_version": "1.2.0",
            "_model_name": "LayoutModel",
            "_view_count": null,
            "_view_module": "@jupyter-widgets/base",
            "_view_module_version": "1.2.0",
            "_view_name": "LayoutView",
            "align_content": null,
            "align_items": null,
            "align_self": null,
            "border": null,
            "bottom": null,
            "display": null,
            "flex": null,
            "flex_flow": null,
            "grid_area": null,
            "grid_auto_columns": null,
            "grid_auto_flow": null,
            "grid_auto_rows": null,
            "grid_column": null,
            "grid_gap": null,
            "grid_row": null,
            "grid_template_areas": null,
            "grid_template_columns": null,
            "grid_template_rows": null,
            "height": null,
            "justify_content": null,
            "justify_items": null,
            "left": null,
            "margin": null,
            "max_height": null,
            "max_width": null,
            "min_height": null,
            "min_width": null,
            "object_fit": null,
            "object_position": null,
            "order": null,
            "overflow": null,
            "overflow_x": null,
            "overflow_y": null,
            "padding": null,
            "right": null,
            "top": null,
            "visibility": null,
            "width": null
          }
        },
        "285709aac4304a36b8278fc4447cc503": {
          "model_module": "@jupyter-widgets/controls",
          "model_name": "DescriptionStyleModel",
          "model_module_version": "1.5.0",
          "state": {
            "_model_module": "@jupyter-widgets/controls",
            "_model_module_version": "1.5.0",
            "_model_name": "DescriptionStyleModel",
            "_view_count": null,
            "_view_module": "@jupyter-widgets/base",
            "_view_module_version": "1.2.0",
            "_view_name": "StyleView",
            "description_width": ""
          }
        },
        "7170ae4ab6cf4283a9458f3c53291160": {
          "model_module": "@jupyter-widgets/controls",
          "model_name": "HBoxModel",
          "model_module_version": "1.5.0",
          "state": {
            "_dom_classes": [],
            "_model_module": "@jupyter-widgets/controls",
            "_model_module_version": "1.5.0",
            "_model_name": "HBoxModel",
            "_view_count": null,
            "_view_module": "@jupyter-widgets/controls",
            "_view_module_version": "1.5.0",
            "_view_name": "HBoxView",
            "box_style": "",
            "children": [
              "IPY_MODEL_30777317750b4a0c8f3ca75a4011fb80",
              "IPY_MODEL_595dc1c2a56644cba7bef6a469cb314d",
              "IPY_MODEL_0cb22fa47e8b4532beb6816eebe25583"
            ],
            "layout": "IPY_MODEL_2fea7e713afe42db975bb1a424e964aa"
          }
        },
        "30777317750b4a0c8f3ca75a4011fb80": {
          "model_module": "@jupyter-widgets/controls",
          "model_name": "HTMLModel",
          "model_module_version": "1.5.0",
          "state": {
            "_dom_classes": [],
            "_model_module": "@jupyter-widgets/controls",
            "_model_module_version": "1.5.0",
            "_model_name": "HTMLModel",
            "_view_count": null,
            "_view_module": "@jupyter-widgets/controls",
            "_view_module_version": "1.5.0",
            "_view_name": "HTMLView",
            "description": "",
            "description_tooltip": null,
            "layout": "IPY_MODEL_ce1a8b2f838047c289fe4356585fa1de",
            "placeholder": "​",
            "style": "IPY_MODEL_d88287aa62a4461c96c60deefe837f94",
            "value": "Extraction completed...: "
          }
        },
        "595dc1c2a56644cba7bef6a469cb314d": {
          "model_module": "@jupyter-widgets/controls",
          "model_name": "FloatProgressModel",
          "model_module_version": "1.5.0",
          "state": {
            "_dom_classes": [],
            "_model_module": "@jupyter-widgets/controls",
            "_model_module_version": "1.5.0",
            "_model_name": "FloatProgressModel",
            "_view_count": null,
            "_view_module": "@jupyter-widgets/controls",
            "_view_module_version": "1.5.0",
            "_view_name": "ProgressView",
            "bar_style": "success",
            "description": "",
            "description_tooltip": null,
            "layout": "IPY_MODEL_efe24af92aef44a492ffc8156880ae57",
            "max": 1,
            "min": 0,
            "orientation": "horizontal",
            "style": "IPY_MODEL_6607c8928a1c41bf9e4629ecb1d23daf",
            "value": 0
          }
        },
        "0cb22fa47e8b4532beb6816eebe25583": {
          "model_module": "@jupyter-widgets/controls",
          "model_name": "HTMLModel",
          "model_module_version": "1.5.0",
          "state": {
            "_dom_classes": [],
            "_model_module": "@jupyter-widgets/controls",
            "_model_module_version": "1.5.0",
            "_model_name": "HTMLModel",
            "_view_count": null,
            "_view_module": "@jupyter-widgets/controls",
            "_view_module_version": "1.5.0",
            "_view_name": "HTMLView",
            "description": "",
            "description_tooltip": null,
            "layout": "IPY_MODEL_e24d30753f384cf1ad70ac024c6151ad",
            "placeholder": "​",
            "style": "IPY_MODEL_e470b29b1ac04874a461bea2d756ac0f",
            "value": " 0/0 [00:00&lt;?, ? file/s]"
          }
        },
        "2fea7e713afe42db975bb1a424e964aa": {
          "model_module": "@jupyter-widgets/base",
          "model_name": "LayoutModel",
          "model_module_version": "1.2.0",
          "state": {
            "_model_module": "@jupyter-widgets/base",
            "_model_module_version": "1.2.0",
            "_model_name": "LayoutModel",
            "_view_count": null,
            "_view_module": "@jupyter-widgets/base",
            "_view_module_version": "1.2.0",
            "_view_name": "LayoutView",
            "align_content": null,
            "align_items": null,
            "align_self": null,
            "border": null,
            "bottom": null,
            "display": null,
            "flex": null,
            "flex_flow": null,
            "grid_area": null,
            "grid_auto_columns": null,
            "grid_auto_flow": null,
            "grid_auto_rows": null,
            "grid_column": null,
            "grid_gap": null,
            "grid_row": null,
            "grid_template_areas": null,
            "grid_template_columns": null,
            "grid_template_rows": null,
            "height": null,
            "justify_content": null,
            "justify_items": null,
            "left": null,
            "margin": null,
            "max_height": null,
            "max_width": null,
            "min_height": null,
            "min_width": null,
            "object_fit": null,
            "object_position": null,
            "order": null,
            "overflow": null,
            "overflow_x": null,
            "overflow_y": null,
            "padding": null,
            "right": null,
            "top": null,
            "visibility": null,
            "width": null
          }
        },
        "ce1a8b2f838047c289fe4356585fa1de": {
          "model_module": "@jupyter-widgets/base",
          "model_name": "LayoutModel",
          "model_module_version": "1.2.0",
          "state": {
            "_model_module": "@jupyter-widgets/base",
            "_model_module_version": "1.2.0",
            "_model_name": "LayoutModel",
            "_view_count": null,
            "_view_module": "@jupyter-widgets/base",
            "_view_module_version": "1.2.0",
            "_view_name": "LayoutView",
            "align_content": null,
            "align_items": null,
            "align_self": null,
            "border": null,
            "bottom": null,
            "display": null,
            "flex": null,
            "flex_flow": null,
            "grid_area": null,
            "grid_auto_columns": null,
            "grid_auto_flow": null,
            "grid_auto_rows": null,
            "grid_column": null,
            "grid_gap": null,
            "grid_row": null,
            "grid_template_areas": null,
            "grid_template_columns": null,
            "grid_template_rows": null,
            "height": null,
            "justify_content": null,
            "justify_items": null,
            "left": null,
            "margin": null,
            "max_height": null,
            "max_width": null,
            "min_height": null,
            "min_width": null,
            "object_fit": null,
            "object_position": null,
            "order": null,
            "overflow": null,
            "overflow_x": null,
            "overflow_y": null,
            "padding": null,
            "right": null,
            "top": null,
            "visibility": null,
            "width": null
          }
        },
        "d88287aa62a4461c96c60deefe837f94": {
          "model_module": "@jupyter-widgets/controls",
          "model_name": "DescriptionStyleModel",
          "model_module_version": "1.5.0",
          "state": {
            "_model_module": "@jupyter-widgets/controls",
            "_model_module_version": "1.5.0",
            "_model_name": "DescriptionStyleModel",
            "_view_count": null,
            "_view_module": "@jupyter-widgets/base",
            "_view_module_version": "1.2.0",
            "_view_name": "StyleView",
            "description_width": ""
          }
        },
        "efe24af92aef44a492ffc8156880ae57": {
          "model_module": "@jupyter-widgets/base",
          "model_name": "LayoutModel",
          "model_module_version": "1.2.0",
          "state": {
            "_model_module": "@jupyter-widgets/base",
            "_model_module_version": "1.2.0",
            "_model_name": "LayoutModel",
            "_view_count": null,
            "_view_module": "@jupyter-widgets/base",
            "_view_module_version": "1.2.0",
            "_view_name": "LayoutView",
            "align_content": null,
            "align_items": null,
            "align_self": null,
            "border": null,
            "bottom": null,
            "display": null,
            "flex": null,
            "flex_flow": null,
            "grid_area": null,
            "grid_auto_columns": null,
            "grid_auto_flow": null,
            "grid_auto_rows": null,
            "grid_column": null,
            "grid_gap": null,
            "grid_row": null,
            "grid_template_areas": null,
            "grid_template_columns": null,
            "grid_template_rows": null,
            "height": null,
            "justify_content": null,
            "justify_items": null,
            "left": null,
            "margin": null,
            "max_height": null,
            "max_width": null,
            "min_height": null,
            "min_width": null,
            "object_fit": null,
            "object_position": null,
            "order": null,
            "overflow": null,
            "overflow_x": null,
            "overflow_y": null,
            "padding": null,
            "right": null,
            "top": null,
            "visibility": null,
            "width": "20px"
          }
        },
        "6607c8928a1c41bf9e4629ecb1d23daf": {
          "model_module": "@jupyter-widgets/controls",
          "model_name": "ProgressStyleModel",
          "model_module_version": "1.5.0",
          "state": {
            "_model_module": "@jupyter-widgets/controls",
            "_model_module_version": "1.5.0",
            "_model_name": "ProgressStyleModel",
            "_view_count": null,
            "_view_module": "@jupyter-widgets/base",
            "_view_module_version": "1.2.0",
            "_view_name": "StyleView",
            "bar_color": null,
            "description_width": ""
          }
        },
        "e24d30753f384cf1ad70ac024c6151ad": {
          "model_module": "@jupyter-widgets/base",
          "model_name": "LayoutModel",
          "model_module_version": "1.2.0",
          "state": {
            "_model_module": "@jupyter-widgets/base",
            "_model_module_version": "1.2.0",
            "_model_name": "LayoutModel",
            "_view_count": null,
            "_view_module": "@jupyter-widgets/base",
            "_view_module_version": "1.2.0",
            "_view_name": "LayoutView",
            "align_content": null,
            "align_items": null,
            "align_self": null,
            "border": null,
            "bottom": null,
            "display": null,
            "flex": null,
            "flex_flow": null,
            "grid_area": null,
            "grid_auto_columns": null,
            "grid_auto_flow": null,
            "grid_auto_rows": null,
            "grid_column": null,
            "grid_gap": null,
            "grid_row": null,
            "grid_template_areas": null,
            "grid_template_columns": null,
            "grid_template_rows": null,
            "height": null,
            "justify_content": null,
            "justify_items": null,
            "left": null,
            "margin": null,
            "max_height": null,
            "max_width": null,
            "min_height": null,
            "min_width": null,
            "object_fit": null,
            "object_position": null,
            "order": null,
            "overflow": null,
            "overflow_x": null,
            "overflow_y": null,
            "padding": null,
            "right": null,
            "top": null,
            "visibility": null,
            "width": null
          }
        },
        "e470b29b1ac04874a461bea2d756ac0f": {
          "model_module": "@jupyter-widgets/controls",
          "model_name": "DescriptionStyleModel",
          "model_module_version": "1.5.0",
          "state": {
            "_model_module": "@jupyter-widgets/controls",
            "_model_module_version": "1.5.0",
            "_model_name": "DescriptionStyleModel",
            "_view_count": null,
            "_view_module": "@jupyter-widgets/base",
            "_view_module_version": "1.2.0",
            "_view_name": "StyleView",
            "description_width": ""
          }
        },
        "e34ca9918ab2430aa96635813095f1da": {
          "model_module": "@jupyter-widgets/controls",
          "model_name": "HBoxModel",
          "model_module_version": "1.5.0",
          "state": {
            "_dom_classes": [],
            "_model_module": "@jupyter-widgets/controls",
            "_model_module_version": "1.5.0",
            "_model_name": "HBoxModel",
            "_view_count": null,
            "_view_module": "@jupyter-widgets/controls",
            "_view_module_version": "1.5.0",
            "_view_name": "HBoxView",
            "box_style": "",
            "children": [
              "IPY_MODEL_37822e3bdfd84bf29c7c2105a1b09b64",
              "IPY_MODEL_8268a1a0d83f404f80a3dd0754a2c1fb",
              "IPY_MODEL_7abb027990f04972b7be9b3e9aa09f9c"
            ],
            "layout": "IPY_MODEL_5372f05f27764ffdb69d4d7cdde9e012"
          }
        },
        "37822e3bdfd84bf29c7c2105a1b09b64": {
          "model_module": "@jupyter-widgets/controls",
          "model_name": "HTMLModel",
          "model_module_version": "1.5.0",
          "state": {
            "_dom_classes": [],
            "_model_module": "@jupyter-widgets/controls",
            "_model_module_version": "1.5.0",
            "_model_name": "HTMLModel",
            "_view_count": null,
            "_view_module": "@jupyter-widgets/controls",
            "_view_module_version": "1.5.0",
            "_view_name": "HTMLView",
            "description": "",
            "description_tooltip": null,
            "layout": "IPY_MODEL_182d19d2831e455e8c33d4ca123332d1",
            "placeholder": "​",
            "style": "IPY_MODEL_7b91cde3c8da4496b320a04acc7860f9",
            "value": "Generating splits...: 100%"
          }
        },
        "8268a1a0d83f404f80a3dd0754a2c1fb": {
          "model_module": "@jupyter-widgets/controls",
          "model_name": "FloatProgressModel",
          "model_module_version": "1.5.0",
          "state": {
            "_dom_classes": [],
            "_model_module": "@jupyter-widgets/controls",
            "_model_module_version": "1.5.0",
            "_model_name": "FloatProgressModel",
            "_view_count": null,
            "_view_module": "@jupyter-widgets/controls",
            "_view_module_version": "1.5.0",
            "_view_name": "ProgressView",
            "bar_style": "",
            "description": "",
            "description_tooltip": null,
            "layout": "IPY_MODEL_eb3c6a20ad12469fae7e7b39e1984fc6",
            "max": 2,
            "min": 0,
            "orientation": "horizontal",
            "style": "IPY_MODEL_2dc31c1cda504248979ef577ddb05547",
            "value": 2
          }
        },
        "7abb027990f04972b7be9b3e9aa09f9c": {
          "model_module": "@jupyter-widgets/controls",
          "model_name": "HTMLModel",
          "model_module_version": "1.5.0",
          "state": {
            "_dom_classes": [],
            "_model_module": "@jupyter-widgets/controls",
            "_model_module_version": "1.5.0",
            "_model_name": "HTMLModel",
            "_view_count": null,
            "_view_module": "@jupyter-widgets/controls",
            "_view_module_version": "1.5.0",
            "_view_name": "HTMLView",
            "description": "",
            "description_tooltip": null,
            "layout": "IPY_MODEL_1afa0663034647bfad3b294fc1b0b811",
            "placeholder": "​",
            "style": "IPY_MODEL_7bf407c327c64f1f9e49d20afa8858ca",
            "value": " 2/2 [00:38&lt;00:00, 16.06s/ splits]"
          }
        },
        "5372f05f27764ffdb69d4d7cdde9e012": {
          "model_module": "@jupyter-widgets/base",
          "model_name": "LayoutModel",
          "model_module_version": "1.2.0",
          "state": {
            "_model_module": "@jupyter-widgets/base",
            "_model_module_version": "1.2.0",
            "_model_name": "LayoutModel",
            "_view_count": null,
            "_view_module": "@jupyter-widgets/base",
            "_view_module_version": "1.2.0",
            "_view_name": "LayoutView",
            "align_content": null,
            "align_items": null,
            "align_self": null,
            "border": null,
            "bottom": null,
            "display": null,
            "flex": null,
            "flex_flow": null,
            "grid_area": null,
            "grid_auto_columns": null,
            "grid_auto_flow": null,
            "grid_auto_rows": null,
            "grid_column": null,
            "grid_gap": null,
            "grid_row": null,
            "grid_template_areas": null,
            "grid_template_columns": null,
            "grid_template_rows": null,
            "height": null,
            "justify_content": null,
            "justify_items": null,
            "left": null,
            "margin": null,
            "max_height": null,
            "max_width": null,
            "min_height": null,
            "min_width": null,
            "object_fit": null,
            "object_position": null,
            "order": null,
            "overflow": null,
            "overflow_x": null,
            "overflow_y": null,
            "padding": null,
            "right": null,
            "top": null,
            "visibility": "hidden",
            "width": null
          }
        },
        "182d19d2831e455e8c33d4ca123332d1": {
          "model_module": "@jupyter-widgets/base",
          "model_name": "LayoutModel",
          "model_module_version": "1.2.0",
          "state": {
            "_model_module": "@jupyter-widgets/base",
            "_model_module_version": "1.2.0",
            "_model_name": "LayoutModel",
            "_view_count": null,
            "_view_module": "@jupyter-widgets/base",
            "_view_module_version": "1.2.0",
            "_view_name": "LayoutView",
            "align_content": null,
            "align_items": null,
            "align_self": null,
            "border": null,
            "bottom": null,
            "display": null,
            "flex": null,
            "flex_flow": null,
            "grid_area": null,
            "grid_auto_columns": null,
            "grid_auto_flow": null,
            "grid_auto_rows": null,
            "grid_column": null,
            "grid_gap": null,
            "grid_row": null,
            "grid_template_areas": null,
            "grid_template_columns": null,
            "grid_template_rows": null,
            "height": null,
            "justify_content": null,
            "justify_items": null,
            "left": null,
            "margin": null,
            "max_height": null,
            "max_width": null,
            "min_height": null,
            "min_width": null,
            "object_fit": null,
            "object_position": null,
            "order": null,
            "overflow": null,
            "overflow_x": null,
            "overflow_y": null,
            "padding": null,
            "right": null,
            "top": null,
            "visibility": null,
            "width": null
          }
        },
        "7b91cde3c8da4496b320a04acc7860f9": {
          "model_module": "@jupyter-widgets/controls",
          "model_name": "DescriptionStyleModel",
          "model_module_version": "1.5.0",
          "state": {
            "_model_module": "@jupyter-widgets/controls",
            "_model_module_version": "1.5.0",
            "_model_name": "DescriptionStyleModel",
            "_view_count": null,
            "_view_module": "@jupyter-widgets/base",
            "_view_module_version": "1.2.0",
            "_view_name": "StyleView",
            "description_width": ""
          }
        },
        "eb3c6a20ad12469fae7e7b39e1984fc6": {
          "model_module": "@jupyter-widgets/base",
          "model_name": "LayoutModel",
          "model_module_version": "1.2.0",
          "state": {
            "_model_module": "@jupyter-widgets/base",
            "_model_module_version": "1.2.0",
            "_model_name": "LayoutModel",
            "_view_count": null,
            "_view_module": "@jupyter-widgets/base",
            "_view_module_version": "1.2.0",
            "_view_name": "LayoutView",
            "align_content": null,
            "align_items": null,
            "align_self": null,
            "border": null,
            "bottom": null,
            "display": null,
            "flex": null,
            "flex_flow": null,
            "grid_area": null,
            "grid_auto_columns": null,
            "grid_auto_flow": null,
            "grid_auto_rows": null,
            "grid_column": null,
            "grid_gap": null,
            "grid_row": null,
            "grid_template_areas": null,
            "grid_template_columns": null,
            "grid_template_rows": null,
            "height": null,
            "justify_content": null,
            "justify_items": null,
            "left": null,
            "margin": null,
            "max_height": null,
            "max_width": null,
            "min_height": null,
            "min_width": null,
            "object_fit": null,
            "object_position": null,
            "order": null,
            "overflow": null,
            "overflow_x": null,
            "overflow_y": null,
            "padding": null,
            "right": null,
            "top": null,
            "visibility": null,
            "width": null
          }
        },
        "2dc31c1cda504248979ef577ddb05547": {
          "model_module": "@jupyter-widgets/controls",
          "model_name": "ProgressStyleModel",
          "model_module_version": "1.5.0",
          "state": {
            "_model_module": "@jupyter-widgets/controls",
            "_model_module_version": "1.5.0",
            "_model_name": "ProgressStyleModel",
            "_view_count": null,
            "_view_module": "@jupyter-widgets/base",
            "_view_module_version": "1.2.0",
            "_view_name": "StyleView",
            "bar_color": null,
            "description_width": ""
          }
        },
        "1afa0663034647bfad3b294fc1b0b811": {
          "model_module": "@jupyter-widgets/base",
          "model_name": "LayoutModel",
          "model_module_version": "1.2.0",
          "state": {
            "_model_module": "@jupyter-widgets/base",
            "_model_module_version": "1.2.0",
            "_model_name": "LayoutModel",
            "_view_count": null,
            "_view_module": "@jupyter-widgets/base",
            "_view_module_version": "1.2.0",
            "_view_name": "LayoutView",
            "align_content": null,
            "align_items": null,
            "align_self": null,
            "border": null,
            "bottom": null,
            "display": null,
            "flex": null,
            "flex_flow": null,
            "grid_area": null,
            "grid_auto_columns": null,
            "grid_auto_flow": null,
            "grid_auto_rows": null,
            "grid_column": null,
            "grid_gap": null,
            "grid_row": null,
            "grid_template_areas": null,
            "grid_template_columns": null,
            "grid_template_rows": null,
            "height": null,
            "justify_content": null,
            "justify_items": null,
            "left": null,
            "margin": null,
            "max_height": null,
            "max_width": null,
            "min_height": null,
            "min_width": null,
            "object_fit": null,
            "object_position": null,
            "order": null,
            "overflow": null,
            "overflow_x": null,
            "overflow_y": null,
            "padding": null,
            "right": null,
            "top": null,
            "visibility": null,
            "width": null
          }
        },
        "7bf407c327c64f1f9e49d20afa8858ca": {
          "model_module": "@jupyter-widgets/controls",
          "model_name": "DescriptionStyleModel",
          "model_module_version": "1.5.0",
          "state": {
            "_model_module": "@jupyter-widgets/controls",
            "_model_module_version": "1.5.0",
            "_model_name": "DescriptionStyleModel",
            "_view_count": null,
            "_view_module": "@jupyter-widgets/base",
            "_view_module_version": "1.2.0",
            "_view_name": "StyleView",
            "description_width": ""
          }
        },
        "28b8d222555245c59955462cac1d8707": {
          "model_module": "@jupyter-widgets/controls",
          "model_name": "HBoxModel",
          "model_module_version": "1.5.0",
          "state": {
            "_dom_classes": [],
            "_model_module": "@jupyter-widgets/controls",
            "_model_module_version": "1.5.0",
            "_model_name": "HBoxModel",
            "_view_count": null,
            "_view_module": "@jupyter-widgets/controls",
            "_view_module_version": "1.5.0",
            "_view_name": "HBoxView",
            "box_style": "",
            "children": [
              "IPY_MODEL_84bbcc39dce24d1c93e415dbadc9b73c",
              "IPY_MODEL_86e79537014e4425acde6c4cad20dd82",
              "IPY_MODEL_8c49ba0a813845abb47bccb4c331907b"
            ],
            "layout": "IPY_MODEL_8f48569b974a477fb045b6328b02f573"
          }
        },
        "84bbcc39dce24d1c93e415dbadc9b73c": {
          "model_module": "@jupyter-widgets/controls",
          "model_name": "HTMLModel",
          "model_module_version": "1.5.0",
          "state": {
            "_dom_classes": [],
            "_model_module": "@jupyter-widgets/controls",
            "_model_module_version": "1.5.0",
            "_model_name": "HTMLModel",
            "_view_count": null,
            "_view_module": "@jupyter-widgets/controls",
            "_view_module_version": "1.5.0",
            "_view_name": "HTMLView",
            "description": "",
            "description_tooltip": null,
            "layout": "IPY_MODEL_1a046ef63bc447a298a0b98814738e09",
            "placeholder": "​",
            "style": "IPY_MODEL_c24207ec7b4e4c29a2795dd4827fa0f8",
            "value": "Generating train examples...: "
          }
        },
        "86e79537014e4425acde6c4cad20dd82": {
          "model_module": "@jupyter-widgets/controls",
          "model_name": "FloatProgressModel",
          "model_module_version": "1.5.0",
          "state": {
            "_dom_classes": [],
            "_model_module": "@jupyter-widgets/controls",
            "_model_module_version": "1.5.0",
            "_model_name": "FloatProgressModel",
            "_view_count": null,
            "_view_module": "@jupyter-widgets/controls",
            "_view_module_version": "1.5.0",
            "_view_name": "ProgressView",
            "bar_style": "info",
            "description": "",
            "description_tooltip": null,
            "layout": "IPY_MODEL_b49b411654d448939cba16d7f3092071",
            "max": 1,
            "min": 0,
            "orientation": "horizontal",
            "style": "IPY_MODEL_5733909475534fffae52b642559f38f3",
            "value": 1
          }
        },
        "8c49ba0a813845abb47bccb4c331907b": {
          "model_module": "@jupyter-widgets/controls",
          "model_name": "HTMLModel",
          "model_module_version": "1.5.0",
          "state": {
            "_dom_classes": [],
            "_model_module": "@jupyter-widgets/controls",
            "_model_module_version": "1.5.0",
            "_model_name": "HTMLModel",
            "_view_count": null,
            "_view_module": "@jupyter-widgets/controls",
            "_view_module_version": "1.5.0",
            "_view_name": "HTMLView",
            "description": "",
            "description_tooltip": null,
            "layout": "IPY_MODEL_a6dc27091fb0445683ad32df0bbd7f99",
            "placeholder": "​",
            "style": "IPY_MODEL_b8732ef4f0a84d41b9ace3caf6a064bb",
            "value": " 218306/? [00:36&lt;00:00, 10027.28 examples/s]"
          }
        },
        "8f48569b974a477fb045b6328b02f573": {
          "model_module": "@jupyter-widgets/base",
          "model_name": "LayoutModel",
          "model_module_version": "1.2.0",
          "state": {
            "_model_module": "@jupyter-widgets/base",
            "_model_module_version": "1.2.0",
            "_model_name": "LayoutModel",
            "_view_count": null,
            "_view_module": "@jupyter-widgets/base",
            "_view_module_version": "1.2.0",
            "_view_name": "LayoutView",
            "align_content": null,
            "align_items": null,
            "align_self": null,
            "border": null,
            "bottom": null,
            "display": null,
            "flex": null,
            "flex_flow": null,
            "grid_area": null,
            "grid_auto_columns": null,
            "grid_auto_flow": null,
            "grid_auto_rows": null,
            "grid_column": null,
            "grid_gap": null,
            "grid_row": null,
            "grid_template_areas": null,
            "grid_template_columns": null,
            "grid_template_rows": null,
            "height": null,
            "justify_content": null,
            "justify_items": null,
            "left": null,
            "margin": null,
            "max_height": null,
            "max_width": null,
            "min_height": null,
            "min_width": null,
            "object_fit": null,
            "object_position": null,
            "order": null,
            "overflow": null,
            "overflow_x": null,
            "overflow_y": null,
            "padding": null,
            "right": null,
            "top": null,
            "visibility": "hidden",
            "width": null
          }
        },
        "1a046ef63bc447a298a0b98814738e09": {
          "model_module": "@jupyter-widgets/base",
          "model_name": "LayoutModel",
          "model_module_version": "1.2.0",
          "state": {
            "_model_module": "@jupyter-widgets/base",
            "_model_module_version": "1.2.0",
            "_model_name": "LayoutModel",
            "_view_count": null,
            "_view_module": "@jupyter-widgets/base",
            "_view_module_version": "1.2.0",
            "_view_name": "LayoutView",
            "align_content": null,
            "align_items": null,
            "align_self": null,
            "border": null,
            "bottom": null,
            "display": null,
            "flex": null,
            "flex_flow": null,
            "grid_area": null,
            "grid_auto_columns": null,
            "grid_auto_flow": null,
            "grid_auto_rows": null,
            "grid_column": null,
            "grid_gap": null,
            "grid_row": null,
            "grid_template_areas": null,
            "grid_template_columns": null,
            "grid_template_rows": null,
            "height": null,
            "justify_content": null,
            "justify_items": null,
            "left": null,
            "margin": null,
            "max_height": null,
            "max_width": null,
            "min_height": null,
            "min_width": null,
            "object_fit": null,
            "object_position": null,
            "order": null,
            "overflow": null,
            "overflow_x": null,
            "overflow_y": null,
            "padding": null,
            "right": null,
            "top": null,
            "visibility": null,
            "width": null
          }
        },
        "c24207ec7b4e4c29a2795dd4827fa0f8": {
          "model_module": "@jupyter-widgets/controls",
          "model_name": "DescriptionStyleModel",
          "model_module_version": "1.5.0",
          "state": {
            "_model_module": "@jupyter-widgets/controls",
            "_model_module_version": "1.5.0",
            "_model_name": "DescriptionStyleModel",
            "_view_count": null,
            "_view_module": "@jupyter-widgets/base",
            "_view_module_version": "1.2.0",
            "_view_name": "StyleView",
            "description_width": ""
          }
        },
        "b49b411654d448939cba16d7f3092071": {
          "model_module": "@jupyter-widgets/base",
          "model_name": "LayoutModel",
          "model_module_version": "1.2.0",
          "state": {
            "_model_module": "@jupyter-widgets/base",
            "_model_module_version": "1.2.0",
            "_model_name": "LayoutModel",
            "_view_count": null,
            "_view_module": "@jupyter-widgets/base",
            "_view_module_version": "1.2.0",
            "_view_name": "LayoutView",
            "align_content": null,
            "align_items": null,
            "align_self": null,
            "border": null,
            "bottom": null,
            "display": null,
            "flex": null,
            "flex_flow": null,
            "grid_area": null,
            "grid_auto_columns": null,
            "grid_auto_flow": null,
            "grid_auto_rows": null,
            "grid_column": null,
            "grid_gap": null,
            "grid_row": null,
            "grid_template_areas": null,
            "grid_template_columns": null,
            "grid_template_rows": null,
            "height": null,
            "justify_content": null,
            "justify_items": null,
            "left": null,
            "margin": null,
            "max_height": null,
            "max_width": null,
            "min_height": null,
            "min_width": null,
            "object_fit": null,
            "object_position": null,
            "order": null,
            "overflow": null,
            "overflow_x": null,
            "overflow_y": null,
            "padding": null,
            "right": null,
            "top": null,
            "visibility": null,
            "width": "20px"
          }
        },
        "5733909475534fffae52b642559f38f3": {
          "model_module": "@jupyter-widgets/controls",
          "model_name": "ProgressStyleModel",
          "model_module_version": "1.5.0",
          "state": {
            "_model_module": "@jupyter-widgets/controls",
            "_model_module_version": "1.5.0",
            "_model_name": "ProgressStyleModel",
            "_view_count": null,
            "_view_module": "@jupyter-widgets/base",
            "_view_module_version": "1.2.0",
            "_view_name": "StyleView",
            "bar_color": null,
            "description_width": ""
          }
        },
        "a6dc27091fb0445683ad32df0bbd7f99": {
          "model_module": "@jupyter-widgets/base",
          "model_name": "LayoutModel",
          "model_module_version": "1.2.0",
          "state": {
            "_model_module": "@jupyter-widgets/base",
            "_model_module_version": "1.2.0",
            "_model_name": "LayoutModel",
            "_view_count": null,
            "_view_module": "@jupyter-widgets/base",
            "_view_module_version": "1.2.0",
            "_view_name": "LayoutView",
            "align_content": null,
            "align_items": null,
            "align_self": null,
            "border": null,
            "bottom": null,
            "display": null,
            "flex": null,
            "flex_flow": null,
            "grid_area": null,
            "grid_auto_columns": null,
            "grid_auto_flow": null,
            "grid_auto_rows": null,
            "grid_column": null,
            "grid_gap": null,
            "grid_row": null,
            "grid_template_areas": null,
            "grid_template_columns": null,
            "grid_template_rows": null,
            "height": null,
            "justify_content": null,
            "justify_items": null,
            "left": null,
            "margin": null,
            "max_height": null,
            "max_width": null,
            "min_height": null,
            "min_width": null,
            "object_fit": null,
            "object_position": null,
            "order": null,
            "overflow": null,
            "overflow_x": null,
            "overflow_y": null,
            "padding": null,
            "right": null,
            "top": null,
            "visibility": null,
            "width": null
          }
        },
        "b8732ef4f0a84d41b9ace3caf6a064bb": {
          "model_module": "@jupyter-widgets/controls",
          "model_name": "DescriptionStyleModel",
          "model_module_version": "1.5.0",
          "state": {
            "_model_module": "@jupyter-widgets/controls",
            "_model_module_version": "1.5.0",
            "_model_name": "DescriptionStyleModel",
            "_view_count": null,
            "_view_module": "@jupyter-widgets/base",
            "_view_module_version": "1.2.0",
            "_view_name": "StyleView",
            "description_width": ""
          }
        },
        "e8d9a829fe6447ea95c163f39071bf48": {
          "model_module": "@jupyter-widgets/controls",
          "model_name": "HBoxModel",
          "model_module_version": "1.5.0",
          "state": {
            "_dom_classes": [],
            "_model_module": "@jupyter-widgets/controls",
            "_model_module_version": "1.5.0",
            "_model_name": "HBoxModel",
            "_view_count": null,
            "_view_module": "@jupyter-widgets/controls",
            "_view_module_version": "1.5.0",
            "_view_name": "HBoxView",
            "box_style": "",
            "children": [
              "IPY_MODEL_c892d152ca5e4c66994471af6a412ba3",
              "IPY_MODEL_600074c44c0e4cbeb5529e0d15d40318",
              "IPY_MODEL_be71a0d2c4b94a368ebae6bd2817e467"
            ],
            "layout": "IPY_MODEL_9d81f9090b9543c1b36778ed3deea6be"
          }
        },
        "c892d152ca5e4c66994471af6a412ba3": {
          "model_module": "@jupyter-widgets/controls",
          "model_name": "HTMLModel",
          "model_module_version": "1.5.0",
          "state": {
            "_dom_classes": [],
            "_model_module": "@jupyter-widgets/controls",
            "_model_module_version": "1.5.0",
            "_model_name": "HTMLModel",
            "_view_count": null,
            "_view_module": "@jupyter-widgets/controls",
            "_view_module_version": "1.5.0",
            "_view_name": "HTMLView",
            "description": "",
            "description_tooltip": null,
            "layout": "IPY_MODEL_9addc38905134f698f5634c1c57e4f02",
            "placeholder": "​",
            "style": "IPY_MODEL_609a14279d654861b9422cb443ed6632",
            "value": "Shuffling ~/tensorflow_datasets/wmt_translate/cs-en/0.0.1.incompleteREF41T/wmt_translate-train.tfrecord*...:  99%"
          }
        },
        "600074c44c0e4cbeb5529e0d15d40318": {
          "model_module": "@jupyter-widgets/controls",
          "model_name": "FloatProgressModel",
          "model_module_version": "1.5.0",
          "state": {
            "_dom_classes": [],
            "_model_module": "@jupyter-widgets/controls",
            "_model_module_version": "1.5.0",
            "_model_name": "FloatProgressModel",
            "_view_count": null,
            "_view_module": "@jupyter-widgets/controls",
            "_view_module_version": "1.5.0",
            "_view_name": "ProgressView",
            "bar_style": "",
            "description": "",
            "description_tooltip": null,
            "layout": "IPY_MODEL_486340bbda204367a845e5cd489f493d",
            "max": 218384,
            "min": 0,
            "orientation": "horizontal",
            "style": "IPY_MODEL_63e0ac6fb5c748c2b9e9c31137b9dec0",
            "value": 218384
          }
        },
        "be71a0d2c4b94a368ebae6bd2817e467": {
          "model_module": "@jupyter-widgets/controls",
          "model_name": "HTMLModel",
          "model_module_version": "1.5.0",
          "state": {
            "_dom_classes": [],
            "_model_module": "@jupyter-widgets/controls",
            "_model_module_version": "1.5.0",
            "_model_name": "HTMLModel",
            "_view_count": null,
            "_view_module": "@jupyter-widgets/controls",
            "_view_module_version": "1.5.0",
            "_view_name": "HTMLView",
            "description": "",
            "description_tooltip": null,
            "layout": "IPY_MODEL_6c5a95f4d0454abd9a9c1271ecac5f14",
            "placeholder": "​",
            "style": "IPY_MODEL_2abf6f221b144c86b0efdb82b7325d8f",
            "value": " 215944/218384 [00:01&lt;00:00, 286035.02 examples/s]"
          }
        },
        "9d81f9090b9543c1b36778ed3deea6be": {
          "model_module": "@jupyter-widgets/base",
          "model_name": "LayoutModel",
          "model_module_version": "1.2.0",
          "state": {
            "_model_module": "@jupyter-widgets/base",
            "_model_module_version": "1.2.0",
            "_model_name": "LayoutModel",
            "_view_count": null,
            "_view_module": "@jupyter-widgets/base",
            "_view_module_version": "1.2.0",
            "_view_name": "LayoutView",
            "align_content": null,
            "align_items": null,
            "align_self": null,
            "border": null,
            "bottom": null,
            "display": null,
            "flex": null,
            "flex_flow": null,
            "grid_area": null,
            "grid_auto_columns": null,
            "grid_auto_flow": null,
            "grid_auto_rows": null,
            "grid_column": null,
            "grid_gap": null,
            "grid_row": null,
            "grid_template_areas": null,
            "grid_template_columns": null,
            "grid_template_rows": null,
            "height": null,
            "justify_content": null,
            "justify_items": null,
            "left": null,
            "margin": null,
            "max_height": null,
            "max_width": null,
            "min_height": null,
            "min_width": null,
            "object_fit": null,
            "object_position": null,
            "order": null,
            "overflow": null,
            "overflow_x": null,
            "overflow_y": null,
            "padding": null,
            "right": null,
            "top": null,
            "visibility": "hidden",
            "width": null
          }
        },
        "9addc38905134f698f5634c1c57e4f02": {
          "model_module": "@jupyter-widgets/base",
          "model_name": "LayoutModel",
          "model_module_version": "1.2.0",
          "state": {
            "_model_module": "@jupyter-widgets/base",
            "_model_module_version": "1.2.0",
            "_model_name": "LayoutModel",
            "_view_count": null,
            "_view_module": "@jupyter-widgets/base",
            "_view_module_version": "1.2.0",
            "_view_name": "LayoutView",
            "align_content": null,
            "align_items": null,
            "align_self": null,
            "border": null,
            "bottom": null,
            "display": null,
            "flex": null,
            "flex_flow": null,
            "grid_area": null,
            "grid_auto_columns": null,
            "grid_auto_flow": null,
            "grid_auto_rows": null,
            "grid_column": null,
            "grid_gap": null,
            "grid_row": null,
            "grid_template_areas": null,
            "grid_template_columns": null,
            "grid_template_rows": null,
            "height": null,
            "justify_content": null,
            "justify_items": null,
            "left": null,
            "margin": null,
            "max_height": null,
            "max_width": null,
            "min_height": null,
            "min_width": null,
            "object_fit": null,
            "object_position": null,
            "order": null,
            "overflow": null,
            "overflow_x": null,
            "overflow_y": null,
            "padding": null,
            "right": null,
            "top": null,
            "visibility": null,
            "width": null
          }
        },
        "609a14279d654861b9422cb443ed6632": {
          "model_module": "@jupyter-widgets/controls",
          "model_name": "DescriptionStyleModel",
          "model_module_version": "1.5.0",
          "state": {
            "_model_module": "@jupyter-widgets/controls",
            "_model_module_version": "1.5.0",
            "_model_name": "DescriptionStyleModel",
            "_view_count": null,
            "_view_module": "@jupyter-widgets/base",
            "_view_module_version": "1.2.0",
            "_view_name": "StyleView",
            "description_width": ""
          }
        },
        "486340bbda204367a845e5cd489f493d": {
          "model_module": "@jupyter-widgets/base",
          "model_name": "LayoutModel",
          "model_module_version": "1.2.0",
          "state": {
            "_model_module": "@jupyter-widgets/base",
            "_model_module_version": "1.2.0",
            "_model_name": "LayoutModel",
            "_view_count": null,
            "_view_module": "@jupyter-widgets/base",
            "_view_module_version": "1.2.0",
            "_view_name": "LayoutView",
            "align_content": null,
            "align_items": null,
            "align_self": null,
            "border": null,
            "bottom": null,
            "display": null,
            "flex": null,
            "flex_flow": null,
            "grid_area": null,
            "grid_auto_columns": null,
            "grid_auto_flow": null,
            "grid_auto_rows": null,
            "grid_column": null,
            "grid_gap": null,
            "grid_row": null,
            "grid_template_areas": null,
            "grid_template_columns": null,
            "grid_template_rows": null,
            "height": null,
            "justify_content": null,
            "justify_items": null,
            "left": null,
            "margin": null,
            "max_height": null,
            "max_width": null,
            "min_height": null,
            "min_width": null,
            "object_fit": null,
            "object_position": null,
            "order": null,
            "overflow": null,
            "overflow_x": null,
            "overflow_y": null,
            "padding": null,
            "right": null,
            "top": null,
            "visibility": null,
            "width": null
          }
        },
        "63e0ac6fb5c748c2b9e9c31137b9dec0": {
          "model_module": "@jupyter-widgets/controls",
          "model_name": "ProgressStyleModel",
          "model_module_version": "1.5.0",
          "state": {
            "_model_module": "@jupyter-widgets/controls",
            "_model_module_version": "1.5.0",
            "_model_name": "ProgressStyleModel",
            "_view_count": null,
            "_view_module": "@jupyter-widgets/base",
            "_view_module_version": "1.2.0",
            "_view_name": "StyleView",
            "bar_color": null,
            "description_width": ""
          }
        },
        "6c5a95f4d0454abd9a9c1271ecac5f14": {
          "model_module": "@jupyter-widgets/base",
          "model_name": "LayoutModel",
          "model_module_version": "1.2.0",
          "state": {
            "_model_module": "@jupyter-widgets/base",
            "_model_module_version": "1.2.0",
            "_model_name": "LayoutModel",
            "_view_count": null,
            "_view_module": "@jupyter-widgets/base",
            "_view_module_version": "1.2.0",
            "_view_name": "LayoutView",
            "align_content": null,
            "align_items": null,
            "align_self": null,
            "border": null,
            "bottom": null,
            "display": null,
            "flex": null,
            "flex_flow": null,
            "grid_area": null,
            "grid_auto_columns": null,
            "grid_auto_flow": null,
            "grid_auto_rows": null,
            "grid_column": null,
            "grid_gap": null,
            "grid_row": null,
            "grid_template_areas": null,
            "grid_template_columns": null,
            "grid_template_rows": null,
            "height": null,
            "justify_content": null,
            "justify_items": null,
            "left": null,
            "margin": null,
            "max_height": null,
            "max_width": null,
            "min_height": null,
            "min_width": null,
            "object_fit": null,
            "object_position": null,
            "order": null,
            "overflow": null,
            "overflow_x": null,
            "overflow_y": null,
            "padding": null,
            "right": null,
            "top": null,
            "visibility": null,
            "width": null
          }
        },
        "2abf6f221b144c86b0efdb82b7325d8f": {
          "model_module": "@jupyter-widgets/controls",
          "model_name": "DescriptionStyleModel",
          "model_module_version": "1.5.0",
          "state": {
            "_model_module": "@jupyter-widgets/controls",
            "_model_module_version": "1.5.0",
            "_model_name": "DescriptionStyleModel",
            "_view_count": null,
            "_view_module": "@jupyter-widgets/base",
            "_view_module_version": "1.2.0",
            "_view_name": "StyleView",
            "description_width": ""
          }
        },
        "d8eeaa95144440fb89b8029657dd904c": {
          "model_module": "@jupyter-widgets/controls",
          "model_name": "HBoxModel",
          "model_module_version": "1.5.0",
          "state": {
            "_dom_classes": [],
            "_model_module": "@jupyter-widgets/controls",
            "_model_module_version": "1.5.0",
            "_model_name": "HBoxModel",
            "_view_count": null,
            "_view_module": "@jupyter-widgets/controls",
            "_view_module_version": "1.5.0",
            "_view_name": "HBoxView",
            "box_style": "",
            "children": [
              "IPY_MODEL_f804e5fa7ff74e1a83c7702c99f26721",
              "IPY_MODEL_56f4bb4a89354e6bb7efa04e7a0c6183",
              "IPY_MODEL_6ac2621ee46e47f5b38ffca9a5e7a0c6"
            ],
            "layout": "IPY_MODEL_f7f98258b5fc43b789501c8b1ac2e978"
          }
        },
        "f804e5fa7ff74e1a83c7702c99f26721": {
          "model_module": "@jupyter-widgets/controls",
          "model_name": "HTMLModel",
          "model_module_version": "1.5.0",
          "state": {
            "_dom_classes": [],
            "_model_module": "@jupyter-widgets/controls",
            "_model_module_version": "1.5.0",
            "_model_name": "HTMLModel",
            "_view_count": null,
            "_view_module": "@jupyter-widgets/controls",
            "_view_module_version": "1.5.0",
            "_view_name": "HTMLView",
            "description": "",
            "description_tooltip": null,
            "layout": "IPY_MODEL_711264e1812448bbb371eeaca194a536",
            "placeholder": "​",
            "style": "IPY_MODEL_fc062d39f7dc4d8595153b35ec317b00",
            "value": "Generating validation examples...: "
          }
        },
        "56f4bb4a89354e6bb7efa04e7a0c6183": {
          "model_module": "@jupyter-widgets/controls",
          "model_name": "FloatProgressModel",
          "model_module_version": "1.5.0",
          "state": {
            "_dom_classes": [],
            "_model_module": "@jupyter-widgets/controls",
            "_model_module_version": "1.5.0",
            "_model_name": "FloatProgressModel",
            "_view_count": null,
            "_view_module": "@jupyter-widgets/controls",
            "_view_module_version": "1.5.0",
            "_view_name": "ProgressView",
            "bar_style": "info",
            "description": "",
            "description_tooltip": null,
            "layout": "IPY_MODEL_093fdb6642ce438db9d2228a94091165",
            "max": 1,
            "min": 0,
            "orientation": "horizontal",
            "style": "IPY_MODEL_119c271dea5542bf83c0a915ca03cdba",
            "value": 1
          }
        },
        "6ac2621ee46e47f5b38ffca9a5e7a0c6": {
          "model_module": "@jupyter-widgets/controls",
          "model_name": "HTMLModel",
          "model_module_version": "1.5.0",
          "state": {
            "_dom_classes": [],
            "_model_module": "@jupyter-widgets/controls",
            "_model_module_version": "1.5.0",
            "_model_name": "HTMLModel",
            "_view_count": null,
            "_view_module": "@jupyter-widgets/controls",
            "_view_module_version": "1.5.0",
            "_view_name": "HTMLView",
            "description": "",
            "description_tooltip": null,
            "layout": "IPY_MODEL_1417b27938a04706ab5a55440f50916b",
            "placeholder": "​",
            "style": "IPY_MODEL_ccedcc655d1f4c4dabe3c2451291c56b",
            "value": " 2247/? [00:00&lt;00:00, 8499.40 examples/s]"
          }
        },
        "f7f98258b5fc43b789501c8b1ac2e978": {
          "model_module": "@jupyter-widgets/base",
          "model_name": "LayoutModel",
          "model_module_version": "1.2.0",
          "state": {
            "_model_module": "@jupyter-widgets/base",
            "_model_module_version": "1.2.0",
            "_model_name": "LayoutModel",
            "_view_count": null,
            "_view_module": "@jupyter-widgets/base",
            "_view_module_version": "1.2.0",
            "_view_name": "LayoutView",
            "align_content": null,
            "align_items": null,
            "align_self": null,
            "border": null,
            "bottom": null,
            "display": null,
            "flex": null,
            "flex_flow": null,
            "grid_area": null,
            "grid_auto_columns": null,
            "grid_auto_flow": null,
            "grid_auto_rows": null,
            "grid_column": null,
            "grid_gap": null,
            "grid_row": null,
            "grid_template_areas": null,
            "grid_template_columns": null,
            "grid_template_rows": null,
            "height": null,
            "justify_content": null,
            "justify_items": null,
            "left": null,
            "margin": null,
            "max_height": null,
            "max_width": null,
            "min_height": null,
            "min_width": null,
            "object_fit": null,
            "object_position": null,
            "order": null,
            "overflow": null,
            "overflow_x": null,
            "overflow_y": null,
            "padding": null,
            "right": null,
            "top": null,
            "visibility": "hidden",
            "width": null
          }
        },
        "711264e1812448bbb371eeaca194a536": {
          "model_module": "@jupyter-widgets/base",
          "model_name": "LayoutModel",
          "model_module_version": "1.2.0",
          "state": {
            "_model_module": "@jupyter-widgets/base",
            "_model_module_version": "1.2.0",
            "_model_name": "LayoutModel",
            "_view_count": null,
            "_view_module": "@jupyter-widgets/base",
            "_view_module_version": "1.2.0",
            "_view_name": "LayoutView",
            "align_content": null,
            "align_items": null,
            "align_self": null,
            "border": null,
            "bottom": null,
            "display": null,
            "flex": null,
            "flex_flow": null,
            "grid_area": null,
            "grid_auto_columns": null,
            "grid_auto_flow": null,
            "grid_auto_rows": null,
            "grid_column": null,
            "grid_gap": null,
            "grid_row": null,
            "grid_template_areas": null,
            "grid_template_columns": null,
            "grid_template_rows": null,
            "height": null,
            "justify_content": null,
            "justify_items": null,
            "left": null,
            "margin": null,
            "max_height": null,
            "max_width": null,
            "min_height": null,
            "min_width": null,
            "object_fit": null,
            "object_position": null,
            "order": null,
            "overflow": null,
            "overflow_x": null,
            "overflow_y": null,
            "padding": null,
            "right": null,
            "top": null,
            "visibility": null,
            "width": null
          }
        },
        "fc062d39f7dc4d8595153b35ec317b00": {
          "model_module": "@jupyter-widgets/controls",
          "model_name": "DescriptionStyleModel",
          "model_module_version": "1.5.0",
          "state": {
            "_model_module": "@jupyter-widgets/controls",
            "_model_module_version": "1.5.0",
            "_model_name": "DescriptionStyleModel",
            "_view_count": null,
            "_view_module": "@jupyter-widgets/base",
            "_view_module_version": "1.2.0",
            "_view_name": "StyleView",
            "description_width": ""
          }
        },
        "093fdb6642ce438db9d2228a94091165": {
          "model_module": "@jupyter-widgets/base",
          "model_name": "LayoutModel",
          "model_module_version": "1.2.0",
          "state": {
            "_model_module": "@jupyter-widgets/base",
            "_model_module_version": "1.2.0",
            "_model_name": "LayoutModel",
            "_view_count": null,
            "_view_module": "@jupyter-widgets/base",
            "_view_module_version": "1.2.0",
            "_view_name": "LayoutView",
            "align_content": null,
            "align_items": null,
            "align_self": null,
            "border": null,
            "bottom": null,
            "display": null,
            "flex": null,
            "flex_flow": null,
            "grid_area": null,
            "grid_auto_columns": null,
            "grid_auto_flow": null,
            "grid_auto_rows": null,
            "grid_column": null,
            "grid_gap": null,
            "grid_row": null,
            "grid_template_areas": null,
            "grid_template_columns": null,
            "grid_template_rows": null,
            "height": null,
            "justify_content": null,
            "justify_items": null,
            "left": null,
            "margin": null,
            "max_height": null,
            "max_width": null,
            "min_height": null,
            "min_width": null,
            "object_fit": null,
            "object_position": null,
            "order": null,
            "overflow": null,
            "overflow_x": null,
            "overflow_y": null,
            "padding": null,
            "right": null,
            "top": null,
            "visibility": null,
            "width": "20px"
          }
        },
        "119c271dea5542bf83c0a915ca03cdba": {
          "model_module": "@jupyter-widgets/controls",
          "model_name": "ProgressStyleModel",
          "model_module_version": "1.5.0",
          "state": {
            "_model_module": "@jupyter-widgets/controls",
            "_model_module_version": "1.5.0",
            "_model_name": "ProgressStyleModel",
            "_view_count": null,
            "_view_module": "@jupyter-widgets/base",
            "_view_module_version": "1.2.0",
            "_view_name": "StyleView",
            "bar_color": null,
            "description_width": ""
          }
        },
        "1417b27938a04706ab5a55440f50916b": {
          "model_module": "@jupyter-widgets/base",
          "model_name": "LayoutModel",
          "model_module_version": "1.2.0",
          "state": {
            "_model_module": "@jupyter-widgets/base",
            "_model_module_version": "1.2.0",
            "_model_name": "LayoutModel",
            "_view_count": null,
            "_view_module": "@jupyter-widgets/base",
            "_view_module_version": "1.2.0",
            "_view_name": "LayoutView",
            "align_content": null,
            "align_items": null,
            "align_self": null,
            "border": null,
            "bottom": null,
            "display": null,
            "flex": null,
            "flex_flow": null,
            "grid_area": null,
            "grid_auto_columns": null,
            "grid_auto_flow": null,
            "grid_auto_rows": null,
            "grid_column": null,
            "grid_gap": null,
            "grid_row": null,
            "grid_template_areas": null,
            "grid_template_columns": null,
            "grid_template_rows": null,
            "height": null,
            "justify_content": null,
            "justify_items": null,
            "left": null,
            "margin": null,
            "max_height": null,
            "max_width": null,
            "min_height": null,
            "min_width": null,
            "object_fit": null,
            "object_position": null,
            "order": null,
            "overflow": null,
            "overflow_x": null,
            "overflow_y": null,
            "padding": null,
            "right": null,
            "top": null,
            "visibility": null,
            "width": null
          }
        },
        "ccedcc655d1f4c4dabe3c2451291c56b": {
          "model_module": "@jupyter-widgets/controls",
          "model_name": "DescriptionStyleModel",
          "model_module_version": "1.5.0",
          "state": {
            "_model_module": "@jupyter-widgets/controls",
            "_model_module_version": "1.5.0",
            "_model_name": "DescriptionStyleModel",
            "_view_count": null,
            "_view_module": "@jupyter-widgets/base",
            "_view_module_version": "1.2.0",
            "_view_name": "StyleView",
            "description_width": ""
          }
        },
        "e7ae13d3334447e69ce11ac85f26812c": {
          "model_module": "@jupyter-widgets/controls",
          "model_name": "HBoxModel",
          "model_module_version": "1.5.0",
          "state": {
            "_dom_classes": [],
            "_model_module": "@jupyter-widgets/controls",
            "_model_module_version": "1.5.0",
            "_model_name": "HBoxModel",
            "_view_count": null,
            "_view_module": "@jupyter-widgets/controls",
            "_view_module_version": "1.5.0",
            "_view_name": "HBoxView",
            "box_style": "",
            "children": [
              "IPY_MODEL_ee6a5a2aa6a045f78862552341ca699a",
              "IPY_MODEL_8cc0705da0114953a894b69da71d6376",
              "IPY_MODEL_116eb591769342cf86a96ffa9f664035"
            ],
            "layout": "IPY_MODEL_ab5e681ffc4b47d5a9066647c723bcc1"
          }
        },
        "ee6a5a2aa6a045f78862552341ca699a": {
          "model_module": "@jupyter-widgets/controls",
          "model_name": "HTMLModel",
          "model_module_version": "1.5.0",
          "state": {
            "_dom_classes": [],
            "_model_module": "@jupyter-widgets/controls",
            "_model_module_version": "1.5.0",
            "_model_name": "HTMLModel",
            "_view_count": null,
            "_view_module": "@jupyter-widgets/controls",
            "_view_module_version": "1.5.0",
            "_view_name": "HTMLView",
            "description": "",
            "description_tooltip": null,
            "layout": "IPY_MODEL_4ecf3f439f8248729104ba257fdbf80d",
            "placeholder": "​",
            "style": "IPY_MODEL_2802a4cab3ac4fbeaa9c1e63198c7cab",
            "value": "Shuffling ~/tensorflow_datasets/wmt_translate/cs-en/0.0.1.incompleteREF41T/wmt_translate-validation.tfrecord*...:   0%"
          }
        },
        "8cc0705da0114953a894b69da71d6376": {
          "model_module": "@jupyter-widgets/controls",
          "model_name": "FloatProgressModel",
          "model_module_version": "1.5.0",
          "state": {
            "_dom_classes": [],
            "_model_module": "@jupyter-widgets/controls",
            "_model_module_version": "1.5.0",
            "_model_name": "FloatProgressModel",
            "_view_count": null,
            "_view_module": "@jupyter-widgets/controls",
            "_view_module_version": "1.5.0",
            "_view_name": "ProgressView",
            "bar_style": "",
            "description": "",
            "description_tooltip": null,
            "layout": "IPY_MODEL_188c9228fd5f4777b7273dccecb2717f",
            "max": 2983,
            "min": 0,
            "orientation": "horizontal",
            "style": "IPY_MODEL_b1f0f47a71004a1f99b9abb77d0219d6",
            "value": 2983
          }
        },
        "116eb591769342cf86a96ffa9f664035": {
          "model_module": "@jupyter-widgets/controls",
          "model_name": "HTMLModel",
          "model_module_version": "1.5.0",
          "state": {
            "_dom_classes": [],
            "_model_module": "@jupyter-widgets/controls",
            "_model_module_version": "1.5.0",
            "_model_name": "HTMLModel",
            "_view_count": null,
            "_view_module": "@jupyter-widgets/controls",
            "_view_module_version": "1.5.0",
            "_view_name": "HTMLView",
            "description": "",
            "description_tooltip": null,
            "layout": "IPY_MODEL_bfd3b823bf2042f7b5c0b3e367849cfd",
            "placeholder": "​",
            "style": "IPY_MODEL_33d9a87086ff4db58fd5846ef6d7f4bb",
            "value": " 0/2983 [00:00&lt;?, ? examples/s]"
          }
        },
        "ab5e681ffc4b47d5a9066647c723bcc1": {
          "model_module": "@jupyter-widgets/base",
          "model_name": "LayoutModel",
          "model_module_version": "1.2.0",
          "state": {
            "_model_module": "@jupyter-widgets/base",
            "_model_module_version": "1.2.0",
            "_model_name": "LayoutModel",
            "_view_count": null,
            "_view_module": "@jupyter-widgets/base",
            "_view_module_version": "1.2.0",
            "_view_name": "LayoutView",
            "align_content": null,
            "align_items": null,
            "align_self": null,
            "border": null,
            "bottom": null,
            "display": null,
            "flex": null,
            "flex_flow": null,
            "grid_area": null,
            "grid_auto_columns": null,
            "grid_auto_flow": null,
            "grid_auto_rows": null,
            "grid_column": null,
            "grid_gap": null,
            "grid_row": null,
            "grid_template_areas": null,
            "grid_template_columns": null,
            "grid_template_rows": null,
            "height": null,
            "justify_content": null,
            "justify_items": null,
            "left": null,
            "margin": null,
            "max_height": null,
            "max_width": null,
            "min_height": null,
            "min_width": null,
            "object_fit": null,
            "object_position": null,
            "order": null,
            "overflow": null,
            "overflow_x": null,
            "overflow_y": null,
            "padding": null,
            "right": null,
            "top": null,
            "visibility": "hidden",
            "width": null
          }
        },
        "4ecf3f439f8248729104ba257fdbf80d": {
          "model_module": "@jupyter-widgets/base",
          "model_name": "LayoutModel",
          "model_module_version": "1.2.0",
          "state": {
            "_model_module": "@jupyter-widgets/base",
            "_model_module_version": "1.2.0",
            "_model_name": "LayoutModel",
            "_view_count": null,
            "_view_module": "@jupyter-widgets/base",
            "_view_module_version": "1.2.0",
            "_view_name": "LayoutView",
            "align_content": null,
            "align_items": null,
            "align_self": null,
            "border": null,
            "bottom": null,
            "display": null,
            "flex": null,
            "flex_flow": null,
            "grid_area": null,
            "grid_auto_columns": null,
            "grid_auto_flow": null,
            "grid_auto_rows": null,
            "grid_column": null,
            "grid_gap": null,
            "grid_row": null,
            "grid_template_areas": null,
            "grid_template_columns": null,
            "grid_template_rows": null,
            "height": null,
            "justify_content": null,
            "justify_items": null,
            "left": null,
            "margin": null,
            "max_height": null,
            "max_width": null,
            "min_height": null,
            "min_width": null,
            "object_fit": null,
            "object_position": null,
            "order": null,
            "overflow": null,
            "overflow_x": null,
            "overflow_y": null,
            "padding": null,
            "right": null,
            "top": null,
            "visibility": null,
            "width": null
          }
        },
        "2802a4cab3ac4fbeaa9c1e63198c7cab": {
          "model_module": "@jupyter-widgets/controls",
          "model_name": "DescriptionStyleModel",
          "model_module_version": "1.5.0",
          "state": {
            "_model_module": "@jupyter-widgets/controls",
            "_model_module_version": "1.5.0",
            "_model_name": "DescriptionStyleModel",
            "_view_count": null,
            "_view_module": "@jupyter-widgets/base",
            "_view_module_version": "1.2.0",
            "_view_name": "StyleView",
            "description_width": ""
          }
        },
        "188c9228fd5f4777b7273dccecb2717f": {
          "model_module": "@jupyter-widgets/base",
          "model_name": "LayoutModel",
          "model_module_version": "1.2.0",
          "state": {
            "_model_module": "@jupyter-widgets/base",
            "_model_module_version": "1.2.0",
            "_model_name": "LayoutModel",
            "_view_count": null,
            "_view_module": "@jupyter-widgets/base",
            "_view_module_version": "1.2.0",
            "_view_name": "LayoutView",
            "align_content": null,
            "align_items": null,
            "align_self": null,
            "border": null,
            "bottom": null,
            "display": null,
            "flex": null,
            "flex_flow": null,
            "grid_area": null,
            "grid_auto_columns": null,
            "grid_auto_flow": null,
            "grid_auto_rows": null,
            "grid_column": null,
            "grid_gap": null,
            "grid_row": null,
            "grid_template_areas": null,
            "grid_template_columns": null,
            "grid_template_rows": null,
            "height": null,
            "justify_content": null,
            "justify_items": null,
            "left": null,
            "margin": null,
            "max_height": null,
            "max_width": null,
            "min_height": null,
            "min_width": null,
            "object_fit": null,
            "object_position": null,
            "order": null,
            "overflow": null,
            "overflow_x": null,
            "overflow_y": null,
            "padding": null,
            "right": null,
            "top": null,
            "visibility": null,
            "width": null
          }
        },
        "b1f0f47a71004a1f99b9abb77d0219d6": {
          "model_module": "@jupyter-widgets/controls",
          "model_name": "ProgressStyleModel",
          "model_module_version": "1.5.0",
          "state": {
            "_model_module": "@jupyter-widgets/controls",
            "_model_module_version": "1.5.0",
            "_model_name": "ProgressStyleModel",
            "_view_count": null,
            "_view_module": "@jupyter-widgets/base",
            "_view_module_version": "1.2.0",
            "_view_name": "StyleView",
            "bar_color": null,
            "description_width": ""
          }
        },
        "bfd3b823bf2042f7b5c0b3e367849cfd": {
          "model_module": "@jupyter-widgets/base",
          "model_name": "LayoutModel",
          "model_module_version": "1.2.0",
          "state": {
            "_model_module": "@jupyter-widgets/base",
            "_model_module_version": "1.2.0",
            "_model_name": "LayoutModel",
            "_view_count": null,
            "_view_module": "@jupyter-widgets/base",
            "_view_module_version": "1.2.0",
            "_view_name": "LayoutView",
            "align_content": null,
            "align_items": null,
            "align_self": null,
            "border": null,
            "bottom": null,
            "display": null,
            "flex": null,
            "flex_flow": null,
            "grid_area": null,
            "grid_auto_columns": null,
            "grid_auto_flow": null,
            "grid_auto_rows": null,
            "grid_column": null,
            "grid_gap": null,
            "grid_row": null,
            "grid_template_areas": null,
            "grid_template_columns": null,
            "grid_template_rows": null,
            "height": null,
            "justify_content": null,
            "justify_items": null,
            "left": null,
            "margin": null,
            "max_height": null,
            "max_width": null,
            "min_height": null,
            "min_width": null,
            "object_fit": null,
            "object_position": null,
            "order": null,
            "overflow": null,
            "overflow_x": null,
            "overflow_y": null,
            "padding": null,
            "right": null,
            "top": null,
            "visibility": null,
            "width": null
          }
        },
        "33d9a87086ff4db58fd5846ef6d7f4bb": {
          "model_module": "@jupyter-widgets/controls",
          "model_name": "DescriptionStyleModel",
          "model_module_version": "1.5.0",
          "state": {
            "_model_module": "@jupyter-widgets/controls",
            "_model_module_version": "1.5.0",
            "_model_name": "DescriptionStyleModel",
            "_view_count": null,
            "_view_module": "@jupyter-widgets/base",
            "_view_module_version": "1.2.0",
            "_view_name": "StyleView",
            "description_width": ""
          }
        }
      }
    }
  },
  "nbformat": 4,
  "nbformat_minor": 0
}