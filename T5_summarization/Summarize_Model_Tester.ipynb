{
  "nbformat": 4,
  "nbformat_minor": 0,
  "metadata": {
    "colab": {
      "provenance": []
    },
    "kernelspec": {
      "name": "python3",
      "display_name": "Python 3"
    },
    "language_info": {
      "name": "python"
    }
  },
  "cells": [
    {
      "cell_type": "code",
      "source": [
        "#!pip install datasets transformers rouge-score nltk\n",
        "!pip install transformers"
      ],
      "metadata": {
        "colab": {
          "base_uri": "https://localhost:8080/"
        },
        "id": "222iOXCCBMPz",
        "outputId": "8b4ef51e-ed3c-4610-dcc0-1d6fc7759089"
      },
      "execution_count": null,
      "outputs": [
        {
          "output_type": "stream",
          "name": "stdout",
          "text": [
            "Looking in indexes: https://pypi.org/simple, https://us-python.pkg.dev/colab-wheels/public/simple/\n",
            "Requirement already satisfied: transformers in /usr/local/lib/python3.7/dist-packages (4.24.0)\n",
            "Requirement already satisfied: regex!=2019.12.17 in /usr/local/lib/python3.7/dist-packages (from transformers) (2022.6.2)\n",
            "Requirement already satisfied: filelock in /usr/local/lib/python3.7/dist-packages (from transformers) (3.8.0)\n",
            "Requirement already satisfied: pyyaml>=5.1 in /usr/local/lib/python3.7/dist-packages (from transformers) (6.0)\n",
            "Requirement already satisfied: tokenizers!=0.11.3,<0.14,>=0.11.1 in /usr/local/lib/python3.7/dist-packages (from transformers) (0.13.1)\n",
            "Requirement already satisfied: tqdm>=4.27 in /usr/local/lib/python3.7/dist-packages (from transformers) (4.64.1)\n",
            "Requirement already satisfied: numpy>=1.17 in /usr/local/lib/python3.7/dist-packages (from transformers) (1.21.6)\n",
            "Requirement already satisfied: packaging>=20.0 in /usr/local/lib/python3.7/dist-packages (from transformers) (21.3)\n",
            "Requirement already satisfied: requests in /usr/local/lib/python3.7/dist-packages (from transformers) (2.23.0)\n",
            "Requirement already satisfied: importlib-metadata in /usr/local/lib/python3.7/dist-packages (from transformers) (4.13.0)\n",
            "Requirement already satisfied: huggingface-hub<1.0,>=0.10.0 in /usr/local/lib/python3.7/dist-packages (from transformers) (0.10.1)\n",
            "Requirement already satisfied: typing-extensions>=3.7.4.3 in /usr/local/lib/python3.7/dist-packages (from huggingface-hub<1.0,>=0.10.0->transformers) (4.1.1)\n",
            "Requirement already satisfied: pyparsing!=3.0.5,>=2.0.2 in /usr/local/lib/python3.7/dist-packages (from packaging>=20.0->transformers) (3.0.9)\n",
            "Requirement already satisfied: zipp>=0.5 in /usr/local/lib/python3.7/dist-packages (from importlib-metadata->transformers) (3.10.0)\n",
            "Requirement already satisfied: idna<3,>=2.5 in /usr/local/lib/python3.7/dist-packages (from requests->transformers) (2.10)\n",
            "Requirement already satisfied: chardet<4,>=3.0.2 in /usr/local/lib/python3.7/dist-packages (from requests->transformers) (3.0.4)\n",
            "Requirement already satisfied: urllib3!=1.25.0,!=1.25.1,<1.26,>=1.21.1 in /usr/local/lib/python3.7/dist-packages (from requests->transformers) (1.25.11)\n",
            "Requirement already satisfied: certifi>=2017.4.17 in /usr/local/lib/python3.7/dist-packages (from requests->transformers) (2022.9.24)\n"
          ]
        }
      ]
    },
    {
      "cell_type": "code",
      "execution_count": null,
      "metadata": {
        "colab": {
          "base_uri": "https://localhost:8080/"
        },
        "id": "dsLBs_D0BH5j",
        "outputId": "99115742-27a3-4a74-ad06-9d8143601a80"
      },
      "outputs": [
        {
          "output_type": "stream",
          "name": "stderr",
          "text": [
            "Token indices sequence length is longer than the specified maximum sequence length for this model (690 > 512). Running this sequence through the model will result in indexing errors\n"
          ]
        },
        {
          "output_type": "stream",
          "name": "stdout",
          "text": [
            "original text preprocessed: \n",
            " In the case of inelastic momentum collisions the momentum is conserved while the kinetic energy is lost due to the energy transforming to deformation or other types of energies. The loss of energy from inelastic collision according to Table 3 has an average percent difference of 83.2% for when the weight of both the gilders was the same and  70.5% when the weight of gilder one was greater than gilder two. In Graph 5 and 6 the energy initial compared to final is always lower. The line best fit describes what the final kinetic energy after the collision should be if given initial kinetic energy for gilder one. This matches with the theory that kinetic energy is lost in an inelastic collisions, but in the case of momentum Table 1 shows a average percent difference of 9% for the same weight and 11% for the heavier glider one. This does not match up with conservation of momentum as in the experiment there is a loss of momentum. In addition, Graph 1 and 2 shows the loss of momentum for each individual run. The line best fit describes given initial momentum of gilder one what the momentum will be after the collision. The momentum should be the same but is lower or very close with the smallest percent difference being 8% from Table 1. The reason for the loss of momentum could be due to errors such as angle of the air track which could results in an outside force acting on the object.Furthermore in the case of a elastic momentum collision the kinetic energy and momentum should be conserved. Table 4 shows a 37.9% average loss of energy when the weights of the gilders were the same and 49.9% average loss of kinetic energy with a heavier gilder one. In Graph 7 and 8 there is energy loss for each of trails with the lowest percent difference of 26.5% in Table 4 for gilder with the same weight. The graphs line best fit represents the energy that should be present after elastic collision given energy for gilder one before the collision. In addition the momentum also does not seem to be conserved as in Table 2 the average percent difference for same weight gilders is 19.9% and heavier gilder one is 44.4%. Graph 3 and 4 show the loss of momentum for each trial with the line best fit representing the finial momentum after collision given initial momentum of gilder one. For most of the trials the percent difference is greater than 20% with the lowest being 13% in Table 2. The reason momentum is lost in the trial could be due to errors such as angle of the air track which could result in an outside force like gravity effecting the gilder, or that in the experiment it is always assumed that when gilder one collides elastically with gilder two all of gilders one’s momentum is transferred to glider two but in the actual experiment gilder one never came to a full stop hence all of the momentum was not transferred and some of the energy also remained with gilder one which is the reason why kinetic energy and momentum were not conserved in the elastic collision.\n",
            "\n",
            "\n",
            "Summarized text: \n",
            " in this paper, we present a new approach for the ghzburg - landau equation for lhc. the method is based on the study of the energy of energy and the system is used to study the effect of eigenvalues of two dimensional ( 2d ) equations in the presence of freedom : ( i.e. @xmath0 ; f.g. _ p. * phys * ( 3 + + h. rev ] \n"
          ]
        }
      ],
      "source": [
        "import torch\n",
        "import json \n",
        "from transformers import T5Tokenizer, T5ForConditionalGeneration, T5Config\n",
        "from transformers import AutoModelForSeq2SeqLM, AutoTokenizer\n",
        "\n",
        "model = AutoModelForSeq2SeqLM.from_pretrained(\"Dagar/t5-small-science-papers\")\n",
        "tokenizer = AutoTokenizer.from_pretrained('t5-small')\n",
        "device = torch.device('cpu')\n",
        "\n",
        "text =\"\"\"\n",
        "In the case of inelastic momentum collisions the momentum is conserved while the kinetic energy is lost due to the energy transforming to deformation or other types of energies. The loss of energy from inelastic collision according to Table 3 has an average percent difference of 83.2% for when the weight of both the gilders was the same and  70.5% when the weight of gilder one was greater than gilder two. In Graph 5 and 6 the energy initial compared to final is always lower. The line best fit describes what the final kinetic energy after the collision should be if given initial kinetic energy for gilder one. This matches with the theory that kinetic energy is lost in an inelastic collisions, but in the case of momentum Table 1 shows a average percent difference of 9% for the same weight and 11% for the heavier glider one. This does not match up with conservation of momentum as in the experiment there is a loss of momentum. In addition, Graph 1 and 2 shows the loss of momentum for each individual run. The line best fit describes given initial momentum of gilder one what the momentum will be after the collision. The momentum should be the same but is lower or very close with the smallest percent difference being 8% from Table 1. The reason for the loss of momentum could be due to errors such as angle of the air track which could results in an outside force acting on the object.\n",
        "\n",
        "Furthermore in the case of a elastic momentum collision the kinetic energy and momentum should be conserved. Table 4 shows a 37.9% average loss of energy when the weights of the gilders were the same and 49.9% average loss of kinetic energy with a heavier gilder one. In Graph 7 and 8 there is energy loss for each of trails with the lowest percent difference of 26.5% in Table 4 for gilder with the same weight. The graphs line best fit represents the energy that should be present after elastic collision given energy for gilder one before the collision. In addition the momentum also does not seem to be conserved as in Table 2 the average percent difference for same weight gilders is 19.9% and heavier gilder one is 44.4%. Graph 3 and 4 show the loss of momentum for each trial with the line best fit representing the finial momentum after collision given initial momentum of gilder one. For most of the trials the percent difference is greater than 20% with the lowest being 13% in Table 2. The reason momentum is lost in the trial could be due to errors such as angle of the air track which could result in an outside force like gravity effecting the gilder, or that in the experiment it is always assumed that when gilder one collides elastically with gilder two all of gilders one’s momentum is transferred to glider two but in the actual experiment gilder one never came to a full stop hence all of the momentum was not transferred and some of the energy also remained with gilder one which is the reason why kinetic energy and momentum were not conserved in the elastic collision.\n",
        "\n",
        "\"\"\"\n",
        "\n",
        "preprocess_text = text.strip().replace(\"\\n\",\"\")\n",
        "t5_prepared_Text = \"summarize: \"+preprocess_text\n",
        "print (\"original text preprocessed: \\n\", preprocess_text)\n",
        "\n",
        "tokenized_text = tokenizer.encode(t5_prepared_Text, return_tensors=\"pt\").to(device)\n",
        "\n",
        "\n",
        "# summmarize \n",
        "summary_ids = model.generate(tokenized_text,\n",
        "                                    num_beams=4,\n",
        "                                    no_repeat_ngram_size=2,\n",
        "                                    min_length=30,\n",
        "                                    max_length=128,\n",
        "                                    early_stopping=True)\n",
        "\n",
        "output = tokenizer.decode(summary_ids[0], skip_special_tokens=True)\n",
        "\n",
        "print (\"\\n\\nSummarized text: \\n\",output)"
      ]
    }
  ]
}